{
 "cells": [
  {
   "cell_type": "code",
   "execution_count": 115,
   "metadata": {},
   "outputs": [
    {
     "name": "stdout",
     "output_type": "stream",
     "text": [
      "['.' 'B' '.' 'B' 'B' '.' 'B' '.' '.' '.']\n"
     ]
    }
   ],
   "source": [
    "import numpy as np\n",
    "import random\n",
    "import matplotlib.pyplot as plt\n",
    "from ipywidgets import interactive\n",
    "from IPython.display import display\n",
    "import ipywidgets as widgets\n",
    "symbols = ['B','.']\n",
    "data_length = 10 # set it to >= 4\n",
    "\n",
    "# generate random data\n",
    "data = np.array([random.choice(symbols) for _ in range(data_length)])\n",
    "B_count = np.sum(data == 'B')\n",
    "print(data)"
   ]
  },
  {
   "cell_type": "code",
   "execution_count": 116,
   "metadata": {},
   "outputs": [
    {
     "name": "stdout",
     "output_type": "stream",
     "text": [
      "{'score': 2, 'start_pos': 1, 'end_pos': 3}\n"
     ]
    }
   ],
   "source": [
    "def get_longest_streak(data):\n",
    "    streaks = []\n",
    "    i = 0\n",
    "    max_score = 0\n",
    "    while i < len(data):\n",
    "        symbol = data[i]\n",
    "        if symbol == 'B':\n",
    "            score = 1\n",
    "            start_pos = i\n",
    "            while i < len(data):\n",
    "                try:\n",
    "                    if data[i+2] == 'B' and data[i+1] == '.':\n",
    "                        score += 1\n",
    "                        i += 2\n",
    "                    else:\n",
    "                        if score > max_score:\n",
    "                            max_score = score\n",
    "                        streaks.append({'score': score, 'start_pos': start_pos, 'end_pos': i})\n",
    "                        break\n",
    "                except IndexError:\n",
    "                    if score > max_score:\n",
    "                        max_score = score\n",
    "                    streaks.append({'score': score, 'start_pos': start_pos, 'end_pos': i})\n",
    "                    break\n",
    "        i += 1\n",
    "\n",
    "    # get all streaks with max_score\n",
    "    max_score_streaks = [streak for streak in streaks if streak['score'] == max_score]\n",
    "    \n",
    "    for streak in max_score_streaks:\n",
    "        # prevent zero length streaks\n",
    "        if streak['start_pos'] == streak['end_pos']:\n",
    "            streak['start_pos'] = 0\n",
    "            streak['end_pos'] = -1\n",
    "\n",
    "    if len(max_score_streaks) <= 2:\n",
    "        return max_score_streaks[0]\n",
    "    \n",
    "    distances = []\n",
    "    for i, streak in enumerate(max_score_streaks):\n",
    "        if i + 1 < len(max_score_streaks):\n",
    "            distances.append({\n",
    "                'distance': max_score_streaks[i+1]['start_pos'] - streak['end_pos'],\n",
    "                'streak' : streak\n",
    "            })\n",
    "    \n",
    "    # select streak with less distance between neighbour streak\n",
    "    closest_streak = min(distances, key=lambda x: x['distance'])['streak']\n",
    "    return closest_streak\n",
    "        \n",
    "longest_streak = get_longest_streak(data)\n",
    "print(longest_streak) "
   ]
  },
  {
   "cell_type": "code",
   "execution_count": 117,
   "metadata": {},
   "outputs": [
    {
     "name": "stdout",
     "output_type": "stream",
     "text": [
      "B's position must be even:  False\n",
      "Processing side: ['.']\n",
      "Swaps to make a streak on this side: 0\n",
      "(0, array([], dtype=float64))\n",
      "B's position must be even:  False\n",
      "Processing side: ['B' '.' 'B' '.' '.' '.']\n",
      "Swaps to make a streak on this side: 2\n",
      "(2, array([[1, 2],\n",
      "       [3, 0]], dtype=int64))\n"
     ]
    }
   ],
   "source": [
    "def swaps_to_streak(side_data, B_even):\n",
    "    '''\n",
    "    Input: np.array of side data, example: ['B', '.', '.', '.', '.', '.', 'B', 'B', '.']\n",
    "           B_even: Bool, should B be placed in even positions like [0,2,4,6...]\n",
    "    Output: number of swaps needed to continue the streak, for the example above it will be a 3, to make a streak like ['B', '.', 'B', '.', 'B', '.'...]\n",
    "    '''\n",
    "    B_even = not B_even # swap values, to match the pattern\n",
    "\n",
    "    B_indices = np.where(side_data == 'B')[0] # array of B's that were not used in swap\n",
    "    correct_Bs = B_indices[B_indices % 2 == B_even] # use correct B's if incorrent ran out\n",
    "    incorrect_Bs = B_indices[B_indices % 2 != B_even] # use incorrect B's first\n",
    "    B_indices = np.concatenate((correct_Bs, incorrect_Bs))\n",
    "    \n",
    "    dot_count = len(side_data) - len(B_indices)\n",
    "    swap_count = 0 # swaps done\n",
    "    swaps = [] # indices of swaps\n",
    "    if dot_count < len(B_indices):\n",
    "        # add N imaginary dots, they are already on other side\n",
    "        imaginary_dots = np.array(['.'] * (len(B_indices) - dot_count))\n",
    "        side_data = np.concatenate((side_data, imaginary_dots))\n",
    "\n",
    "    print(\"B's position must be even: \",not B_even)\n",
    "    print('Processing side:', side_data)\n",
    "    \n",
    "    for i in range(B_even, len(side_data), 2):\n",
    "        if not len(B_indices):\n",
    "            # no more B's to swap\n",
    "            break\n",
    "        \n",
    "\n",
    "        if side_data[i] == 'B':\n",
    "            if i not in B_indices:\n",
    "                # skip because this B was used in swap\n",
    "                continue\n",
    "            # B in correct position, prevent it from swapping in future\n",
    "            B_indices = B_indices[B_indices != i]\n",
    "\n",
    "        elif side_data[i] == '.':\n",
    "            # dot is in incorrect position, so swap it\n",
    "            swaps.append([i, B_indices[-1]])\n",
    "\n",
    "            B_indices = np.delete(B_indices, -1)\n",
    "            swap_count += 1\n",
    "    print('Swaps to make a streak on this side:', swap_count)\n",
    "    return (swap_count, np.array(swaps))\n",
    "\n",
    "\n",
    "\n",
    "# side = np.array(['B', '.', 'B', 'B', '.', '.', 'B', '.', '.', 'B'])\n",
    "left_side = np.flip((data[:longest_streak['start_pos']]))\n",
    "right_side = data[longest_streak['end_pos']+1:]\n",
    "print(swaps_to_streak(left_side, longest_streak['start_pos'] % 2 == 0)) # process left side\n",
    "print(swaps_to_streak(right_side, longest_streak['start_pos'] % 2 == 0)) # process right side\n",
    "\n"
   ]
  },
  {
   "cell_type": "code",
   "execution_count": 118,
   "metadata": {},
   "outputs": [],
   "source": [
    "def place_buckets(data, longest_streak):\n",
    "    '''\n",
    "    Input: np.array data, which has only two unique values B and . Example [. . B . B . . B]\n",
    "    Output: number of iterations to place B in the order like [B . B . B . . .], it is 3 in this case.\n",
    "    Function should return -1 if it is impossible.\n",
    "    So it has to be a . between two B.\n",
    "    '''\n",
    "    B_count = np.sum(data == 'B')\n",
    "    D_count = np.sum(data == '.')\n",
    "    if D_count - B_count < 0 or B_count < 2:\n",
    "        # it is impossible to sort, not enough space\n",
    "        return -1, []\n",
    "    \n",
    "    swap_count = 0 # init swap count \n",
    "    left_side = data[:longest_streak['start_pos']]\n",
    "    right_side = data[longest_streak['end_pos']+1:]\n",
    "    B_even = longest_streak['start_pos'] % 2 == 0\n",
    "\n",
    "    left_side = np.flip(left_side, axis=0) # flip the side to be equal positioned to right_side\n",
    "\n",
    "    left_side_swap_count, left_side_swaps = swaps_to_streak(left_side, B_even)\n",
    "    right_side_swap_count, right_side_swaps = swaps_to_streak(right_side, B_even)\n",
    "\n",
    "    left_side_swaps = np.abs(left_side_swaps - longest_streak['start_pos'] + 1) # shift indices to match the original data\n",
    "    right_side_swaps = right_side_swaps + longest_streak['end_pos'] + 1 # shift indices to match the original data\n",
    "    if(left_side_swaps.ndim != right_side_swaps.ndim):\n",
    "        # make them same dimensions\n",
    "        if left_side_swaps.ndim > right_side_swaps.ndim:\n",
    "            swaps = left_side_swaps\n",
    "        else:\n",
    "            swaps = right_side_swaps\n",
    "    else:\n",
    "        swaps = np.concatenate([left_side_swaps,right_side_swaps])\n",
    "\n",
    "    swap_count += left_side_swap_count + right_side_swap_count\n",
    "\n",
    "    return (swap_count, swaps)\n"
   ]
  },
  {
   "cell_type": "code",
   "execution_count": 119,
   "metadata": {},
   "outputs": [],
   "source": [
    "def visualize(data, swaps, iter):\n",
    "    '''\n",
    "    Input: swaps - list of tuples with indices of elements to swap like (1,2)\n",
    "    Output: None\n",
    "    '''\n",
    "\n",
    "    plt.figure()\n",
    "    # plt.axis('off')\n",
    "    # hide y axis\n",
    "    plt.yticks([])\n",
    "    plt.xticks([x for x in range(len(data))])\n",
    "    # make size normal\n",
    "    plt.xlim(-1, len(data))\n",
    "    plt.ylim(-1, 1)\n",
    "    visual_data = np.array(data, dtype=object)\n",
    "\n",
    "    for i, symbol in enumerate(visual_data):\n",
    "        # replace B with green, .(D) with blue\n",
    "        if symbol == 'B':\n",
    "            visual_data[i] = {'color': 'green', 'symbol': 'B'}\n",
    "        else:\n",
    "            visual_data[i] = {'color': 'blue', 'symbol': 'D'}\n",
    "\n",
    "    if iter != 0:\n",
    "        print(\"Iter:\"   , iter)\n",
    "        for i in range(iter):\n",
    "            # swap and color last swap red\n",
    "            if i == iter - 1:\n",
    "                print(\"Swapping:\", swaps[i])\n",
    "                visual_data[swaps[i][0]]['color'] = 'red'\n",
    "                visual_data[swaps[i][1]]['color'] = 'red'\n",
    "            visual_data[swaps[i][0]], visual_data[swaps[i][1]] = visual_data[swaps[i][1]], visual_data[swaps[i][0]]\n",
    "    else:\n",
    "        print(\"Initial data\")\n",
    "\n",
    "    for i, symbol in enumerate(visual_data):\n",
    "        # plot symbols\n",
    "        plt.text(i, 0, symbol['symbol'], horizontalalignment='center', verticalalignment='center', color=symbol['color'])\n",
    "\n",
    "    plt.show()\n"
   ]
  },
  {
   "cell_type": "code",
   "execution_count": 120,
   "metadata": {},
   "outputs": [
    {
     "name": "stdout",
     "output_type": "stream",
     "text": [
      "The longest streak of B's: {'score': 2, 'start_pos': 1, 'end_pos': 3}\n",
      "Current data:\n",
      " ['.' 'B' '.' 'B' 'B' '.' 'B' '.' '.' '.']\n",
      "==========  RESULT  ==========\n",
      "B's position must be even:  False\n",
      "Processing side: ['.']\n",
      "Swaps to make a streak on this side: 0\n",
      "B's position must be even:  False\n",
      "Processing side: ['B' '.' 'B' '.' '.' '.']\n",
      "Swaps to make a streak on this side: 2\n",
      "Required swaps: 2\n"
     ]
    },
    {
     "data": {
      "application/vnd.jupyter.widget-view+json": {
       "model_id": "abaaf02775534301bc338dc819f4e617",
       "version_major": 2,
       "version_minor": 0
      },
      "text/plain": [
       "interactive(children=(IntSlider(value=0, description='iter', max=2), Output()), _dom_classes=('widget-interact…"
      ]
     },
     "metadata": {},
     "output_type": "display_data"
    }
   ],
   "source": [
    "longest_streak = get_longest_streak(data)\n",
    "print(\"The longest streak of B's:\", longest_streak)\n",
    "print('Current data:\\n', data)\n",
    "print(\"=\"*10, \" RESULT \", \"=\"*10)\n",
    "swap_count, swaps = place_buckets(data, longest_streak)\n",
    "print('Required swaps:', swap_count)\n",
    "if(swap_count == -1):\n",
    "    print('It is impossible to sort this data')\n",
    "else:\n",
    "    # int slider interactive \n",
    "    iter_visual =  interactive(visualize, data=widgets.fixed(data), swaps=widgets.fixed(swaps), iter=widgets.IntSlider(min=0, max=swap_count, step=1, value=0))\n",
    "    display(iter_visual)\n",
    "\n"
   ]
  }
 ],
 "metadata": {
  "kernelspec": {
   "display_name": "Python 3",
   "language": "python",
   "name": "python3"
  },
  "language_info": {
   "codemirror_mode": {
    "name": "ipython",
    "version": 3
   },
   "file_extension": ".py",
   "mimetype": "text/x-python",
   "name": "python",
   "nbconvert_exporter": "python",
   "pygments_lexer": "ipython3",
   "version": "3.11.4"
  }
 },
 "nbformat": 4,
 "nbformat_minor": 5
}
