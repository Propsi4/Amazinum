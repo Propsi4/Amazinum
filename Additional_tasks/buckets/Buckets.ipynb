{
 "cells": [
  {
   "cell_type": "code",
   "execution_count": 370,
   "metadata": {},
   "outputs": [
    {
     "name": "stdout",
     "output_type": "stream",
     "text": [
      "['.' '.' 'B' '.' '.' '.' 'B' 'B' 'B' 'B' '.' 'B' 'B' '.' '.']\n"
     ]
    }
   ],
   "source": [
    "import numpy as np\n",
    "import random\n",
    "symbols = ['B','.']\n",
    "data_length = 15 # set it to >= 4\n",
    "\n",
    "# generate random data\n",
    "data = np.array([random.choice(symbols) for _ in range(data_length)])\n",
    "B_count = np.sum(data == 'B')\n",
    "print(data)\n"
   ]
  },
  {
   "cell_type": "code",
   "execution_count": 371,
   "metadata": {},
   "outputs": [
    {
     "name": "stdout",
     "output_type": "stream",
     "text": [
      "{'score': 2, 'start_pos': 9, 'end_pos': 11}\n"
     ]
    }
   ],
   "source": [
    "def get_longest_streak(data):\n",
    "    streaks = []\n",
    "    i = 0\n",
    "    max_score = 0\n",
    "    while i < len(data):\n",
    "        symbol = data[i]\n",
    "        if symbol == 'B':\n",
    "            score = 1\n",
    "            start_pos = i\n",
    "            while i < len(data):\n",
    "                try:\n",
    "                    if data[i+2] == 'B' and data[i+1] == '.':\n",
    "                        score += 1\n",
    "                        i += 2\n",
    "                    else:\n",
    "                        if score > max_score:\n",
    "                            max_score = score\n",
    "                        streaks.append({'score': score, 'start_pos': start_pos, 'end_pos': i})\n",
    "                        break\n",
    "                except IndexError:\n",
    "                    if score > max_score:\n",
    "                        max_score = score\n",
    "                    streaks.append({'score': score, 'start_pos': start_pos, 'end_pos': i})\n",
    "                    break\n",
    "        i += 1\n",
    "\n",
    "    # get all streaks with max_score\n",
    "    max_score_streaks = [streak for streak in streaks if streak['score'] == max_score]\n",
    "    \n",
    "    for streak in max_score_streaks:\n",
    "        # prevent zero length streaks\n",
    "        if streak['start_pos'] == streak['end_pos']:\n",
    "            streak['start_pos'] = 0\n",
    "            streak['end_pos'] = -1\n",
    "\n",
    "    if len(max_score_streaks) <= 2:\n",
    "        return max_score_streaks[0]\n",
    "    \n",
    "    distances = []\n",
    "    for i, streak in enumerate(max_score_streaks):\n",
    "        if i + 1 < len(max_score_streaks):\n",
    "            distances.append({\n",
    "                'distance': max_score_streaks[i+1]['start_pos'] - streak['end_pos'],\n",
    "                'streak' : streak\n",
    "            })\n",
    "    \n",
    "    # select streak with less distance between neighbour streak\n",
    "    closest_streak = min(distances, key=lambda x: x['distance'])['streak']\n",
    "    return closest_streak\n",
    "        \n",
    "longest_streak = get_longest_streak(data)\n",
    "print(longest_streak) "
   ]
  },
  {
   "cell_type": "code",
   "execution_count": 372,
   "metadata": {},
   "outputs": [],
   "source": [
    "        # b_neighbour = i+1 if B_even else i-1\n",
    "        # if b_neighbour in B_indices:\n",
    "        #     if (B_even or i != 0) and (i + 1 < len(side_data)):\n",
    "        #         # (B_even or i != 0) - if B_even is False(odd), then prevent from -1 index\n",
    "        #         # B in incorrect position, move B to the end of B_indices\n",
    "        #         # print('B in incorrect position', i, b_neighbour)\n",
    "        #         # print('a',side_data[b_neighbour])\n",
    "        #         # print(i,b_neighbour, np.where(B_indices == b_neighbour))\n",
    "        #         b_neighbour_index = np.where(B_indices == b_neighbour)[0][0] # find index of b_neighbour in B_indices\n",
    "        #         B_indices = np.concatenate((B_indices[:b_neighbour_index], B_indices[b_neighbour_index+1:], [b_neighbour]))\n"
   ]
  },
  {
   "cell_type": "code",
   "execution_count": 380,
   "metadata": {},
   "outputs": [
    {
     "name": "stdout",
     "output_type": "stream",
     "text": [
      "B's position must be even:  True\n",
      "Processing side: ['B' 'B' 'B' '.' '.' '.' 'B' '.' '.']\n",
      "Swaps to make a streak on this side: 3\n",
      "3\n",
      "B's position must be even:  True\n",
      "Processing side: ['B' '.' '.']\n",
      "Swaps to make a streak on this side: 1\n",
      "1\n"
     ]
    }
   ],
   "source": [
    "def swaps_to_streak(side_data, B_even):\n",
    "    '''\n",
    "    Input: np.array of side data, example: ['B', '.', '.', '.', '.', '.', 'B', 'B', '.']\n",
    "           B_even: Bool, should B be placed in even positions like [0,2,4,6...]\n",
    "    Output: number of swaps needed to continue the streak, for the example above it will be a 3, to make a streak like ['B', '.', 'B', '.', 'B', '.'...]\n",
    "    '''\n",
    "    B_even = not B_even # swap values, to match the pattern\n",
    "\n",
    "    B_indices = np.where(side_data == 'B')[0] # array of B's that were not used in swap\n",
    "    correct_Bs = B_indices[B_indices % 2 == B_even] # use correct B's if incorrent ran out\n",
    "    incorrect_Bs = B_indices[B_indices % 2 != B_even] # use incorrect B's first\n",
    "    B_indices = np.concatenate((correct_Bs, incorrect_Bs))\n",
    "    \n",
    "    dot_count = len(side_data) - len(B_indices)\n",
    "    swap_count = 0 # swaps done\n",
    "\n",
    "    if dot_count < len(B_indices):\n",
    "        # add N imaginary dots, they are already on other side\n",
    "        imaginary_dots = np.array(['.'] * (len(B_indices) - dot_count))\n",
    "        side_data = np.concatenate((side_data, imaginary_dots))\n",
    "\n",
    "    print(\"B's position must be even: \", B_even)\n",
    "    print('Processing side:', side_data)\n",
    "    \n",
    "    for i in range(B_even, len(side_data), 2):\n",
    "        if not len(B_indices):\n",
    "            # no more B's to swap\n",
    "            break\n",
    "        \n",
    "\n",
    "        if side_data[i] == 'B':\n",
    "            if i not in B_indices:\n",
    "                # skip because this B was used in swap\n",
    "                continue\n",
    "            # B in correct position, prevent it from swapping in future\n",
    "            B_indices = B_indices[B_indices != i]\n",
    "\n",
    "        elif side_data[i] == '.':\n",
    "            # dot is in incorrect position, so swap it\n",
    "            B_indices = np.delete(B_indices, -1)\n",
    "            swap_count += 1\n",
    "    print('Swaps to make a streak on this side:', swap_count)\n",
    "    return swap_count\n",
    "\n",
    "\n",
    "\n",
    "# side = np.array(['B', '.', 'B', 'B', '.', '.', 'B', '.', '.', 'B'])\n",
    "left_side = np.flip((data[:longest_streak['start_pos']]))\n",
    "right_side = data[longest_streak['end_pos']+1:]\n",
    "print(swaps_to_streak(left_side, longest_streak['start_pos'] % 2 == 0)) # process left side\n",
    "print(swaps_to_streak(right_side, longest_streak['start_pos'] % 2 == 0)) # process right side\n",
    "\n"
   ]
  },
  {
   "cell_type": "code",
   "execution_count": 374,
   "metadata": {},
   "outputs": [],
   "source": [
    "def place_buckets(data, longest_streak):\n",
    "    '''\n",
    "    Input: np.array data, which has only two unique values B and . Example [. . B . B . . B]\n",
    "    Output: number of iterations to place B in the order like [B . B . B . . .], it is 3 in this case.\n",
    "    Function should return -1 if it is impossible.\n",
    "    So it has to be a . between two B.\n",
    "    '''\n",
    "    B_count = np.sum(data == 'B')\n",
    "    if (len(data) - B_count + 1) - B_count < 0 or B_count < 2:\n",
    "        # it is impossible to sort, not enough space\n",
    "        return -1\n",
    "    \n",
    "    swap_count = 0 # init swap count \n",
    "\n",
    "    left_side = data[:longest_streak['start_pos']]\n",
    "    right_side = data[longest_streak['end_pos']+1:]\n",
    "    B_even = longest_streak['start_pos'] % 2 == 0\n",
    "\n",
    "    left_side = np.flip(left_side, axis=0) # flip the side to be equal positioned to right_side\n",
    "    swap_count += swaps_to_streak(left_side, B_even) + swaps_to_streak(right_side, B_even)\n",
    "  \n",
    "    return swap_count\n"
   ]
  },
  {
   "cell_type": "code",
   "execution_count": 381,
   "metadata": {},
   "outputs": [
    {
     "name": "stdout",
     "output_type": "stream",
     "text": [
      "The longest streak of B's: {'score': 2, 'start_pos': 9, 'end_pos': 11}\n",
      "Current data:\n",
      " ['.' '.' 'B' '.' '.' '.' 'B' 'B' 'B' 'B' '.' 'B' 'B' '.' '.']\n",
      "==========  RESULT  ==========\n",
      "B's position must be even:  True\n",
      "Processing side: ['B' 'B' 'B' '.' '.' '.' 'B' '.' '.']\n",
      "Swaps to make a streak on this side: 3\n",
      "B's position must be even:  True\n",
      "Processing side: ['B' '.' '.']\n",
      "Swaps to make a streak on this side: 1\n",
      "Required swaps: 4\n"
     ]
    }
   ],
   "source": [
    "longest_streak = get_longest_streak(data)\n",
    "print(\"The longest streak of B's:\", longest_streak)\n",
    "print('Current data:\\n', data)\n",
    "print(\"=\"*10, \" RESULT \", \"=\"*10)\n",
    "print('Required swaps:', place_buckets(data, longest_streak))\n"
   ]
  }
 ],
 "metadata": {
  "kernelspec": {
   "display_name": "Python 3",
   "language": "python",
   "name": "python3"
  },
  "language_info": {
   "codemirror_mode": {
    "name": "ipython",
    "version": 3
   },
   "file_extension": ".py",
   "mimetype": "text/x-python",
   "name": "python",
   "nbconvert_exporter": "python",
   "pygments_lexer": "ipython3",
   "version": "3.11.4"
  }
 },
 "nbformat": 4,
 "nbformat_minor": 5
}
