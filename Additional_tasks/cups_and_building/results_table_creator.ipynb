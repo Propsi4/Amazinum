{
 "cells": [
  {
   "cell_type": "markdown",
   "metadata": {},
   "source": [
    "### Cups and Buildings Table Creator"
   ]
  },
  {
   "cell_type": "markdown",
   "metadata": {},
   "source": [
    "```\n",
    "OPTIONAL\n",
    "Create a dataframe with results\n",
    "Use only to recreate the dataframe with other parameters\n",
    "```"
   ]
  },
  {
   "cell_type": "code",
   "execution_count": 1,
   "metadata": {},
   "outputs": [],
   "source": [
    "import pandas as pd"
   ]
  },
  {
   "cell_type": "code",
   "execution_count": 7,
   "metadata": {},
   "outputs": [],
   "source": [
    "max_cups = 5\n",
    "max_floors = 1000"
   ]
  },
  {
   "cell_type": "code",
   "execution_count": 6,
   "metadata": {},
   "outputs": [],
   "source": [
    "def cupDrop(cups, floors):\n",
    "    # Create a table to store results of subproblems\n",
    "    dp = [[0 for _ in range(floors+1)] for _ in range(cups+1)]\n",
    "\n",
    "    # Initialize table with 0 and 1 values\n",
    "    for cup in range(1, cups+1):\n",
    "        dp[cup][1] = 1\n",
    "        dp[cup][0] = 0\n",
    "\n",
    "    # One cup strategy\n",
    "    for floor in range(1, floors+1):\n",
    "        dp[1][floor] = floor\n",
    "\n",
    "    # Fill rest of the entries in table using optimal strategy\n",
    "    for cup in range(2, cups+1):\n",
    "\n",
    "        for floor in range(2, floors+1):\n",
    "            dp[cup][floor] = float('inf')\n",
    "\n",
    "            for x in range(1, floor+1):\n",
    "                res = 1 + max(dp[cup-1][x-1], dp[cup][floor-x])\n",
    "\n",
    "                if res < dp[cup][floor]: # min\n",
    "                    dp[cup][floor] = res\n",
    "\n",
    "    # dp[cup][floor] holds the result\n",
    "    df = pd.DataFrame(dp)\n",
    "    df = df.rename_axis('Cups').rename_axis('Floors', axis='columns').astype('Int64')\n",
    "    return df\n",
    "\n",
    "# Get dataframe of results\n",
    "df = cupDrop(cups=max_cups, floors=max_floors)\n",
    "\n",
    "# Save the results to excel\n",
    "df.to_excel('cupDrop.xlsx') # df.loc[cups, floors]"
   ]
  },
  {
   "cell_type": "code",
   "execution_count": 161,
   "metadata": {},
   "outputs": [],
   "source": []
  }
 ],
 "metadata": {
  "kernelspec": {
   "display_name": "Python 3",
   "language": "python",
   "name": "python3"
  },
  "language_info": {
   "codemirror_mode": {
    "name": "ipython",
    "version": 3
   },
   "file_extension": ".py",
   "mimetype": "text/x-python",
   "name": "python",
   "nbconvert_exporter": "python",
   "pygments_lexer": "ipython3",
   "version": "3.11.4"
  }
 },
 "nbformat": 4,
 "nbformat_minor": 2
}
