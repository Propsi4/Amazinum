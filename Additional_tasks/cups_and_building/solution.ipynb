{
 "cells": [
  {
   "cell_type": "markdown",
   "metadata": {},
   "source": [
    "### Cups and Buildings"
   ]
  },
  {
   "cell_type": "code",
   "execution_count": 162,
   "metadata": {},
   "outputs": [],
   "source": [
    "import math\n",
    "import numpy as np"
   ]
  },
  {
   "cell_type": "code",
   "execution_count": 235,
   "metadata": {},
   "outputs": [],
   "source": [
    "def min_steps(cups, floors):\n",
    "    '''\n",
    "    cups: number of cups, \n",
    "    cups = 2 - if you have 2 cups, so means first cup will be broken, and second cup will be used like iterative strategy\n",
    "    cups = 1 - if you have 1 cup, so means you can use iterative strategy\n",
    "    floors: number of floors\n",
    "    '''\n",
    "\n",
    "    if cups not in [1, 2]:\n",
    "        raise ValueError(\"cups must be 1 or 2\")\n",
    "    \n",
    "    if cups == 1: # iterative strategy\n",
    "        print(\"Using 1 cup strategy\")\n",
    "        return floors\n",
    "    \n",
    "    # 2 cups strategy\n",
    "    print(\"Using 2 cups strategy\")\n",
    "\n",
    "    # x(x+1)/2 = floors, x^2 + x - 2*floors = 0: a = 1, b = 1, c = -2*floors ; Discriminant\n",
    "    discriminant = 1 + 8 * floors # b^2 - 4ac\n",
    "    x = (-1. + math.sqrt(discriminant)) / 2 # (-b + sqrt(discriminant)) / 2a\n",
    "\n",
    "    return math.ceil(x)\n"
   ]
  },
  {
   "cell_type": "code",
   "execution_count": 274,
   "metadata": {},
   "outputs": [],
   "source": [
    "def split_number(number, cups, save_cups):\n",
    "    return math.ceil(number / ((cups - save_cups)*2))"
   ]
  },
  {
   "cell_type": "markdown",
   "metadata": {},
   "source": [
    "### 100 floors, 2 cups"
   ]
  },
  {
   "cell_type": "code",
   "execution_count": 293,
   "metadata": {},
   "outputs": [
    {
     "name": "stdout",
     "output_type": "stream",
     "text": [
      "Init building...\n",
      "Floors: 100\n",
      "Cups: 2\n",
      "Using 2 cups strategy\n",
      "Min steps:  14 steps\n"
     ]
    }
   ],
   "source": [
    "print(\"Init building...\")\n",
    "print(\"Floors: 100\")\n",
    "print(\"Cups: 2\")\n",
    "\n",
    "\n",
    "# use 2 cups strategy\n",
    "# 2/2 cups alive\n",
    "x = min_steps(2,100) \n",
    "# 0/2 cups alive coz used 2 cups strategy and iterative strategy\n",
    "\n",
    "print(\"Min steps: \", x, \"steps\")"
   ]
  },
  {
   "cell_type": "markdown",
   "metadata": {},
   "source": [
    "### 1000 floors, 3 cups"
   ]
  },
  {
   "cell_type": "code",
   "execution_count": 297,
   "metadata": {},
   "outputs": [
    {
     "name": "stdout",
     "output_type": "stream",
     "text": [
      "Init building...\n",
      "Floors: 1000\n",
      "Cups: 3\n",
      "new_floor:  500\n",
      "Using 2 cups strategy\n",
      "Min steps:  33 steps\n"
     ]
    }
   ],
   "source": [
    "print(\"Init building...\")\n",
    "print(\"Floors: 1000\")\n",
    "print(\"Cups: 3\")\n",
    "\n",
    "# 3/3 cups alive\n",
    "new_floor = split_number(number=1000, cups=3, save_cups=2)\n",
    "print(\"new_floor: \", new_floor)\n",
    "# 2/3 cups alive, 1 step used\n",
    "\n",
    "# use 2 cups strategy\n",
    "# 2/3 cups alive\n",
    "x = min_steps(2, new_floor) + 1 # +1 coz we have done 1 step before\n",
    "# 0/3 cups alive coz used 2 cups strategy and iterative strategy\n",
    "\n",
    "\n",
    "print(\"Min steps: \", x, \"steps\")"
   ]
  },
  {
   "cell_type": "markdown",
   "metadata": {},
   "source": [
    "### 1000 floors, 5 cups"
   ]
  },
  {
   "cell_type": "code",
   "execution_count": 298,
   "metadata": {},
   "outputs": [
    {
     "name": "stdout",
     "output_type": "stream",
     "text": [
      "Init building...\n",
      "Floors: 1000\n",
      "Cups: 5\n",
      "new_floor:  167\n",
      "Using 2 cups strategy\n",
      "Min steps:  21 steps\n"
     ]
    }
   ],
   "source": [
    "print(\"Init building...\")\n",
    "print(\"Floors: 1000\")\n",
    "print(\"Cups: 5\")\n",
    "\n",
    "# 5/5 cups alive\n",
    "new_floor = split_number(number=1000, cups=5, save_cups=2)\n",
    "print(\"new_floor: \", new_floor)\n",
    "# 2/5 cups alive, 3 steps used\n",
    "\n",
    "# use 2 cups strategy\n",
    "# 2/5 cups alive\n",
    "x = min_steps(2,new_floor) + 3 # +3 coz we have done 3 steps before\n",
    "# 0/3 cups alive coz used 2 cups strategy and iterative strategy\n",
    "\n",
    "\n",
    "print(\"Min steps: \", x, \"steps\")"
   ]
  }
 ],
 "metadata": {
  "kernelspec": {
   "display_name": "Python 3",
   "language": "python",
   "name": "python3"
  },
  "language_info": {
   "codemirror_mode": {
    "name": "ipython",
    "version": 3
   },
   "file_extension": ".py",
   "mimetype": "text/x-python",
   "name": "python",
   "nbconvert_exporter": "python",
   "pygments_lexer": "ipython3",
   "version": "3.11.4"
  }
 },
 "nbformat": 4,
 "nbformat_minor": 2
}
