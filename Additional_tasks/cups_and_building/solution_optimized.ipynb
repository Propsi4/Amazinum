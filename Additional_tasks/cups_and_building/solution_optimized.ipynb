{
 "cells": [
  {
   "cell_type": "markdown",
   "metadata": {},
   "source": [
    "### Cups and Buildings"
   ]
  },
  {
   "cell_type": "code",
   "execution_count": 139,
   "metadata": {},
   "outputs": [],
   "source": [
    "import pandas as pd"
   ]
  },
  {
   "cell_type": "markdown",
   "metadata": {},
   "source": [
    "#### Load data with results\n"
   ]
  },
  {
   "cell_type": "code",
   "execution_count": 162,
   "metadata": {},
   "outputs": [],
   "source": [
    "def load_data():\n",
    "    df = pd.read_excel('cupDrop.xlsx', index_col=0)\n",
    "    return df\n",
    "\n",
    "data = load_data()"
   ]
  },
  {
   "cell_type": "markdown",
   "metadata": {},
   "source": [
    "### 100 floors, 2 cups"
   ]
  },
  {
   "cell_type": "code",
   "execution_count": 164,
   "metadata": {},
   "outputs": [
    {
     "name": "stdout",
     "output_type": "stream",
     "text": [
      "Init building...\n",
      "Floors: 100\n",
      "Cups: 2\n",
      "Min steps:  14 steps\n"
     ]
    }
   ],
   "source": [
    "print(\"Init building...\")\n",
    "print(\"Floors: 100\")\n",
    "print(\"Cups: 2\")\n",
    "\n",
    "x = data.loc[2, 100]\n",
    "\n",
    "print(\"Min steps: \", x, \"steps\")"
   ]
  },
  {
   "cell_type": "markdown",
   "metadata": {},
   "source": [
    "### 1000 floors, 3 cups"
   ]
  },
  {
   "cell_type": "code",
   "execution_count": 165,
   "metadata": {},
   "outputs": [
    {
     "name": "stdout",
     "output_type": "stream",
     "text": [
      "Init building...\n",
      "Floors: 1000\n",
      "Cups: 3\n",
      "Min steps:  19 steps\n"
     ]
    }
   ],
   "source": [
    "print(\"Init building...\")\n",
    "print(\"Floors: 1000\")\n",
    "print(\"Cups: 3\")\n",
    "\n",
    "x = data.loc[3, 1000]\n",
    "\n",
    "print(\"Min steps: \", x, \"steps\")"
   ]
  },
  {
   "cell_type": "markdown",
   "metadata": {},
   "source": [
    "### 1000 floors, 5 cups"
   ]
  },
  {
   "cell_type": "code",
   "execution_count": 37,
   "metadata": {},
   "outputs": [
    {
     "name": "stdout",
     "output_type": "stream",
     "text": [
      "Init building...\n",
      "Floors: 1000\n",
      "Cups: 5\n",
      "Min steps:  11 steps\n"
     ]
    }
   ],
   "source": [
    "print(\"Init building...\")\n",
    "print(\"Floors: 1000\")\n",
    "print(\"Cups: 5\")\n",
    "\n",
    "x = data.loc[5, 1000]\n",
    "\n",
    "print(\"Min steps: \", x, \"steps\")"
   ]
  }
 ],
 "metadata": {
  "kernelspec": {
   "display_name": "Python 3",
   "language": "python",
   "name": "python3"
  },
  "language_info": {
   "codemirror_mode": {
    "name": "ipython",
    "version": 3
   },
   "file_extension": ".py",
   "mimetype": "text/x-python",
   "name": "python",
   "nbconvert_exporter": "python",
   "pygments_lexer": "ipython3",
   "version": "3.11.4"
  }
 },
 "nbformat": 4,
 "nbformat_minor": 2
}
