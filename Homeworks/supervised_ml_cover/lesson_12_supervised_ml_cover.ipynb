{
 "cells": [
  {
   "cell_type": "markdown",
   "metadata": {},
   "source": [
    "<font color = green >\n",
    "\n",
    "# Supervised ML cover\n",
    "    \n",
    "## Grid earch \n",
    "    \n",
    "</font>"
   ]
  },
  {
   "cell_type": "code",
   "execution_count": 1,
   "metadata": {},
   "outputs": [],
   "source": [
    "import matplotlib.pyplot as plt\n",
    "import numpy as np\n",
    "import pandas as pd"
   ]
  },
  {
   "cell_type": "code",
   "execution_count": 29,
   "metadata": {},
   "outputs": [],
   "source": [
    "%matplotlib inline"
   ]
  },
  {
   "cell_type": "code",
   "execution_count": 3,
   "metadata": {},
   "outputs": [],
   "source": [
    "from sklearn.model_selection import GridSearchCV\n",
    "from sklearn.metrics import roc_auc_score\n",
    "from sklearn.datasets import load_digits\n",
    "from sklearn.model_selection import train_test_split\n",
    "from sklearn.svm import SVC"
   ]
  },
  {
   "cell_type": "code",
   "execution_count": 4,
   "metadata": {},
   "outputs": [],
   "source": [
    "digits = load_digits()\n",
    "X, y = digits.data, digits.target == 1\n",
    "X_train, X_test, y_train, y_test = train_test_split(X, y, random_state=0)"
   ]
  },
  {
   "cell_type": "markdown",
   "metadata": {},
   "source": [
    "<font color = green >\n",
    "\n",
    "### Grid search by $\\gamma$ parameter   of SVC\n",
    "</font>"
   ]
  },
  {
   "cell_type": "code",
   "execution_count": 5,
   "metadata": {},
   "outputs": [],
   "source": [
    "clf = SVC(kernel='rbf') \n",
    "grid_values = {'gamma': [0.001, 0.01, 0.05, 0.1, 1, 10, 100]} # provide param and range"
   ]
  },
  {
   "cell_type": "code",
   "execution_count": 6,
   "metadata": {},
   "outputs": [
    {
     "name": "stdout",
     "output_type": "stream",
     "text": [
      "Grid best parameter (max. accuracy):  {'gamma': 0.001}\n",
      "Grid best score (accuracy):  0.9985157648354676\n"
     ]
    }
   ],
   "source": [
    "grid_clf = GridSearchCV(clf, param_grid = grid_values, return_train_score=True) # create grid search \n",
    "# return_train_score=True  allowas to access the intermediate scores \n",
    "grid_clf.fit(X_train, y_train)\n",
    "print('Grid best parameter (max. accuracy): ', grid_clf.best_params_)\n",
    "print('Grid best score (accuracy): ', grid_clf.best_score_)\n"
   ]
  },
  {
   "cell_type": "code",
   "execution_count": 7,
   "metadata": {},
   "outputs": [
    {
     "name": "stdout",
     "output_type": "stream",
     "text": [
      "Grid best score (accuracy):  0.9985157648354676\n",
      "[1. 1. 1. 1. 1. 1. 1.]\n",
      "[0.99851576 0.92056726 0.89680848 0.89680848 0.89680848 0.89680848\n",
      " 0.89680848]\n"
     ]
    },
    {
     "data": {
      "text/plain": [
       "{'mean_fit_time': array([0.02093868, 0.11939058, 0.11799293, 0.12096052, 0.20282149,\n",
       "        0.20544214, 0.19369655]),\n",
       " 'std_fit_time': array([0.0088652 , 0.02540727, 0.03396421, 0.03054747, 0.05711356,\n",
       "        0.02872588, 0.04362667]),\n",
       " 'mean_score_time': array([0.01127315, 0.06175847, 0.060218  , 0.06211777, 0.07952676,\n",
       "        0.06247177, 0.07349663]),\n",
       " 'std_score_time': array([0.00180066, 0.01965661, 0.02087954, 0.01574251, 0.02141084,\n",
       "        0.01076708, 0.01757707]),\n",
       " 'param_gamma': masked_array(data=[0.001, 0.01, 0.05, 0.1, 1, 10, 100],\n",
       "              mask=[False, False, False, False, False, False, False],\n",
       "        fill_value='?',\n",
       "             dtype=object),\n",
       " 'params': [{'gamma': 0.001},\n",
       "  {'gamma': 0.01},\n",
       "  {'gamma': 0.05},\n",
       "  {'gamma': 0.1},\n",
       "  {'gamma': 1},\n",
       "  {'gamma': 10},\n",
       "  {'gamma': 100}],\n",
       " 'split0_test_score': array([0.9962963 , 0.91851852, 0.8962963 , 0.8962963 , 0.8962963 ,\n",
       "        0.8962963 , 0.8962963 ]),\n",
       " 'split1_test_score': array([1.        , 0.91851852, 0.8962963 , 0.8962963 , 0.8962963 ,\n",
       "        0.8962963 , 0.8962963 ]),\n",
       " 'split2_test_score': array([0.99628253, 0.91449814, 0.89962825, 0.89962825, 0.89962825,\n",
       "        0.89962825, 0.89962825]),\n",
       " 'split3_test_score': array([1.        , 0.92193309, 0.89591078, 0.89591078, 0.89591078,\n",
       "        0.89591078, 0.89591078]),\n",
       " 'split4_test_score': array([1.        , 0.92936803, 0.89591078, 0.89591078, 0.89591078,\n",
       "        0.89591078, 0.89591078]),\n",
       " 'mean_test_score': array([0.99851576, 0.92056726, 0.89680848, 0.89680848, 0.89680848,\n",
       "        0.89680848, 0.89680848]),\n",
       " 'std_test_score': array([0.00181781, 0.00499095, 0.00142039, 0.00142039, 0.00142039,\n",
       "        0.00142039, 0.00142039]),\n",
       " 'rank_test_score': array([1, 2, 3, 3, 3, 3, 3]),\n",
       " 'split0_train_score': array([1., 1., 1., 1., 1., 1., 1.]),\n",
       " 'split1_train_score': array([1., 1., 1., 1., 1., 1., 1.]),\n",
       " 'split2_train_score': array([1., 1., 1., 1., 1., 1., 1.]),\n",
       " 'split3_train_score': array([1., 1., 1., 1., 1., 1., 1.]),\n",
       " 'split4_train_score': array([1., 1., 1., 1., 1., 1., 1.]),\n",
       " 'mean_train_score': array([1., 1., 1., 1., 1., 1., 1.]),\n",
       " 'std_train_score': array([0., 0., 0., 0., 0., 0., 0.])}"
      ]
     },
     "execution_count": 7,
     "metadata": {},
     "output_type": "execute_result"
    }
   ],
   "source": [
    "print('Grid best score (accuracy): ', grid_clf.best_score_)\n",
    "print (grid_clf.cv_results_['mean_train_score'])\n",
    "print (grid_clf.cv_results_['mean_test_score'])\n",
    "grid_clf.cv_results_\n"
   ]
  },
  {
   "cell_type": "code",
   "execution_count": 8,
   "metadata": {},
   "outputs": [
    {
     "name": "stdout",
     "output_type": "stream",
     "text": [
      "0.9977777777777778\n",
      "0.9977777777777778\n",
      "0.09333333333333334\n",
      "0.09333333333333334\n"
     ]
    }
   ],
   "source": [
    "print (grid_clf.best_estimator_.score(X_test, y_test))\n",
    "print (grid_clf.score(X_test, y_test))\n",
    "print (np.mean(grid_clf.best_estimator_.predict(X_test)))\n",
    "print (np.mean(grid_clf.predict(X_test)))\n"
   ]
  },
  {
   "cell_type": "markdown",
   "metadata": {},
   "source": [
    "#### Note: you may use `grid_clf` the same as `grid_clf.best_estimator_` "
   ]
  },
  {
   "cell_type": "markdown",
   "metadata": {},
   "source": [
    "<font color = green >\n",
    "\n",
    "### Grid search using roc_auc \n",
    "</font>"
   ]
  },
  {
   "cell_type": "code",
   "execution_count": 9,
   "metadata": {},
   "outputs": [
    {
     "name": "stdout",
     "output_type": "stream",
     "text": [
      "Test set AUC:  0.99982858122393\n",
      "Grid best parameter (max. AUC):  {'gamma': 0.001}\n",
      "Grid best score (AUC):  1.0\n",
      "Test set AUC:  0.99982858122393\n"
     ]
    }
   ],
   "source": [
    "grid_clf_auc = GridSearchCV(clf, param_grid = grid_values, scoring = 'roc_auc')\n",
    "grid_clf_auc.fit(X_train, y_train)\n",
    "\n",
    "# compute the roc_auc using predicted decisions_functions \n",
    "y_grid_auc_scores = grid_clf_auc.decision_function(X_test)\n",
    "print('Test set AUC: ', roc_auc_score(y_test, y_grid_auc_scores))\n",
    "\n",
    "# derive roc_auc from grid_search\n",
    "print('Grid best parameter (max. AUC): ', grid_clf_auc.best_params_)\n",
    "print('Grid best score (AUC): ', grid_clf_auc.best_score_)\n",
    "\n",
    "# Note:  values mentioned above  may differ due to split difference \n",
    "\n",
    "# compare to w/o grid serach  \n",
    "clf = SVC(kernel='rbf', gamma=0.001).fit(X_train,y_train) \n",
    "y_scores = clf.decision_function(X_test)\n",
    "print('Test set AUC: ', roc_auc_score(y_test, y_scores))"
   ]
  },
  {
   "cell_type": "markdown",
   "metadata": {},
   "source": [
    "<font color = green >\n",
    "\n",
    "### Supported metrics \n",
    "</font>"
   ]
  },
  {
   "cell_type": "code",
   "execution_count": 11,
   "metadata": {},
   "outputs": [
    {
     "ename": "ImportError",
     "evalue": "cannot import name 'SCORERS' from 'sklearn.metrics' (C:\\Users\\acer\\AppData\\Local\\Programs\\Python\\Python311\\Lib\\site-packages\\sklearn\\metrics\\__init__.py)",
     "output_type": "error",
     "traceback": [
      "\u001b[1;31m---------------------------------------------------------------------------\u001b[0m",
      "\u001b[1;31mImportError\u001b[0m                               Traceback (most recent call last)",
      "Cell \u001b[1;32mIn[11], line 1\u001b[0m\n\u001b[1;32m----> 1\u001b[0m \u001b[38;5;28;01mfrom\u001b[39;00m \u001b[38;5;21;01msklearn\u001b[39;00m\u001b[38;5;21;01m.\u001b[39;00m\u001b[38;5;21;01mmetrics\u001b[39;00m \u001b[38;5;28;01mimport\u001b[39;00m SCORERS\n\u001b[0;32m      2\u001b[0m \u001b[38;5;28mprint\u001b[39m(\u001b[38;5;28msorted\u001b[39m(\u001b[38;5;28mlist\u001b[39m(SCORERS\u001b[38;5;241m.\u001b[39mkeys())))\n",
      "\u001b[1;31mImportError\u001b[0m: cannot import name 'SCORERS' from 'sklearn.metrics' (C:\\Users\\acer\\AppData\\Local\\Programs\\Python\\Python311\\Lib\\site-packages\\sklearn\\metrics\\__init__.py)"
     ]
    }
   ],
   "source": [
    "from sklearn.metrics import SCORERS\n",
    "print(sorted(list(SCORERS.keys())))"
   ]
  },
  {
   "cell_type": "markdown",
   "metadata": {},
   "source": [
    "<font color = green >\n",
    "\n",
    "### Grid Search by multi metrics\n",
    "</font>"
   ]
  },
  {
   "cell_type": "code",
   "execution_count": 12,
   "metadata": {},
   "outputs": [],
   "source": [
    "from sklearn.tree import DecisionTreeClassifier\n",
    "from sklearn.datasets import load_breast_cancer"
   ]
  },
  {
   "cell_type": "code",
   "execution_count": 13,
   "metadata": {},
   "outputs": [
    {
     "name": "stdout",
     "output_type": "stream",
     "text": [
      "Grid best parameter:  {'max_depth': 6, 'max_features': 8, 'max_leaf_nodes': 20}\n",
      "Grid best score:  0.9412859097127223\n"
     ]
    }
   ],
   "source": [
    "X, y= load_breast_cancer(return_X_y = True)\n",
    "X_train, X_test, y_train, y_test = train_test_split(X, y, random_state = 0)\n",
    "\n",
    "clf = DecisionTreeClassifier(random_state=0)\n",
    "params_grid = {'max_depth': np.arange(3, 10),\n",
    "              'max_leaf_nodes':list(range(20,100,20)),\n",
    "              'max_features':list(range(2,10,2))\n",
    "               }\n",
    "grid_clf = GridSearchCV(clf, params_grid)\n",
    "grid_clf.fit(X_train, y_train)\n",
    "\n",
    "print('Grid best parameter: ', grid_clf.best_params_)\n",
    "print('Grid best score: ', grid_clf.best_score_)\n"
   ]
  },
  {
   "cell_type": "markdown",
   "metadata": {},
   "source": [
    "<font color = green >\n",
    "\n",
    "### Seting the params to clf\n",
    "</font>"
   ]
  },
  {
   "cell_type": "code",
   "execution_count": 14,
   "metadata": {},
   "outputs": [
    {
     "name": "stdout",
     "output_type": "stream",
     "text": [
      "clf params: {'ccp_alpha': 0.0, 'class_weight': None, 'criterion': 'gini', 'max_depth': 6, 'max_features': 8, 'max_leaf_nodes': 20, 'min_impurity_decrease': 0.0, 'min_samples_leaf': 1, 'min_samples_split': 2, 'min_weight_fraction_leaf': 0.0, 'random_state': 0, 'splitter': 'best'}\n"
     ]
    },
    {
     "data": {
      "text/plain": [
       "0.9929577464788732"
      ]
     },
     "execution_count": 14,
     "metadata": {},
     "output_type": "execute_result"
    }
   ],
   "source": [
    "best_params = grid_clf.best_params_\n",
    "# best_params.update({'random_state':0})\n",
    "clf.set_params(**best_params)\n",
    "print ('clf params:', clf.get_params())\n",
    "clf.fit(X_train, y_train)\n",
    "clf.score (X_train, y_train)"
   ]
  },
  {
   "cell_type": "code",
   "execution_count": null,
   "metadata": {},
   "outputs": [],
   "source": []
  },
  {
   "cell_type": "markdown",
   "metadata": {},
   "source": [
    "<font color = green >\n",
    "\n",
    "# Naive Bayes classification\n",
    "</font>"
   ]
  },
  {
   "cell_type": "code",
   "execution_count": 15,
   "metadata": {},
   "outputs": [],
   "source": [
    "from sklearn.naive_bayes import GaussianNB"
   ]
  },
  {
   "cell_type": "code",
   "execution_count": 16,
   "metadata": {},
   "outputs": [],
   "source": [
    "def plot_data_logistic_regression(X,y,legend_loc= None, title= None):\n",
    "    '''\n",
    "    :param X: 2 dimensional ndarray\n",
    "    :param y:  1 dimensional ndarray. Use y.ravel() if necessary\n",
    "    :return:\n",
    "    '''\n",
    "\n",
    "    positive_indices = (y == 1)\n",
    "    negative_indices = (y == 0)\n",
    "#     import matplotlib as mpl\n",
    "    colors_for_points = ['grey', 'orange'] # neg/pos\n",
    "\n",
    "    plt.scatter(X[negative_indices][:,0], X[negative_indices][:,1], s=40, c=colors_for_points [0], edgecolor = 'black', label='negative', alpha = 0.7)\n",
    "    plt.scatter(X[positive_indices][:,0], X[positive_indices][:,1], s=40, c=colors_for_points [1], edgecolor = 'black',label='positive', alpha = 0.7)\n",
    "    plt.title(title)\n",
    "    plt.legend(loc= legend_loc)\n",
    "    \n",
    "def draw_linear_decision_boundaries_multiclass(clf,X):\n",
    "    '''draws only the line  - use existing figure for it '''\n",
    "    colors=  ['green','grey', 'orange', 'brown']\n",
    "    x_line = np.linspace(X[:,0].min(),X[:,0].max(), 100)\n",
    "    for w, b, color in zip(clf.coef_, clf.intercept_, colors):\n",
    "        # Since class prediction with a linear model uses the formula y = w_0 x_0 + w_1 x_1 + b,\n",
    "        # and the decision boundary is defined as being all points with y = 0, to plot x_1 as a\n",
    "        # function of x_0 we just solve w_0 x_0 + w_1 x_1 + b = 0 for x_1:\n",
    "        y_line = -(x_line  * w[0] + b) / w[1]\n",
    "        ind = (X[:,0].min()< x_line) & (x_line <X[:,0].max()) & (X[:,1].min()< y_line) & (y_line <X[:,1].max() )\n",
    "        plt.plot(x_line[ind] , y_line[ind], '-', c=color, alpha=.8)\n",
    "\n",
    "    \n",
    "def plot_decision_boundary_universal(clf, X_train, y_train, X_test=None, y_test= None, title=None, precision=0.1,plot_symbol_size = 50, ax= None,  is_extended=True, labels= None, features =None, is_to_show_train= True):\n",
    "    '''\n",
    "    expected to be universal for binary and multiclass classification but not tested for binary \n",
    "    '''\n",
    "    # Create color maps - required by pcolormesh\n",
    "    from matplotlib.colors import  ListedColormap\n",
    "    features_number= X_train.shape[1]\n",
    "    colors_for_areas= colors_for_points =  np.array(['grey', 'orange', 'green', 'brown'][:features_number])\n",
    "    cmap_light = ListedColormap(colors_for_areas)\n",
    "\n",
    "    mesh_step_size = precision #.01  # step size in the mesh\n",
    "    if X_test is None or y_test is None:\n",
    "        show_test= False\n",
    "        X= X_train\n",
    "    else:\n",
    "        show_test= True\n",
    "        X= np.concatenate([X_train,X_test], axis=0)\n",
    "    x1_min, x1_max = X[:, 0].min() - .1, X[:, 0].max() + 0.1\n",
    "    x2_min, x2_max = X[:, 1].min() - .1, X[:, 1].max() + 0.1\n",
    "    # Create grids of pairs\n",
    "    xx1, xx2 = np.meshgrid(np.arange(x1_min, x1_max, mesh_step_size),\n",
    "                         np.arange(x2_min, x2_max, mesh_step_size))\n",
    "    # Flatten all samples\n",
    "    target_samples_grid= (np.c_[xx1.ravel(), xx2.ravel()])\n",
    "    if precision<0.05:\n",
    "        print ('Calling to predict for all grid values (precision of drawing = {},\\n you may configure to speed up e.g. precision=0.05)'.format(precision))\n",
    "    Z = clf.predict(target_samples_grid)\n",
    "\n",
    "    # Reshape the result to original meshgrid shape\n",
    "    Z = Z.reshape(xx1.shape)\n",
    "\n",
    "    if ax:\n",
    "        plt.sca(ax)\n",
    "\n",
    "    # Plot all meshgrid prediction\n",
    "    plt.pcolormesh(xx1, xx2,Z, cmap = cmap_light, alpha=0.2)\n",
    "\n",
    "    if is_to_show_train:\n",
    "        # Plot train set\n",
    "        plt.scatter(X_train[:, 0], X_train[:, 1], s=plot_symbol_size,\n",
    "                    c=colors_for_points[y_train.astype(int)], edgecolor = 'black',alpha=0.6)\n",
    "    # Plot test set\n",
    "    if show_test:\n",
    "        plt.scatter(X_test[:, 0], X_test[:, 1], marker='^', s=plot_symbol_size,\n",
    "                c=colors_for_points[y_test.astype(int)],edgecolor = 'black',alpha=0.6)\n",
    "    if  is_extended:\n",
    "        \n",
    "        # Create legend\n",
    "        if labels is None:\n",
    "            labels= ['negative','positive'] # assume this is for binary or for muticlass with labels \n",
    "        import matplotlib.patches as mpatches # use to assign lavels for colored points\n",
    "        patches= [mpatches.Patch(color=colors_for_points[i], label=labels[i]) for i in range (len(labels))]\n",
    "        plt.legend(handles=patches)\n",
    "        if features is None:\n",
    "            plt.xlabel('feature 1')\n",
    "            plt.ylabel('feature 2')\n",
    "        else: \n",
    "            plt.xlabel(features[0])\n",
    "            plt.ylabel(features[1])\n",
    "\n",
    "    else:\n",
    "        plt.tick_params(\n",
    "        top =False,\n",
    "        bottom= False,\n",
    "        left  = False,\n",
    "        labelleft = False,\n",
    "        labelbottom = False\n",
    "        )\n",
    "    plt.title(title)\n"
   ]
  },
  {
   "cell_type": "code",
   "execution_count": 17,
   "metadata": {},
   "outputs": [],
   "source": [
    "from sklearn.model_selection import train_test_split"
   ]
  },
  {
   "cell_type": "markdown",
   "metadata": {},
   "source": [
    "<font color = green >\n",
    "\n",
    "### Simple synthetic classification set \n",
    "</font>"
   ]
  },
  {
   "cell_type": "code",
   "execution_count": 30,
   "metadata": {},
   "outputs": [
    {
     "data": {
      "image/png": "[encoded data removed]",
      "text/plain": [
       "<Figure size 640x480 with 1 Axes>"
      ]
     },
     "metadata": {},
     "output_type": "display_data"
    }
   ],
   "source": [
    "from sklearn.datasets import make_classification\n",
    "# plt.title('Sample binary classification problem with two informative features')\n",
    "X_C2, y_C2 = make_classification(n_samples = 100, n_features=2,\n",
    "                                n_redundant=0, n_informative=2,\n",
    "                                n_clusters_per_class=1, flip_y = 0.1,\n",
    "                                class_sep = 0.5, random_state=0)\n",
    "plt.figure()\n",
    "plot_data_logistic_regression(X_C2,y_C2, title='X_C2, y_C2')\n"
   ]
  },
  {
   "cell_type": "code",
   "execution_count": 31,
   "metadata": {},
   "outputs": [
    {
     "data": {
      "image/png": "[encoded data removed]",
      "text/plain": [
       "<Figure size 640x480 with 1 Axes>"
      ]
     },
     "metadata": {},
     "output_type": "display_data"
    }
   ],
   "source": [
    "X_train, X_test, y_train, y_test = train_test_split(X_C2, y_C2, random_state=0)\n",
    "clf= GaussianNB().fit(X_train, y_train)\n",
    "accuracy = clf.score(X_test, y_test) \n",
    "plt.figure()\n",
    "plot_decision_boundary_universal(\n",
    "    clf, X_train, y_train, X_test, y_test,\n",
    "    title='Gaussian Naive Bayes classifier: X_C2, y_C2, accuracy = {}'.format(accuracy),\n",
    "    precision=0.05)\n",
    "    "
   ]
  },
  {
   "cell_type": "markdown",
   "metadata": {},
   "source": [
    "<font color = green >\n",
    "\n",
    "### Complicated synthetic classification set \n",
    "</font>"
   ]
  },
  {
   "cell_type": "code",
   "execution_count": 32,
   "metadata": {},
   "outputs": [
    {
     "data": {
      "image/png": "[encoded data removed]",
      "text/plain": [
       "<Figure size 640x480 with 1 Axes>"
      ]
     },
     "metadata": {},
     "output_type": "display_data"
    }
   ],
   "source": [
    "from sklearn.datasets import make_blobs\n",
    "X_mk8, y_mk8 = make_blobs(n_samples = 200, n_features = 2, centers = 8, # centers impacts for y\n",
    "                       cluster_std = 1.3, random_state = 4)\n",
    "y = y_mk8 % 2 # make it binary since make_blobs  with centers = 8 creates y in [0..7]\n",
    "plt.figure()\n",
    "plot_data_logistic_regression(X_mk8,y, title='X_mk8, y')\n"
   ]
  },
  {
   "cell_type": "code",
   "execution_count": 33,
   "metadata": {},
   "outputs": [
    {
     "data": {
      "image/png": "[encoded data removed]",
      "text/plain": [
       "<Figure size 640x480 with 1 Axes>"
      ]
     },
     "metadata": {},
     "output_type": "display_data"
    }
   ],
   "source": [
    "X_train, X_test, y_train, y_test = train_test_split(X_mk8, y, random_state=0)\n",
    "clf= GaussianNB().fit(X_train, y_train)\n",
    "plt.figure()\n",
    "accuracy_test = clf.score(X_test, y_test) \n",
    "plot_decision_boundary_universal(\n",
    "    clf, X_train, y_train, X_test, y_test,\n",
    "    title='Gaussian Naive Bayes classifier: X_mk8, y, accuracy = {}'.format(accuracy_test),\n",
    "    precision=0.05)\n",
    "    "
   ]
  },
  {
   "cell_type": "markdown",
   "metadata": {},
   "source": [
    "<font color = green >\n",
    "\n",
    "### Breast cancer  data set \n",
    "</font>"
   ]
  },
  {
   "cell_type": "code",
   "execution_count": 34,
   "metadata": {},
   "outputs": [],
   "source": [
    "from sklearn.datasets import load_breast_cancer"
   ]
  },
  {
   "cell_type": "code",
   "execution_count": 35,
   "metadata": {},
   "outputs": [
    {
     "name": "stdout",
     "output_type": "stream",
     "text": [
      "accuracy_train = 95.070%\n",
      "accuracy_test = 93.706%\n"
     ]
    }
   ],
   "source": [
    "X, y = load_breast_cancer(return_X_y= True)\n",
    "X_train, X_test, y_train, y_test  =  train_test_split(X, y, random_state= 0)\n",
    "clf= GaussianNB().fit(X_train, y_train)\n",
    "accuracy_train = clf.score (X_train, y_train)\n",
    "accuracy_test = clf.score (X_test, y_test)\n",
    "print ('accuracy_train = {:.3%}\\naccuracy_test = {:.3%}'.format(accuracy_train, accuracy_test))"
   ]
  },
  {
   "cell_type": "code",
   "execution_count": 36,
   "metadata": {},
   "outputs": [],
   "source": [
    "# * continue"
   ]
  },
  {
   "cell_type": "markdown",
   "metadata": {},
   "source": [
    "<font color = green >\n",
    "\n",
    "# Blight Tickets Classification\n",
    "\n",
    "</font>"
   ]
  },
  {
   "cell_type": "markdown",
   "metadata": {},
   "source": [
    "<font color = green >\n",
    "\n",
    "## Problem statement \n",
    "</font>\n",
    "The task is to solve one of the most pressing problems facing Detroit - blight. Blight violations are issued by the city to individuals who allow their properties to remain in a deteriorated condition. Every year, the city of Detroit issues millions of dollars in fines to residents and every year, many of these fines remain unpaid. Enforcing unpaid blight fines is a costly and tedious process, so the city wants to know: how can we increase blight ticket compliance?\n",
    "\n",
    "The first step in answering this question is understanding when and why a resident might fail to comply with a blight ticket. This is where predictive modeling comes in. \n",
    "\n",
    "For this assignment, **the task is to predict whether a given blight ticket will be paid on time.**\n",
    "\n",
    "You are provided with two data files for use in training and validating your models:\n",
    "\n",
    "* train.csv - the training set (all tickets issued 2004-2011)\n",
    "* test.csv - the test set (all tickets issued 2012-2016)\n",
    "\n",
    "\n",
    "Each row in these two files corresponds to a single blight ticket, and includes information about when, why, and to whom each ticket was issued. \n",
    "The target variable is **compliance**, which is True if the ticket was paid early, on time, or within one month of the hearing data, False if the ticket was paid after the hearing date or not at all, and Null if the violator was found not responsible. Compliance, as well as a handful of other variables that will not be available at test-time, are only included in train.csv.\n",
    "\n",
    "You are also provided with two files mapping from ticket id to addresses, and from addresses to lat/lon coordinates:\n",
    "* addresses.csv \n",
    "* latlons.csv\n",
    "Note: misspelled addresses may be incorrectly geolocated.\n",
    "\n",
    "<font color = green >\n",
    "\n",
    "## Data fields\n",
    "\n",
    "### train.csv & test.csv\n",
    "\n",
    "</font>\n",
    "\n",
    "* ticket_id - unique identifier for tickets\n",
    "* agency_name - Agency that issued the ticket\n",
    "* inspector_name - Name of inspector that issued the ticket\n",
    "* violator_name - Name of the person/organization that the ticket was issued to\n",
    "* violation_street_number, violation_street_name, violation_zip_code - Address where the violation occurred\n",
    "* mailing_address_str_number, mailing_address_str_name, city, state, zip_code, non_us_str_code, country - Mailing address of the violator\n",
    "* ticket_issued_date - Date and time the ticket was issued\n",
    "* hearing_date - Date and time the violator's hearing was scheduled\n",
    "* violation_code, violation_description - Type of violation\n",
    "* disposition - Judgment and judgement type\n",
    "* fine_amount - Violation fine amount, excluding fees\n",
    "* admin_fee - \\$20 fee assigned to responsible judgments\n",
    "* state_fee - \\$10 fee assigned to responsible judgments late_fee - 10% fee assigned to responsible judgments discount_amount - discount applied, if any clean_up_cost - DPW clean-up or graffiti removal cost judgment_amount - Sum of all fines and fees grafitti_status - Flag for graffiti violations\n",
    "\n",
    "<font color = green >\n",
    "\n",
    "### train.csv only\n",
    "</font>\n",
    "\n",
    "* payment_amount - Amount paid, if any\n",
    "* payment_date - Date payment was made, if it was received\n",
    "* payment_status - Current payment status as of Feb 1 2017\n",
    "* balance_due - Fines and fees still owed\n",
    "* collection_status - Flag for payments in collections\n",
    "* compliance target variable for prediction \n",
    "<br>- Null = Not responsible\n",
    "<br>- 0 = Responsible, non-compliant\n",
    "<br>- 1 = Responsible, compliant\n",
    "* compliance_detail - More information on why each ticket was marked compliant or non-compliant\n",
    "\n",
    "<font color = green >\n",
    "\n",
    "## Evaluation\n",
    "</font>\n",
    "\n",
    "Predictions will be given as the probability that the corresponding blight ticket will be paid on time.\n",
    "\n",
    "\n",
    "Return a series of length 61001 with the data being the probability that each corresponding ticket from test.csv will be paid, and the index being the ticket_id.\n",
    "\n",
    "Example:\n",
    "\n",
    "\n",
    "`ticket_id\n",
    "   284932    0.531842\n",
    "   285362    0.401958\n",
    "   285361    0.105928\n",
    "   285338    0.018572\n",
    "             ...\n",
    "   376499    0.208567\n",
    "   376500    0.818759\n",
    "   369851    0.018528\n",
    "   Name: compliance, dtype: float32`\n"
   ]
  },
  {
   "cell_type": "markdown",
   "metadata": {},
   "source": [
    "<font color = green >\n",
    "\n",
    "## Load the data  \n",
    "\n",
    "</font>"
   ]
  },
  {
   "cell_type": "markdown",
   "metadata": {},
   "source": [
    "<font color = green >\n",
    "\n",
    "### Load train dataset \n",
    "\n",
    "</font>"
   ]
  },
  {
   "cell_type": "code",
   "execution_count": 37,
   "metadata": {},
   "outputs": [],
   "source": [
    "import os\n",
    "import pandas as pd\n",
    "cwd= os.getcwd() # current working directory\n",
    "path = os.path.join(cwd,'data')"
   ]
  },
  {
   "cell_type": "code",
   "execution_count": 38,
   "metadata": {},
   "outputs": [
    {
     "name": "stdout",
     "output_type": "stream",
     "text": [
      "loading provided train set.\n"
     ]
    },
    {
     "data": {
      "text/html": [
       "<div>\n",
       "<style scoped>\n",
       "    .dataframe tbody tr th:only-of-type {\n",
       "        vertical-align: middle;\n",
       "    }\n",
       "\n",
       "    .dataframe tbody tr th {\n",
       "        vertical-align: top;\n",
       "    }\n",
       "\n",
       "    .dataframe thead th {\n",
       "        text-align: right;\n",
       "    }\n",
       "</style>\n",
       "<table border=\"1\" class=\"dataframe\">\n",
       "  <thead>\n",
       "    <tr style=\"text-align: right;\">\n",
       "      <th></th>\n",
       "      <th>ticket_id</th>\n",
       "      <th>agency_name</th>\n",
       "      <th>inspector_name</th>\n",
       "      <th>violator_name</th>\n",
       "      <th>violation_street_number</th>\n",
       "      <th>violation_street_name</th>\n",
       "      <th>violation_zip_code</th>\n",
       "      <th>mailing_address_str_number</th>\n",
       "      <th>mailing_address_str_name</th>\n",
       "      <th>city</th>\n",
       "      <th>...</th>\n",
       "      <th>clean_up_cost</th>\n",
       "      <th>judgment_amount</th>\n",
       "      <th>payment_amount</th>\n",
       "      <th>balance_due</th>\n",
       "      <th>payment_date</th>\n",
       "      <th>payment_status</th>\n",
       "      <th>collection_status</th>\n",
       "      <th>grafitti_status</th>\n",
       "      <th>compliance_detail</th>\n",
       "      <th>compliance</th>\n",
       "    </tr>\n",
       "  </thead>\n",
       "  <tbody>\n",
       "    <tr>\n",
       "      <th>0</th>\n",
       "      <td>22056</td>\n",
       "      <td>Buildings, Safety Engineering &amp; Env Department</td>\n",
       "      <td>Sims, Martinzie</td>\n",
       "      <td>INVESTMENT INC., MIDWEST MORTGAGE</td>\n",
       "      <td>2900.0</td>\n",
       "      <td>TYLER</td>\n",
       "      <td>NaN</td>\n",
       "      <td>3.0</td>\n",
       "      <td>S. WICKER</td>\n",
       "      <td>CHICAGO</td>\n",
       "      <td>...</td>\n",
       "      <td>0.0</td>\n",
       "      <td>305.0</td>\n",
       "      <td>0.0</td>\n",
       "      <td>305.0</td>\n",
       "      <td>NaN</td>\n",
       "      <td>NO PAYMENT APPLIED</td>\n",
       "      <td>NaN</td>\n",
       "      <td>NaN</td>\n",
       "      <td>non-compliant by no payment</td>\n",
       "      <td>0.0</td>\n",
       "    </tr>\n",
       "    <tr>\n",
       "      <th>1</th>\n",
       "      <td>27586</td>\n",
       "      <td>Buildings, Safety Engineering &amp; Env Department</td>\n",
       "      <td>Williams, Darrin</td>\n",
       "      <td>Michigan, Covenant House</td>\n",
       "      <td>4311.0</td>\n",
       "      <td>CENTRAL</td>\n",
       "      <td>NaN</td>\n",
       "      <td>2959.0</td>\n",
       "      <td>Martin Luther King</td>\n",
       "      <td>Detroit</td>\n",
       "      <td>...</td>\n",
       "      <td>0.0</td>\n",
       "      <td>855.0</td>\n",
       "      <td>780.0</td>\n",
       "      <td>75.0</td>\n",
       "      <td>2005-06-02 00:00:00</td>\n",
       "      <td>PAID IN FULL</td>\n",
       "      <td>NaN</td>\n",
       "      <td>NaN</td>\n",
       "      <td>compliant by late payment within 1 month</td>\n",
       "      <td>1.0</td>\n",
       "    </tr>\n",
       "    <tr>\n",
       "      <th>2</th>\n",
       "      <td>22062</td>\n",
       "      <td>Buildings, Safety Engineering &amp; Env Department</td>\n",
       "      <td>Sims, Martinzie</td>\n",
       "      <td>SANDERS, DERRON</td>\n",
       "      <td>1449.0</td>\n",
       "      <td>LONGFELLOW</td>\n",
       "      <td>NaN</td>\n",
       "      <td>23658.0</td>\n",
       "      <td>P.O. BOX</td>\n",
       "      <td>DETROIT</td>\n",
       "      <td>...</td>\n",
       "      <td>0.0</td>\n",
       "      <td>0.0</td>\n",
       "      <td>0.0</td>\n",
       "      <td>0.0</td>\n",
       "      <td>NaN</td>\n",
       "      <td>NO PAYMENT APPLIED</td>\n",
       "      <td>NaN</td>\n",
       "      <td>NaN</td>\n",
       "      <td>not responsible by disposition</td>\n",
       "      <td>NaN</td>\n",
       "    </tr>\n",
       "    <tr>\n",
       "      <th>3</th>\n",
       "      <td>22084</td>\n",
       "      <td>Buildings, Safety Engineering &amp; Env Department</td>\n",
       "      <td>Sims, Martinzie</td>\n",
       "      <td>MOROSI, MIKE</td>\n",
       "      <td>1441.0</td>\n",
       "      <td>LONGFELLOW</td>\n",
       "      <td>NaN</td>\n",
       "      <td>5.0</td>\n",
       "      <td>ST. CLAIR</td>\n",
       "      <td>DETROIT</td>\n",
       "      <td>...</td>\n",
       "      <td>0.0</td>\n",
       "      <td>0.0</td>\n",
       "      <td>0.0</td>\n",
       "      <td>0.0</td>\n",
       "      <td>NaN</td>\n",
       "      <td>NO PAYMENT APPLIED</td>\n",
       "      <td>NaN</td>\n",
       "      <td>NaN</td>\n",
       "      <td>not responsible by disposition</td>\n",
       "      <td>NaN</td>\n",
       "    </tr>\n",
       "    <tr>\n",
       "      <th>4</th>\n",
       "      <td>22093</td>\n",
       "      <td>Buildings, Safety Engineering &amp; Env Department</td>\n",
       "      <td>Sims, Martinzie</td>\n",
       "      <td>NATHANIEL, NEAL</td>\n",
       "      <td>2449.0</td>\n",
       "      <td>CHURCHILL</td>\n",
       "      <td>NaN</td>\n",
       "      <td>7449.0</td>\n",
       "      <td>CHURCHILL</td>\n",
       "      <td>DETROIT</td>\n",
       "      <td>...</td>\n",
       "      <td>0.0</td>\n",
       "      <td>0.0</td>\n",
       "      <td>0.0</td>\n",
       "      <td>0.0</td>\n",
       "      <td>NaN</td>\n",
       "      <td>NO PAYMENT APPLIED</td>\n",
       "      <td>NaN</td>\n",
       "      <td>NaN</td>\n",
       "      <td>not responsible by disposition</td>\n",
       "      <td>NaN</td>\n",
       "    </tr>\n",
       "  </tbody>\n",
       "</table>\n",
       "<p>5 rows × 34 columns</p>\n",
       "</div>"
      ],
      "text/plain": [
       "   ticket_id                                     agency_name  \\\n",
       "0      22056  Buildings, Safety Engineering & Env Department   \n",
       "1      27586  Buildings, Safety Engineering & Env Department   \n",
       "2      22062  Buildings, Safety Engineering & Env Department   \n",
       "3      22084  Buildings, Safety Engineering & Env Department   \n",
       "4      22093  Buildings, Safety Engineering & Env Department   \n",
       "\n",
       "     inspector_name                      violator_name  \\\n",
       "0   Sims, Martinzie  INVESTMENT INC., MIDWEST MORTGAGE   \n",
       "1  Williams, Darrin           Michigan, Covenant House   \n",
       "2   Sims, Martinzie                    SANDERS, DERRON   \n",
       "3   Sims, Martinzie                       MOROSI, MIKE   \n",
       "4   Sims, Martinzie                    NATHANIEL, NEAL   \n",
       "\n",
       "   violation_street_number violation_street_name  violation_zip_code  \\\n",
       "0                   2900.0                 TYLER                 NaN   \n",
       "1                   4311.0               CENTRAL                 NaN   \n",
       "2                   1449.0            LONGFELLOW                 NaN   \n",
       "3                   1441.0            LONGFELLOW                 NaN   \n",
       "4                   2449.0             CHURCHILL                 NaN   \n",
       "\n",
       "   mailing_address_str_number mailing_address_str_name     city  ...  \\\n",
       "0                         3.0                S. WICKER  CHICAGO  ...   \n",
       "1                      2959.0       Martin Luther King  Detroit  ...   \n",
       "2                     23658.0                 P.O. BOX  DETROIT  ...   \n",
       "3                         5.0                ST. CLAIR  DETROIT  ...   \n",
       "4                      7449.0                CHURCHILL  DETROIT  ...   \n",
       "\n",
       "  clean_up_cost judgment_amount payment_amount balance_due  \\\n",
       "0           0.0           305.0            0.0       305.0   \n",
       "1           0.0           855.0          780.0        75.0   \n",
       "2           0.0             0.0            0.0         0.0   \n",
       "3           0.0             0.0            0.0         0.0   \n",
       "4           0.0             0.0            0.0         0.0   \n",
       "\n",
       "          payment_date      payment_status collection_status grafitti_status  \\\n",
       "0                  NaN  NO PAYMENT APPLIED               NaN             NaN   \n",
       "1  2005-06-02 00:00:00        PAID IN FULL               NaN             NaN   \n",
       "2                  NaN  NO PAYMENT APPLIED               NaN             NaN   \n",
       "3                  NaN  NO PAYMENT APPLIED               NaN             NaN   \n",
       "4                  NaN  NO PAYMENT APPLIED               NaN             NaN   \n",
       "\n",
       "                          compliance_detail  compliance  \n",
       "0               non-compliant by no payment         0.0  \n",
       "1  compliant by late payment within 1 month         1.0  \n",
       "2            not responsible by disposition         NaN  \n",
       "3            not responsible by disposition         NaN  \n",
       "4            not responsible by disposition         NaN  \n",
       "\n",
       "[5 rows x 34 columns]"
      ]
     },
     "execution_count": 38,
     "metadata": {},
     "output_type": "execute_result"
    }
   ],
   "source": [
    "def get_train_set():\n",
    "    print ('loading provided train set.')\n",
    "    fp = os.path.join(path,'lesson_12_train.csv')\n",
    "    df_train = pd.read_csv(fp, encoding='ISO-8859-1',low_memory=False) \n",
    "    return df_train\n",
    "\n",
    "\n",
    "df_train= get_train_set ()\n",
    "df_train.head()"
   ]
  },
  {
   "cell_type": "markdown",
   "metadata": {},
   "source": [
    "<font color = green >\n",
    "\n",
    "### Load test dataset \n",
    "\n",
    "</font>"
   ]
  },
  {
   "cell_type": "code",
   "execution_count": 39,
   "metadata": {},
   "outputs": [
    {
     "name": "stdout",
     "output_type": "stream",
     "text": [
      "loading provided test set .\n"
     ]
    },
    {
     "data": {
      "text/plain": [
       "['ticket_id',\n",
       " 'agency_name',\n",
       " 'inspector_name',\n",
       " 'violator_name',\n",
       " 'violation_street_number',\n",
       " 'violation_street_name',\n",
       " 'violation_zip_code',\n",
       " 'mailing_address_str_number',\n",
       " 'mailing_address_str_name',\n",
       " 'city',\n",
       " 'state',\n",
       " 'zip_code',\n",
       " 'non_us_str_code',\n",
       " 'country',\n",
       " 'ticket_issued_date',\n",
       " 'hearing_date',\n",
       " 'violation_code',\n",
       " 'violation_description',\n",
       " 'disposition',\n",
       " 'fine_amount',\n",
       " 'admin_fee',\n",
       " 'state_fee',\n",
       " 'late_fee',\n",
       " 'discount_amount',\n",
       " 'clean_up_cost',\n",
       " 'judgment_amount',\n",
       " 'grafitti_status']"
      ]
     },
     "execution_count": 39,
     "metadata": {},
     "output_type": "execute_result"
    }
   ],
   "source": [
    "def get_test_set():    \n",
    "    print ('loading provided test set .')\n",
    "    fp = os.path.join(path,'lesson_12_test.csv')\n",
    "    df_test = pd.read_csv(fp)  # , encoding = 'ISO-8859-1')\n",
    "\n",
    "    return df_test\n",
    "\n",
    "df_test= get_test_set()\n",
    "# df_test.describe()\n",
    "list(df_test)"
   ]
  },
  {
   "cell_type": "markdown",
   "metadata": {},
   "source": [
    "<font color = green >\n",
    "\n",
    "### Load mappings datasets \n",
    "\n",
    "</font>"
   ]
  },
  {
   "cell_type": "code",
   "execution_count": 41,
   "metadata": {},
   "outputs": [
    {
     "name": "stdout",
     "output_type": "stream",
     "text": [
      "getting additional datasets.\n",
      "                                  address        lat        lon\n",
      "0  4300 rosa parks blvd, Detroit MI 48208  42.346169 -83.079962\n",
      "1                14512 sussex, Detroit MI  42.394657 -83.194265\n",
      "2                3456 garland, Detroit MI  42.373779 -82.986228\n",
      "3                5787 wayburn, Detroit MI  42.403342 -82.957805\n",
      "4              5766 haverhill, Detroit MI  42.407255 -82.946295\n",
      "\n",
      "   ticket_id                      address\n",
      "0      22056       2900 tyler, Detroit MI\n",
      "1      27586     4311 central, Detroit MI\n",
      "2      22062  1449 longfellow, Detroit MI\n",
      "3      22084  1441 longfellow, Detroit MI\n",
      "4      22093   2449 churchill, Detroit MI\n"
     ]
    }
   ],
   "source": [
    "def get_additional_datasets ():\n",
    "    print ('getting additional datasets.')\n",
    "    fp = os.path.join(path,'lesson_12_addresses.csv')\n",
    "    df_addresses= pd.read_csv(fp) \n",
    "    \n",
    "    fp = os.path.join(path,'lesson_12_latlons.csv')\n",
    "    df_latlons = pd.read_csv(fp)\n",
    "    return df_addresses, df_latlons\n",
    "\n",
    "df_addresses, df_latlons =  get_additional_datasets ()\n",
    "print ('{}\\n\\n{}'.format(df_latlons.head(), df_addresses.head()))"
   ]
  },
  {
   "cell_type": "markdown",
   "metadata": {},
   "source": [
    "<font color = green >\n",
    "\n",
    "### Get rid of samples with no information about payment \n",
    "\n",
    "</font>\n"
   ]
  },
  {
   "cell_type": "code",
   "execution_count": 42,
   "metadata": {},
   "outputs": [
    {
     "name": "stdout",
     "output_type": "stream",
     "text": [
      "cleaning blank target.\n",
      "Len before cleaning= 250,306\n",
      "Len after cleaning= 159,880\n"
     ]
    }
   ],
   "source": [
    "def clean_blank_target(df):\n",
    "    print ('cleaning blank target.')\n",
    "    print ('Len before cleaning= {:,}'.format(len(df)))\n",
    "    df = df.dropna(subset=['compliance'])\n",
    "    # the same as  df_train = df_train[~df_train['compliance'].isnull()] \n",
    "    print ('Len after cleaning= {:,}'.format(len(df)))\n",
    "    return df\n",
    "\n",
    "\n",
    "df_train= clean_blank_target(df_train)\n"
   ]
  },
  {
   "cell_type": "code",
   "execution_count": null,
   "metadata": {},
   "outputs": [],
   "source": []
  },
  {
   "cell_type": "markdown",
   "metadata": {},
   "source": [
    "<font color = green >\n",
    "\n",
    "### Analyze and develop relevant features \n",
    "\n",
    "</font>\n",
    "Consider the domain knowledge and other environmental dependencies to figure out the features that may affect target, e.g. \n",
    "\n",
    "* location (lat and lon) of violator \n",
    "* the duration of between time ticket was issued and time it has been paid"
   ]
  },
  {
   "cell_type": "markdown",
   "metadata": {},
   "source": [
    "<font color = green >\n",
    "\n",
    "#### Develop location feature\n",
    "\n",
    "</font>\n",
    "This requires to merge main dataset with mapped datasets (addresses and lat/lon)"
   ]
  },
  {
   "cell_type": "code",
   "execution_count": 43,
   "metadata": {},
   "outputs": [
    {
     "name": "stdout",
     "output_type": "stream",
     "text": [
      "merging with additional datasets.\n",
      "merging with additional datasets.\n"
     ]
    }
   ],
   "source": [
    "def merge_additional_datasets(df, df_addresses, df_latlons):\n",
    "    print ('merging with additional datasets.')\n",
    "    df= pd.merge(df, df_addresses, how='left', left_on=['ticket_id'], right_on=['ticket_id'])\n",
    "    df = pd.merge(df, df_latlons, how='left', left_on=['address'], right_on=['address'])\n",
    "    df = df.reset_index()\n",
    "    return df \n",
    "\n",
    "# Do the same for test data\n",
    "# df_test_merged= pd.merge(df_test, df_addresses, how='left', left_on=['ticket_id'], right_on=['ticket_id'])\n",
    "# df_test_merged = pd.merge(df_test_merged, df_latlons, how='left', left_on=['address'], right_on=['address'])\n",
    "# df_test_merged= df_test_merged.reset_index()\n",
    "\n",
    "# Merge train data with mapped data sets\n",
    "df_train= merge_additional_datasets(df_train, df_addresses, df_latlons)\n",
    "# Do the same for test data\n",
    "df_test= merge_additional_datasets(df_test, df_addresses, df_latlons)"
   ]
  },
  {
   "cell_type": "markdown",
   "metadata": {},
   "source": [
    "<font color = green >\n",
    "\n",
    "#### Develop feature of duration between time of issue and time of payment\n",
    "\n",
    "</font>\n"
   ]
  },
  {
   "cell_type": "code",
   "execution_count": null,
   "metadata": {},
   "outputs": [],
   "source": [
    "# Check the types of data features \n",
    "df_train.dtypes"
   ]
  },
  {
   "cell_type": "markdown",
   "metadata": {},
   "source": [
    "conclusion `ticket_issued_date` and `hearing_date` are `object` type thus need to convert first"
   ]
  },
  {
   "cell_type": "code",
   "execution_count": 44,
   "metadata": {},
   "outputs": [
    {
     "name": "stdout",
     "output_type": "stream",
     "text": [
      "developing days-diff.\n",
      "developing days-diff.\n",
      "\"hearing_date\" is now datetime64[ns] type \n"
     ]
    },
    {
     "data": {
      "text/html": [
       "<div>\n",
       "<style scoped>\n",
       "    .dataframe tbody tr th:only-of-type {\n",
       "        vertical-align: middle;\n",
       "    }\n",
       "\n",
       "    .dataframe tbody tr th {\n",
       "        vertical-align: top;\n",
       "    }\n",
       "\n",
       "    .dataframe thead th {\n",
       "        text-align: right;\n",
       "    }\n",
       "</style>\n",
       "<table border=\"1\" class=\"dataframe\">\n",
       "  <thead>\n",
       "    <tr style=\"text-align: right;\">\n",
       "      <th></th>\n",
       "      <th>hearing_date</th>\n",
       "      <th>ticket_issued_date</th>\n",
       "      <th>days_diff</th>\n",
       "    </tr>\n",
       "  </thead>\n",
       "  <tbody>\n",
       "    <tr>\n",
       "      <th>0</th>\n",
       "      <td>2005-03-21 10:30:00</td>\n",
       "      <td>2004-03-16 11:40:00</td>\n",
       "      <td>369.0</td>\n",
       "    </tr>\n",
       "    <tr>\n",
       "      <th>1</th>\n",
       "      <td>2005-05-06 13:30:00</td>\n",
       "      <td>2004-04-23 12:30:00</td>\n",
       "      <td>378.0</td>\n",
       "    </tr>\n",
       "    <tr>\n",
       "      <th>2</th>\n",
       "      <td>2005-03-21 10:30:00</td>\n",
       "      <td>2004-05-01 11:50:00</td>\n",
       "      <td>323.0</td>\n",
       "    </tr>\n",
       "    <tr>\n",
       "      <th>3</th>\n",
       "      <td>2005-02-22 15:00:00</td>\n",
       "      <td>2004-06-14 14:15:00</td>\n",
       "      <td>253.0</td>\n",
       "    </tr>\n",
       "    <tr>\n",
       "      <th>4</th>\n",
       "      <td>2005-02-22 15:00:00</td>\n",
       "      <td>2004-06-16 12:30:00</td>\n",
       "      <td>251.0</td>\n",
       "    </tr>\n",
       "  </tbody>\n",
       "</table>\n",
       "</div>"
      ],
      "text/plain": [
       "         hearing_date  ticket_issued_date  days_diff\n",
       "0 2005-03-21 10:30:00 2004-03-16 11:40:00      369.0\n",
       "1 2005-05-06 13:30:00 2004-04-23 12:30:00      378.0\n",
       "2 2005-03-21 10:30:00 2004-05-01 11:50:00      323.0\n",
       "3 2005-02-22 15:00:00 2004-06-14 14:15:00      253.0\n",
       "4 2005-02-22 15:00:00 2004-06-16 12:30:00      251.0"
      ]
     },
     "execution_count": 44,
     "metadata": {},
     "output_type": "execute_result"
    }
   ],
   "source": [
    "def develop_days_diff(df) :\n",
    "    print ('developing days-diff.')\n",
    "    df['hearing_date'] = pd.to_datetime(df['hearing_date'])\n",
    "    df['ticket_issued_date'] = pd.to_datetime(df['ticket_issued_date'])\n",
    "    df['days_diff'] = (df['hearing_date'] - df['ticket_issued_date'])\n",
    "    df['days_diff']= df['days_diff'].apply (lambda el: el.days)\n",
    "    return df \n",
    "\n",
    "# df_test_merged['hearing_date'] = pd.to_datetime(df_test_merged['hearing_date'])\n",
    "# df_test_merged['ticket_issued_date'] = pd.to_datetime(df_test_merged['ticket_issued_date'])\n",
    "# df_test_merged['days_diff'] = (df_test_merged['hearing_date'] - df_test_merged['ticket_issued_date'])\n",
    "# df_test_merged['days_diff']= df_test_merged['days_diff'].apply (lambda el: el.days)\n",
    "\n",
    "\n",
    "df_train= develop_days_diff(df_train) \n",
    "df_test= develop_days_diff(df_test) \n",
    "print ('\"hearing_date\" is now {} type '.format(df_train['hearing_date'].dtypes))\n",
    "df_train[['hearing_date', 'ticket_issued_date', 'days_diff']].head()\n",
    "\n",
    "\n"
   ]
  },
  {
   "cell_type": "markdown",
   "metadata": {},
   "source": [
    "\n",
    "<font color = green >\n",
    "\n",
    "#### Get rid of irrelevant features \n",
    "</font>\n",
    "\n",
    "`violator_name` -  high probability to get the person not in the list in training set thus considering name of violator may bring negative impact.\n",
    "<br>`agency_name` - low chance the decision to pay or not depends on who issues the ticket.\n",
    "<br>The same about:  `inspector_name`, `mailing_address_str_number`\n",
    "<br>Assuming also the payment decision does not depend on `violation_code` ,`disposition` (Judgment and judgement type), \n",
    "<br>Exclude data that is in train set only : `payment_amount` and `collection_status`.\n",
    "<br>Let's keep `fine_amount`, `admin_fee`, `state_fee`, `late_fee`, `discount_amount`, `clean_up_cost`\n",
    "\n"
   ]
  },
  {
   "cell_type": "code",
   "execution_count": 45,
   "metadata": {},
   "outputs": [
    {
     "name": "stdout",
     "output_type": "stream",
     "text": [
      "Extracting features.\n"
     ]
    },
    {
     "data": {
      "text/plain": [
       "(159880, 12)"
      ]
     },
     "execution_count": 45,
     "metadata": {},
     "output_type": "execute_result"
    }
   ],
   "source": [
    "def get_X_train_test(df_train, df_test): \n",
    "    print ('Extracting features.')\n",
    "# List of features to consider\n",
    "    cols_to_keep= [\n",
    "        'non_us_str_code',\n",
    "        'country',\n",
    "        'fine_amount',\n",
    "        'admin_fee',\n",
    "        'state_fee',\n",
    "        'late_fee',\n",
    "        'discount_amount', \n",
    "        'clean_up_cost',\n",
    "        'judgment_amount',\n",
    "        'lat',\n",
    "        'lon',\n",
    "        'days_diff']\n",
    "    X_train = df_train[cols_to_keep]\n",
    "    X_test = df_test[cols_to_keep]\n",
    "    return X_train, X_test, cols_to_keep\n",
    "\n",
    "X_train, X_test, features  = get_X_train_test(df_train, df_test)\n",
    "\n",
    "y_train = df_train['compliance']\n",
    "\n",
    "X_train.shape"
   ]
  },
  {
   "cell_type": "markdown",
   "metadata": {},
   "source": [
    "<font color = green >\n",
    "\n",
    "### Encoder non-numeric features  \n",
    "\n",
    "</font>\n"
   ]
  },
  {
   "cell_type": "code",
   "execution_count": 46,
   "metadata": {},
   "outputs": [
    {
     "data": {
      "text/plain": [
       "non_us_str_code     object\n",
       "country             object\n",
       "fine_amount        float64\n",
       "admin_fee          float64\n",
       "state_fee          float64\n",
       "late_fee           float64\n",
       "discount_amount    float64\n",
       "clean_up_cost      float64\n",
       "judgment_amount    float64\n",
       "lat                float64\n",
       "lon                float64\n",
       "days_diff          float64\n",
       "dtype: object"
      ]
     },
     "execution_count": 46,
     "metadata": {},
     "output_type": "execute_result"
    }
   ],
   "source": [
    "# check the tyoes of features \n",
    "X_train.dtypes"
   ]
  },
  {
   "cell_type": "code",
   "execution_count": 47,
   "metadata": {},
   "outputs": [],
   "source": [
    "columns_to_encode = ['country','non_us_str_code']\n"
   ]
  },
  {
   "cell_type": "code",
   "execution_count": 48,
   "metadata": {},
   "outputs": [],
   "source": [
    "from sklearn.preprocessing import LabelEncoder"
   ]
  },
  {
   "cell_type": "code",
   "execution_count": 49,
   "metadata": {},
   "outputs": [
    {
     "name": "stdout",
     "output_type": "stream",
     "text": [
      "label encoding.\n"
     ]
    },
    {
     "data": {
      "text/plain": [
       "non_us_str_code      int32\n",
       "country              int32\n",
       "fine_amount        float64\n",
       "admin_fee          float64\n",
       "state_fee          float64\n",
       "late_fee           float64\n",
       "discount_amount    float64\n",
       "clean_up_cost      float64\n",
       "judgment_amount    float64\n",
       "lat                float64\n",
       "lon                float64\n",
       "days_diff          float64\n",
       "dtype: object"
      ]
     },
     "execution_count": 49,
     "metadata": {},
     "output_type": "execute_result"
    }
   ],
   "source": [
    "def label_encoder(X_train,X_test):    \n",
    "    print ('label encoding.')\n",
    "    X_train = X_train.copy() # to avoid warning related to setting the copy...\n",
    "    X_test = X_test.copy() # to avoid warning related to setting the copy...\n",
    "\n",
    "    for col in columns_to_encode:\n",
    "        le = LabelEncoder().fit(X_train[col].astype(str)) # convert to str first since le may fail due to difference type of data\n",
    "        X_train[col] = le.transform(X_train[col].astype(str))\n",
    "        X_test[col] = le.transform(X_test[col].astype(str))\n",
    "    return X_train,X_test\n",
    "\n",
    "X_train,X_test= label_encoder(X_train,X_test)\n",
    "X_train.dtypes\n",
    "\n",
    "# # apply in case of values not from traing set \n",
    "# le = LabelEncoder().fit(df_train_copy['foo']) \n",
    "# df_train_copy['foo'] = le.transform(df_train_copy['foo'])\n",
    "# le_dict = dict(zip(le.classes_, le.transform(le.classes_)))\n",
    "# # print (le_surname_dict)\n",
    "# df_test_copy['foo']= df_test_copy['foo'].apply(lambda x: le_dict.get(x, -1)) # returns -1 if not found \n",
    "\n"
   ]
  },
  {
   "cell_type": "markdown",
   "metadata": {},
   "source": [
    "<font color = green >\n",
    "\n",
    "### Avoid NAN values\n",
    "\n",
    "</font>\n"
   ]
  },
  {
   "cell_type": "code",
   "execution_count": 50,
   "metadata": {},
   "outputs": [
    {
     "data": {
      "text/plain": [
       "non_us_str_code    False\n",
       "country            False\n",
       "fine_amount        False\n",
       "admin_fee          False\n",
       "state_fee          False\n",
       "late_fee           False\n",
       "discount_amount    False\n",
       "clean_up_cost      False\n",
       "judgment_amount    False\n",
       "lat                 True\n",
       "lon                 True\n",
       "days_diff           True\n",
       "dtype: bool"
      ]
     },
     "execution_count": 50,
     "metadata": {},
     "output_type": "execute_result"
    }
   ],
   "source": [
    "# check the na columns \n",
    "X_train.isna().any()"
   ]
  },
  {
   "cell_type": "code",
   "execution_count": 51,
   "metadata": {},
   "outputs": [
    {
     "name": "stdout",
     "output_type": "stream",
     "text": [
      "filling NaN...\n",
      "filling NaN...\n"
     ]
    },
    {
     "data": {
      "text/plain": [
       "(False, False)"
      ]
     },
     "execution_count": 51,
     "metadata": {},
     "output_type": "execute_result"
    }
   ],
   "source": [
    "def fill_na(df):\n",
    "    print ('filling NaN...')\n",
    "    for col in list(df):\n",
    "        if df[col].isna().any():\n",
    "            df[col]= df[col].fillna(0)\n",
    "\n",
    "fill_na(X_train)\n",
    "fill_na(X_test)\n",
    "# check after fillna \n",
    "X_train.isna().any().any(), X_test.isna().any().any()"
   ]
  },
  {
   "cell_type": "code",
   "execution_count": 52,
   "metadata": {},
   "outputs": [],
   "source": [
    "# Alternative approach to fillna - by random values of existing \n",
    "# non_empty = [item  for item in list (df_copy[\"__col__\"]) if not np.isnan(item)]\n",
    "# df_copy[\"__col__\"] = df_copy[\"__col__\"].apply(lambda x: np.random.choice(non_empty) if np.isnan(x) else x)"
   ]
  },
  {
   "cell_type": "markdown",
   "metadata": {},
   "source": [
    "<font color = green >\n",
    "\n",
    "### Normalize the data \n",
    "\n",
    "</font>\n"
   ]
  },
  {
   "cell_type": "code",
   "execution_count": 53,
   "metadata": {},
   "outputs": [],
   "source": [
    "from sklearn.preprocessing import MinMaxScaler"
   ]
  },
  {
   "cell_type": "code",
   "execution_count": 54,
   "metadata": {},
   "outputs": [
    {
     "name": "stdout",
     "output_type": "stream",
     "text": [
      "normalizing.\n"
     ]
    },
    {
     "data": {
      "text/plain": [
       "numpy.ndarray"
      ]
     },
     "execution_count": 54,
     "metadata": {},
     "output_type": "execute_result"
    }
   ],
   "source": [
    "def normalize(X_train, X_test):\n",
    "    print ('normalizing.')\n",
    "    scaler= MinMaxScaler()\n",
    "    X_train_scaled= scaler.fit_transform(X_train)\n",
    "    X_test_scaled = scaler.transform(X_test)\n",
    "    return X_train_scaled, X_test_scaled \n",
    "\n",
    "X_train_scaled, X_test_scaled  = normalize(X_train, X_test)\n",
    "type(X_train_scaled)"
   ]
  },
  {
   "cell_type": "markdown",
   "metadata": {},
   "source": [
    "<font color = green >\n",
    "\n",
    "### Choose the best classifier \n",
    "</font>"
   ]
  },
  {
   "cell_type": "code",
   "execution_count": 55,
   "metadata": {},
   "outputs": [],
   "source": [
    "from sklearn.linear_model import LogisticRegression\n",
    "from sklearn.model_selection import GridSearchCV\n",
    "from sklearn.tree import DecisionTreeClassifier\n",
    "from sklearn.ensemble import RandomForestClassifier\n",
    "from sklearn.svm import SVC\n",
    "from sklearn.neural_network import MLPClassifier\n",
    "from sklearn.naive_bayes import GaussianNB\n",
    "from sklearn.ensemble import GradientBoostingClassifier \n",
    "from xgboost import XGBClassifier"
   ]
  },
  {
   "cell_type": "code",
   "execution_count": 56,
   "metadata": {},
   "outputs": [],
   "source": [
    "# from sklearn.metrics import roc_auc_score # it requires decsion_functions that are not present for all classifiers thus use :\n",
    "# from sklearn.model_selection import cross_val_score # need to manually determine the best param \n",
    "# from sklearn.metrics import roc_curve, auc # also requires decision functions so no advantages comparing to roc_auc_score\n",
    "from sklearn.metrics import f1_score\n"
   ]
  },
  {
   "cell_type": "code",
   "execution_count": 57,
   "metadata": {},
   "outputs": [],
   "source": [
    "def run_GridSearchCV(clf,grid_values, X_train_scaled, X_test_scaled, y_train, y_test= None):\n",
    "#     print ('Running GridSearchCV.')\n",
    "#     grid_clf = GridSearchCV(clf, param_grid=grid_values,scoring='roc_auc')\n",
    "#     grid_clf.fit(X_train_scaled, y_train)\n",
    "#     print('Grid best parameter (max.roc_auc ): ', grid_clf.best_params_) \n",
    "#     print('Grid best score (roc_auc): ', grid_clf.best_score_) \n",
    "\n",
    "#     if not y_test is None:\n",
    "#         test_score= grid_clf.score(X_test_scaled, y_test)\n",
    "#         print(\"test roc_auc= {}\".format(test_score))\n",
    "\n",
    "    print ('Running GridSearchCV.')\n",
    "    grid_clf = GridSearchCV(clf, param_grid=grid_values,scoring='f1')\n",
    "    grid_clf.fit(X_train_scaled, y_train)\n",
    "    print('Grid best parameter (max f1 ): ', grid_clf.best_params_) \n",
    "    print('Grid best score (f1): ', grid_clf.best_score_) \n",
    "\n",
    "    if not y_test is None:\n",
    "        test_score= grid_clf.score(X_test_scaled, y_test)\n",
    "        print(\"test f1= {}\".format(test_score))\n",
    "\n",
    "\n",
    "def run_all_classifiers(X_train_scaled, X_test_scaled, y_train, y_test=None, list_classifiers= None):\n",
    "    if list_classifiers is None or 'LogisticRegression' in list_classifiers:\n",
    "        print ('\\nLogisticRegression.')\n",
    "        clf = LogisticRegression(max_iter=10000)\n",
    "        grid_values = {'C': [0.005, 0.01,0.1, 1, 100, 10000, 100000]}\n",
    "        run_GridSearchCV(clf,grid_values, X_train_scaled,X_test_scaled,  y_train,  y_test= y_test)\n",
    "\n",
    "    if list_classifiers is None or 'DecisionTreeClassifier' in list_classifiers:\n",
    "        print ('\\nDecisionTreeClassifier')\n",
    "        clf = DecisionTreeClassifier()       \n",
    "        grid_values = {'max_depth': [2,5,7, 20, 50]}\n",
    "        run_GridSearchCV(clf,grid_values, X_train_scaled, X_test_scaled, y_train,  y_test= y_test)   \n",
    "\n",
    "    if list_classifiers is None or 'RandomForestClassifier' in list_classifiers:\n",
    "        print ('\\nRandomForestClassifier.')\n",
    "        clf = RandomForestClassifier()       \n",
    "        grid_values = {'n_estimators': [20,50]} #,200,300]}\n",
    "        run_GridSearchCV(clf,grid_values, X_train_scaled,X_test_scaled, y_train,  y_test= y_test)   \n",
    "\n",
    "    if list_classifiers is None or 'SVC_poly' in list_classifiers:\n",
    "        print ('\\nSVC_poly')\n",
    "        clf = SVC(kernel='poly')           \n",
    "        grid_values = {'C': [0.01]}# , 0.1, 1, 100, ]}\n",
    "        run_GridSearchCV(clf,grid_values, X_train_scaled, X_test_scaled, y_train,  y_test= y_test)   \n",
    "\n",
    "    if list_classifiers is None or 'SVC_rbf' in list_classifiers:\n",
    "        print ('\\nSVC_rbf')\n",
    "        clf = SVC(kernel='rbf')\n",
    "        grid_values = {'C': [0.005, 0.01]}# , 0.02, 0.03, 0.1, 1, 100, 10000], 'gamma':[0.001, 0.01, 0.1]}\n",
    "        run_GridSearchCV(clf,grid_values, X_train_scaled, X_test_scaled, y_train,  y_test= y_test)   \n",
    "\n",
    "    if list_classifiers is None or 'NB' in list_classifiers:\n",
    "        print ('\\nNB')\n",
    "        clf =  GaussianNB().fit(X_train_scaled, y_train)\n",
    "        train_f1 = f1_score(y_train, clf.predict(X_train_scaled))\n",
    "        print(\"train set f1= {}\".format(train_f1))\n",
    "        if not y_test is None:\n",
    "            test_f1 = f1_score(y_test, clf.predict(X_test_scaled))\n",
    "            print(\"train set f1= {}\".format(test_f1))\n",
    "\n",
    "            \n",
    "    if list_classifiers is None or 'GradientBoostingClassifier' in list_classifiers:\n",
    "        print ('\\nGradientBoostingClassifier.')\n",
    "        clf = GradientBoostingClassifier() # learning_rate = 0.03)       \n",
    "        grid_values = {'max_depth': [3,5,7]}\n",
    "        run_GridSearchCV(clf,grid_values, X_train_scaled,X_test_scaled, y_train,  y_test= y_test)   \n",
    "\n",
    "    if list_classifiers is None or 'MLP' in list_classifiers:\n",
    "        print ('\\nMLP.')\n",
    "        clf = MLPClassifier(hidden_layer_sizes = [50]) #, 100])\n",
    "        grid_values = {'alpha' : [0.001, 0.01, 0.1, 1, 10]}\n",
    "        run_GridSearchCV(clf,grid_values, X_train_scaled,X_test_scaled, y_train,  y_test= y_test)   \n",
    "\n",
    "    if list_classifiers is None or 'xgboost' in list_classifiers:\n",
    "        print ('\\nxgboost.')\n",
    "        clf = XGBClassifier().fit(X_train_scaled, y_train)\n",
    "        y_predicted = clf.predict(X_test_scaled)\n",
    "        print ('f1_score  = {:.2}'.format(f1_score(y_test, y_predicted)))\n",
    "        \n",
    "#     Looks like I cannot ealuate the roc_auc  without grid search for clf that does not support decision_function\n",
    "#     How does grid search  do that ? \n",
    "\n"
   ]
  },
  {
   "cell_type": "markdown",
   "metadata": {},
   "source": [
    "<font color = green >\n",
    "\n",
    "### Execute all preprocessing\n",
    "\n",
    "</font>"
   ]
  },
  {
   "cell_type": "code",
   "execution_count": 58,
   "metadata": {},
   "outputs": [],
   "source": [
    "from sklearn.metrics import f1_score"
   ]
  },
  {
   "cell_type": "code",
   "execution_count": 59,
   "metadata": {},
   "outputs": [],
   "source": [
    "def apply_preprocessing(df_train, df_test):\n",
    "    df_addresses, df_latlons =  get_additional_datasets ()\n",
    "\n",
    "    df_train= clean_blank_target(df_train)\n",
    "    y_train = df_train['compliance']\n",
    "    if 'compliance' in list(df_test):    \n",
    "        df_test= clean_blank_target(df_test)\n",
    "        y_test = df_test['compliance'] # test set  as outcome of train_test_split of provided train set  \n",
    "    else: \n",
    "        y_test = None # provided test set \n",
    "\n",
    "    df_train= merge_additional_datasets(df_train, df_addresses, df_latlons)\n",
    "    df_test= merge_additional_datasets(df_test, df_addresses, df_latlons)\n",
    "\n",
    "\n",
    "    df_train= develop_days_diff(df_train)\n",
    "    df_test= develop_days_diff(df_test)\n",
    "\n",
    "    X_train, X_test, features  = get_X_train_test(df_train, df_test)\n",
    "\n",
    "    X_train,X_test= label_encoder(X_train,X_test)\n",
    "\n",
    "   \n",
    "    fill_na(X_train)\n",
    "    fill_na(X_test)\n",
    "\n",
    "    X_train_scaled, X_test_scaled  = normalize(X_train, X_test)\n",
    "    \n",
    "    return X_train_scaled, X_test_scaled, y_train, y_test, features"
   ]
  },
  {
   "cell_type": "markdown",
   "metadata": {},
   "source": [
    "<font color = green >\n",
    "\n",
    "## Split train set to evaluate the model \n",
    "</font>"
   ]
  },
  {
   "cell_type": "code",
   "execution_count": 60,
   "metadata": {},
   "outputs": [],
   "source": [
    "from sklearn.model_selection import train_test_split"
   ]
  },
  {
   "cell_type": "code",
   "execution_count": 61,
   "metadata": {},
   "outputs": [
    {
     "name": "stdout",
     "output_type": "stream",
     "text": [
      "loading provided train set.\n",
      "getting additional datasets.\n",
      "cleaning blank target.\n",
      "Len before cleaning= 187,729\n",
      "Len after cleaning= 119,633\n",
      "cleaning blank target.\n",
      "Len before cleaning= 62,577\n",
      "Len after cleaning= 40,247\n",
      "merging with additional datasets.\n",
      "merging with additional datasets.\n",
      "developing days-diff.\n",
      "developing days-diff.\n",
      "Extracting features.\n",
      "label encoding.\n",
      "filling NaN...\n",
      "filling NaN...\n",
      "normalizing.\n",
      "X_train_scaled shape= (119633, 12)\n",
      "X_test_scaled shape= (40247, 12)\n",
      "y_train set shape= (119633,)\n",
      "y_test set shape= (40247,)\n"
     ]
    }
   ],
   "source": [
    "df= get_train_set ()\n",
    "df_train, df_test = train_test_split(df, random_state= 0)\n",
    "X_train_scaled, X_test_scaled, y_train, y_test, features = apply_preprocessing(df_train, df_test)\n",
    "\n",
    "print ('X_train_scaled shape= {}\\nX_test_scaled shape= {}'.format(X_train_scaled.shape, X_test_scaled.shape))\n",
    "print ('y_train set shape= {}\\ny_test set shape= {}'.format(y_train.shape, y_test.shape))"
   ]
  },
  {
   "cell_type": "code",
   "execution_count": 62,
   "metadata": {},
   "outputs": [
    {
     "name": "stdout",
     "output_type": "stream",
     "text": [
      "\n",
      "LogisticRegression.\n",
      "Running GridSearchCV.\n",
      "Grid best parameter (max f1 ):  {'C': 100000}\n",
      "Grid best score (f1):  0.18768974071442895\n",
      "test f1= 0.19433681073025338\n",
      "\n",
      "DecisionTreeClassifier\n",
      "Running GridSearchCV.\n",
      "Grid best parameter (max f1 ):  {'max_depth': 50}\n",
      "Grid best score (f1):  0.34415245008008843\n",
      "test f1= 0.36111111111111116\n",
      "\n",
      "RandomForestClassifier.\n",
      "Running GridSearchCV.\n",
      "Grid best parameter (max f1 ):  {'n_estimators': 50}\n",
      "Grid best score (f1):  0.3808926292967144\n",
      "test f1= 0.3998120742306788\n",
      "\n",
      "NB\n",
      "train set f1= 0.16781972721881794\n",
      "train set f1= 0.1753889674681754\n",
      "\n",
      "GradientBoostingClassifier.\n",
      "Running GridSearchCV.\n",
      "Grid best parameter (max f1 ):  {'max_depth': 7}\n",
      "Grid best score (f1):  0.2393853601140707\n",
      "test f1= 0.2428243398392652\n",
      "\n",
      "xgboost.\n",
      "f1_score  = 0.28\n"
     ]
    }
   ],
   "source": [
    "list_classifiers= [\n",
    "    'LogisticRegression',\n",
    "    'DecisionTreeClassifier',\n",
    "    'RandomForestClassifier',\n",
    "    'NB',\n",
    "    'GradientBoostingClassifier', \n",
    "#     'MLP', \n",
    "    'xgboost', \n",
    "    \n",
    "    \n",
    "   \n",
    "]\n",
    "run_all_classifiers(X_train_scaled, X_test_scaled, y_train, y_test, list_classifiers= list_classifiers)"
   ]
  },
  {
   "cell_type": "code",
   "execution_count": 63,
   "metadata": {},
   "outputs": [],
   "source": [
    "# Output log:\n",
    "\n",
    "# LogisticRegression.\n",
    "# Running GridSearchCV.\n",
    "# Grid best parameter (max f1 ):  {'C': 100000}\n",
    "# Grid best score (f1):  0.16002928382154663\n",
    "# test f1= 0.16978851963746225\n",
    "\n",
    "# DecisionTreeClassifier\n",
    "# Running GridSearchCV.\n",
    "# Grid best parameter (max f1 ):  {'max_depth': 50}\n",
    "# Grid best score (f1):  0.3352112027042893\n",
    "# test f1= 0.36407267740829624\n",
    "\n",
    "# RandomForestClassifier.\n",
    "# Running GridSearchCV.\n",
    "# Grid best parameter (max f1 ):  {'n_estimators': 50}\n",
    "# Grid best score (f1):  0.36178697101031215\n",
    "# test f1= 0.39586757454801597\n",
    "\n",
    "# NB\n",
    "# train set f1= 0.16781972721881794\n",
    "# train set f1= 0.1753889674681754\n",
    "\n",
    "# GradientBoostingClassifier.\n",
    "# Running GridSearchCV.\n",
    "# Grid best parameter (max f1 ):  {'max_depth': 7}\n",
    "# Grid best score (f1):  0.24238093180409026\n",
    "# test f1= 0.24390243902439027\n",
    "\n",
    "# MLP.\n",
    "# Running GridSearchCV.\n",
    "# Grid best parameter (max f1 ):  {'alpha': 0.001}\n",
    "# Grid best score (f1):  0.15567942207879562\n",
    "# test f1= 0.16528417818740399"
   ]
  },
  {
   "cell_type": "markdown",
   "metadata": {},
   "source": [
    "<font color = green >\n",
    "\n",
    "## Running on provided Train and Test sets\n",
    "\n",
    "</font>"
   ]
  },
  {
   "cell_type": "markdown",
   "metadata": {},
   "source": [
    "<font color = green >\n",
    "\n",
    "### Load provided train and test sets \n",
    "\n",
    "</font>"
   ]
  },
  {
   "cell_type": "code",
   "execution_count": 64,
   "metadata": {},
   "outputs": [
    {
     "name": "stdout",
     "output_type": "stream",
     "text": [
      "loading provided train set.\n",
      "loading provided test set .\n",
      "getting additional datasets.\n",
      "cleaning blank target.\n",
      "Len before cleaning= 250,306\n",
      "Len after cleaning= 159,880\n",
      "merging with additional datasets.\n",
      "merging with additional datasets.\n",
      "developing days-diff.\n",
      "developing days-diff.\n",
      "Extracting features.\n",
      "label encoding.\n",
      "filling NaN...\n",
      "filling NaN...\n",
      "normalizing.\n",
      "X_train_scaled shape= (159880, 12)\n",
      "X_test_scaled shape= (61001, 12)\n",
      "y_train set shape= (159880,)\n",
      "y_test type = <class 'NoneType'>\n"
     ]
    }
   ],
   "source": [
    "df_train= get_train_set ()\n",
    "df_test= get_test_set()\n",
    "\n",
    "X_train_scaled_1, X_test_scaled_1, y_train_1, y_test_1, features = apply_preprocessing(df_train, df_test)\n",
    "\n",
    "print ('X_train_scaled shape= {}\\nX_test_scaled shape= {}'.format(X_train_scaled_1.shape, X_test_scaled_1.shape))\n",
    "print ('y_train set shape= {}'.format(y_train_1.shape))\n",
    "print ('y_test type = {}'.format(type(y_test_1)))\n",
    "\n"
   ]
  },
  {
   "cell_type": "markdown",
   "metadata": {},
   "source": [
    "<font color = green >\n",
    "\n",
    "### Analyse all classifiers for provided Train set \n",
    "\n",
    "</font>"
   ]
  },
  {
   "cell_type": "code",
   "execution_count": 65,
   "metadata": {},
   "outputs": [],
   "source": [
    "# list_classifiers= [\n",
    "#     'LogisticRegression',\n",
    "#     'DecisionTreeClassifier',\n",
    "#     'RandomForestClassifier',\n",
    "#     'NB',\n",
    "#     'GradientBoostingClassifier', \n",
    "# #     'MLP',\n",
    "#     'xgboost',\n",
    "# ]\n",
    "# run_all_classifiers(X_train_scaled_1, X_test_scaled_1, y_train_1, y_test_1, list_classifiers= list_classifiers)"
   ]
  },
  {
   "cell_type": "code",
   "execution_count": 66,
   "metadata": {},
   "outputs": [],
   "source": [
    "\n",
    "# LogisticRegression.\n",
    "# Running GridSearchCV.\n",
    "\n",
    "# Grid best parameter (max f1 ):  {'C': 100000}\n",
    "# Grid best score (f1):  0.14962479999216446\n",
    "\n",
    "# DecisionTreeClassifier\n",
    "# Running GridSearchCV.\n",
    "# Grid best parameter (max f1 ):  {'max_depth': 20}\n",
    "# Grid best score (f1):  0.24097847831001046\n",
    "\n",
    "# RandomForestClassifier.\n",
    "# Running GridSearchCV.\n",
    "# Grid best parameter (max f1 ):  {'n_estimators': 20}\n",
    "# Grid best score (f1):  0.2623866097856808\n",
    "\n",
    "# NB\n",
    "# train set f1= 0.17058260293142816\n",
    "\n",
    "# GradientBoostingClassifier.\n",
    "# Running GridSearchCV.\n",
    "# Grid best parameter (max f1 ):  {'max_depth': 7}\n",
    "# Grid best score (f1):  0.1877455294062057\n",
    "\n",
    "# MLP.\n",
    "# Running GridSearchCV.\n",
    "# Grid best parameter (max f1 ):  {'alpha': 0.001}\n",
    "# Grid best score (f1):  0.14262794599572085"
   ]
  },
  {
   "cell_type": "markdown",
   "metadata": {},
   "source": [
    "<font color = green >\n",
    "\n",
    "### Predict the test set for best classifier\n",
    "\n",
    "</font>"
   ]
  },
  {
   "cell_type": "code",
   "execution_count": 67,
   "metadata": {},
   "outputs": [
    {
     "name": "stdout",
     "output_type": "stream",
     "text": [
      "[0.2154035  0.34560907 0.32999374 0.15745948 0.17926186]\n"
     ]
    },
    {
     "data": {
      "text/plain": [
       "0.044736971525056964"
      ]
     },
     "execution_count": 67,
     "metadata": {},
     "output_type": "execute_result"
    }
   ],
   "source": [
    "# Conclusion: Let's exploit the RandomForestClassifier. {'n_estimators': 20}\n",
    "clf = RandomForestClassifier(n_estimators= 20)       \n",
    "\n",
    "# review perfromance on whole set\n",
    "from sklearn.model_selection import cross_val_score # need to manually determine the best param \n",
    "f1_train = cross_val_score(clf, X_train_scaled_1, y_train_1, cv=5, scoring='f1')\n",
    "print (f1_train)\n",
    "            \n",
    "# train and predict X_test\n",
    "clf.fit(X_train_scaled_1, y_train_1)\n",
    "y_predict= clf.predict(X_test_scaled_1)\n",
    "\n",
    "# make sure it produce not all zeros \n",
    "np.mean(y_predict)\n"
   ]
  },
  {
   "cell_type": "code",
   "execution_count": null,
   "metadata": {},
   "outputs": [],
   "source": [
    "    "
   ]
  },
  {
   "cell_type": "markdown",
   "metadata": {},
   "source": [
    "<font color = green >\n",
    "\n",
    "### Features importance\n",
    "\n",
    "</font>\n",
    "(optional)"
   ]
  },
  {
   "cell_type": "code",
   "execution_count": 68,
   "metadata": {},
   "outputs": [],
   "source": [
    "from sklearn import tree\n",
    "# import graphviz"
   ]
  },
  {
   "cell_type": "code",
   "execution_count": 182,
   "metadata": {},
   "outputs": [],
   "source": [
    "def plot_feature_importances(clf, features):\n",
    "    plt.figure(figsize=(6, 6), dpi=80)\n",
    "    c_features = len(features)\n",
    "    plt.barh(range(c_features), clf.feature_importances_)\n",
    "    plt.xlabel(\"Feature importance\")\n",
    "    plt.ylabel(\"Feature name\")\n",
    "    plt.yticks(np.arange(c_features), features)\n"
   ]
  },
  {
   "cell_type": "code",
   "execution_count": 70,
   "metadata": {},
   "outputs": [
    {
     "name": "stdout",
     "output_type": "stream",
     "text": [
      "train accuracy= 96.111%\n"
     ]
    },
    {
     "data": {
      "image/png": "[encoded data removed]",
      "text/plain": [
       "<Figure size 480x480 with 1 Axes>"
      ]
     },
     "metadata": {},
     "output_type": "display_data"
    }
   ],
   "source": [
    "clf = DecisionTreeClassifier(\n",
    "    criterion=  'entropy',\n",
    "    random_state=0,\n",
    "    max_depth=20,\n",
    ").fit(X_train_scaled_1, y_train_1)\n",
    "print(\"train accuracy= {:.3%}\".format(clf.score (X_train_scaled_1, y_train_1)))\n",
    "\n",
    "\n",
    "# plt.figure ()\n",
    "plot_feature_importances(clf, features)\n"
   ]
  },
  {
   "cell_type": "markdown",
   "metadata": {},
   "source": [
    "<font color = green >\n",
    "\n",
    "# Home task\n",
    "\n",
    "</font>\n",
    "\n",
    "## Titanic - Machine Learning from Disaster\n",
    "\n",
    "Predict survival on the [Titanic](https://www.kaggle.com/c/titanic)"
   ]
  },
  {
   "cell_type": "markdown",
   "metadata": {},
   "source": [
    "<font color = green >\n",
    "\n",
    "### Set the path to dataset folder\n",
    "\n",
    "</font>"
   ]
  },
  {
   "cell_type": "code",
   "execution_count": 72,
   "metadata": {},
   "outputs": [
    {
     "data": {
      "text/plain": [
       "'C:\\\\Users\\\\acer\\\\Desktop\\\\ML\\\\Amazinum\\\\Homeworks\\\\supervised_ml_cover\\\\kaggle_titanic'"
      ]
     },
     "execution_count": 72,
     "metadata": {},
     "output_type": "execute_result"
    }
   ],
   "source": [
    "path = os.path.join(os.getcwd(),'kaggle_titanic')\n",
    "path"
   ]
  },
  {
   "cell_type": "markdown",
   "metadata": {},
   "source": [
    "<font color = green >\n",
    "\n",
    "### Load the titanic survivors dataset\n",
    "\n",
    "</font>"
   ]
  },
  {
   "cell_type": "code",
   "execution_count": 259,
   "metadata": {},
   "outputs": [],
   "source": [
    "def get_dataset():\n",
    "    # Get rid of irrelevant features \n",
    "    drop_columns = ['Name','Ticket','PassengerId']\n",
    "    data_path = os.path.join(path, 'train.csv')\n",
    "    X = pd.read_csv(data_path)\n",
    "    y = X[\"Survived\"]\n",
    "    \n",
    "    # drop the Y\n",
    "    X = X.drop([\"Survived\", *drop_columns], axis=1)\n",
    "    \n",
    "    data_path = os.path.join(path, 'test.csv')\n",
    "    X_predict = pd.read_csv(data_path)\n",
    "    X_predict_passengers = X_predict['PassengerId']\n",
    "    X_predict = X_predict.drop(drop_columns, axis=1)\n",
    "    return X, y, X_predict, X_predict_passengers, X.columns"
   ]
  },
  {
   "cell_type": "markdown",
   "metadata": {},
   "source": [
    "<font color = green >\n",
    "\n",
    "### Fill the NaN values\n",
    "\n",
    "</font>"
   ]
  },
  {
   "cell_type": "code",
   "execution_count": 260,
   "metadata": {},
   "outputs": [
    {
     "name": "stdout",
     "output_type": "stream",
     "text": [
      "Is NaN values in X: True\n",
      "Is NaN values in X_predict: True\n",
      "filling NaN...\n",
      "filling NaN...\n",
      "Is NaN values in X after filling: False\n",
      "Is NaN values in X_predict after filling: False\n"
     ]
    }
   ],
   "source": [
    "X, y, X_predict, X_predict_passengers, features = get_dataset()\n",
    "print(f\"Is NaN values in X: {X.isna().any().any()}\")\n",
    "print(f\"Is NaN values in X_predict: {X_predict.isna().any().any()}\")\n",
    "fill_na(X)\n",
    "fill_na(X_predict)\n",
    "print(f\"Is NaN values in X after filling: {X.isna().any().any()}\")\n",
    "print(f\"Is NaN values in X_predict after filling: {X_predict.isna().any().any()}\")"
   ]
  },
  {
   "cell_type": "markdown",
   "metadata": {},
   "source": [
    "<font color = green >\n",
    "\n",
    "### Encode the columns with dtype object(text values)\n",
    "\n",
    "</font>"
   ]
  },
  {
   "cell_type": "code",
   "execution_count": 261,
   "metadata": {},
   "outputs": [],
   "source": [
    "def label_encoder(X_train,X_test):    \n",
    "    print ('label encoding.')\n",
    "    X_train = X_train.copy() # to avoid warning related to setting the copy...\n",
    "    X_test = X_test.copy() # to avoid warning related to setting the copy...\n",
    "    for col in text_columns:\n",
    "        # combine the values ​​of two arrays coz there are different values occur in X_train, X_test\n",
    "        values = set(X_train[col].unique())\n",
    "        values.update(X_test[col].unique())\n",
    "        values = np.array(list(values))\n",
    "        \n",
    "        le = LabelEncoder().fit(values.astype(str)) # convert to str first since le may fail due to difference type of data\n",
    "        X_train[col] = le.transform(X_train[col].astype(str))\n",
    "        X_test[col] = le.transform(X_test[col].astype(str))\n",
    "    return X_train,X_test"
   ]
  },
  {
   "cell_type": "code",
   "execution_count": 262,
   "metadata": {},
   "outputs": [
    {
     "name": "stdout",
     "output_type": "stream",
     "text": [
      "Text columns: Sex, Cabin, Embarked\n",
      "label encoding.\n"
     ]
    }
   ],
   "source": [
    "# split the X and y to X_train, X_test and y_train, y_test\n",
    "X_train, X_test, y_train, y_test = train_test_split(X, y, random_state=0)\n",
    "\n",
    "# encode TEXT features\n",
    "text_columns = X_train.select_dtypes(include='O').columns\n",
    "print(f\"Text columns: \" + \", \".join(text_columns))\n",
    "X_train, X_test = label_encoder(X_train, X_test)"
   ]
  },
  {
   "cell_type": "markdown",
   "metadata": {},
   "source": [
    "<font color = green >\n",
    "\n",
    "### Normalize the data\n",
    "\n",
    "</font>"
   ]
  },
  {
   "cell_type": "code",
   "execution_count": 263,
   "metadata": {},
   "outputs": [
    {
     "name": "stdout",
     "output_type": "stream",
     "text": [
      "normalizing.\n"
     ]
    }
   ],
   "source": [
    "# normalize the values\n",
    "\n",
    "X_train_scaled, X_test_scaled  = normalize(X_train, X_test)"
   ]
  },
  {
   "cell_type": "markdown",
   "metadata": {},
   "source": [
    "<font color = green >\n",
    "\n",
    "### Features importance\n",
    "\n",
    "</font>"
   ]
  },
  {
   "cell_type": "code",
   "execution_count": 264,
   "metadata": {},
   "outputs": [
    {
     "name": "stdout",
     "output_type": "stream",
     "text": [
      "train accuracy= 98.653%\n",
      "test accuracy= 80.717%\n"
     ]
    },
    {
     "data": {
      "image/png": "[encoded data removed]",
      "text/plain": [
       "<Figure size 480x480 with 1 Axes>"
      ]
     },
     "metadata": {},
     "output_type": "display_data"
    }
   ],
   "source": [
    "# fit the model\n",
    "titanic_clf = DecisionTreeClassifier(\n",
    "    criterion=  'entropy',\n",
    "    random_state=0,\n",
    "    max_depth=20,\n",
    ").fit(X_train_scaled, y_train)\n",
    "\n",
    "print(\"train accuracy= {:.3%}\".format(titanic_clf.score (X_train_scaled, y_train)))\n",
    "print(\"test accuracy= {:.3%}\".format(titanic_clf.score (X_test_scaled, y_test)))\n",
    "plot_feature_importances(titanic_clf, features)"
   ]
  },
  {
   "cell_type": "markdown",
   "metadata": {},
   "source": [
    "<font color = green >\n",
    "\n",
    "### Evaluate the model\n",
    "\n",
    "</font>"
   ]
  },
  {
   "cell_type": "code",
   "execution_count": 265,
   "metadata": {},
   "outputs": [
    {
     "name": "stdout",
     "output_type": "stream",
     "text": [
      "\n",
      "LogisticRegression.\n",
      "Running GridSearchCV.\n",
      "Grid best parameter (max f1 ):  {'C': 100}\n",
      "Grid best score (f1):  0.7135992600185087\n",
      "test f1= 0.75\n",
      "\n",
      "DecisionTreeClassifier\n",
      "Running GridSearchCV.\n",
      "Grid best parameter (max f1 ):  {'max_depth': 7}\n",
      "Grid best score (f1):  0.7205864082700529\n",
      "test f1= 0.7674418604651163\n",
      "\n",
      "RandomForestClassifier.\n",
      "Running GridSearchCV.\n",
      "Grid best parameter (max f1 ):  {'n_estimators': 20}\n",
      "Grid best score (f1):  0.7368409623694896\n",
      "test f1= 0.7741935483870968\n",
      "\n",
      "NB\n",
      "train set f1= 0.7382297551789077\n",
      "train set f1= 0.7282608695652173\n",
      "\n",
      "GradientBoostingClassifier.\n",
      "Running GridSearchCV.\n",
      "Grid best parameter (max f1 ):  {'max_depth': 3}\n",
      "Grid best score (f1):  0.7483931837874266\n",
      "test f1= 0.7898089171974523\n",
      "\n",
      "xgboost.\n",
      "f1_score  = 0.81\n"
     ]
    }
   ],
   "source": [
    "list_classifiers= [\n",
    "    'LogisticRegression',\n",
    "    'DecisionTreeClassifier',\n",
    "    'RandomForestClassifier',\n",
    "    'NB',\n",
    "    'GradientBoostingClassifier', \n",
    "    'xgboost', \n",
    "]\n",
    "run_all_classifiers(X_train_scaled, X_test_scaled, y_train, y_test, list_classifiers= list_classifiers)"
   ]
  },
  {
   "cell_type": "markdown",
   "metadata": {},
   "source": [
    "<font color = green >\n",
    "\n",
    "### Predict the values of X_predict(main task of Kaggle)\n",
    "\n",
    "</font>"
   ]
  },
  {
   "cell_type": "code",
   "execution_count": 277,
   "metadata": {},
   "outputs": [],
   "source": [
    "def process_the_task(clf, passengerIds, X_predict_scaled):\n",
    "    prediction = clf.predict(X_predict_scaled)\n",
    "    df = pd.DataFrame({'PassengerID': passengerIds, 'Survived': prediction})\n",
    "    df = df.set_index('PassengerID')\n",
    "    return df\n"
   ]
  },
  {
   "cell_type": "code",
   "execution_count": 276,
   "metadata": {},
   "outputs": [
    {
     "name": "stdout",
     "output_type": "stream",
     "text": [
      "label encoding.\n",
      "normalizing.\n",
      "People survived: 159/418\n"
     ]
    },
    {
     "data": {
      "text/html": [
       "<div>\n",
       "<style scoped>\n",
       "    .dataframe tbody tr th:only-of-type {\n",
       "        vertical-align: middle;\n",
       "    }\n",
       "\n",
       "    .dataframe tbody tr th {\n",
       "        vertical-align: top;\n",
       "    }\n",
       "\n",
       "    .dataframe thead th {\n",
       "        text-align: right;\n",
       "    }\n",
       "</style>\n",
       "<table border=\"1\" class=\"dataframe\">\n",
       "  <thead>\n",
       "    <tr style=\"text-align: right;\">\n",
       "      <th></th>\n",
       "      <th>Survived</th>\n",
       "    </tr>\n",
       "    <tr>\n",
       "      <th>PassengerID</th>\n",
       "      <th></th>\n",
       "    </tr>\n",
       "  </thead>\n",
       "  <tbody>\n",
       "    <tr>\n",
       "      <th>892</th>\n",
       "      <td>0</td>\n",
       "    </tr>\n",
       "    <tr>\n",
       "      <th>893</th>\n",
       "      <td>0</td>\n",
       "    </tr>\n",
       "    <tr>\n",
       "      <th>894</th>\n",
       "      <td>0</td>\n",
       "    </tr>\n",
       "    <tr>\n",
       "      <th>895</th>\n",
       "      <td>0</td>\n",
       "    </tr>\n",
       "    <tr>\n",
       "      <th>896</th>\n",
       "      <td>0</td>\n",
       "    </tr>\n",
       "    <tr>\n",
       "      <th>...</th>\n",
       "      <td>...</td>\n",
       "    </tr>\n",
       "    <tr>\n",
       "      <th>1305</th>\n",
       "      <td>0</td>\n",
       "    </tr>\n",
       "    <tr>\n",
       "      <th>1306</th>\n",
       "      <td>1</td>\n",
       "    </tr>\n",
       "    <tr>\n",
       "      <th>1307</th>\n",
       "      <td>0</td>\n",
       "    </tr>\n",
       "    <tr>\n",
       "      <th>1308</th>\n",
       "      <td>0</td>\n",
       "    </tr>\n",
       "    <tr>\n",
       "      <th>1309</th>\n",
       "      <td>0</td>\n",
       "    </tr>\n",
       "  </tbody>\n",
       "</table>\n",
       "<p>418 rows × 1 columns</p>\n",
       "</div>"
      ],
      "text/plain": [
       "             Survived\n",
       "PassengerID          \n",
       "892                 0\n",
       "893                 0\n",
       "894                 0\n",
       "895                 0\n",
       "896                 0\n",
       "...               ...\n",
       "1305                0\n",
       "1306                1\n",
       "1307                0\n",
       "1308                0\n",
       "1309                0\n",
       "\n",
       "[418 rows x 1 columns]"
      ]
     },
     "execution_count": 276,
     "metadata": {},
     "output_type": "execute_result"
    }
   ],
   "source": [
    "# process the X_predict\n",
    "\n",
    "X_predict_encoded, _ = label_encoder(X_predict, X_predict)\n",
    "X_predict_scaled, _ = normalize(X_predict_encoded, X_predict_encoded)\n",
    "\n",
    "clf = XGBClassifier().fit(X_train_scaled, y_train)\n",
    "\n",
    "df = process_the_task(clf, X_predict_passengers, X_predict_scaled)\n",
    "print(f\"People survived: {np.sum(df['Survived'])}/{len(df['Survived'])}\")\n",
    "df"
   ]
  },
  {
   "cell_type": "code",
   "execution_count": null,
   "metadata": {},
   "outputs": [],
   "source": []
  }
 ],
 "metadata": {
  "kernelspec": {
   "display_name": "Python 3 (ipykernel)",
   "language": "python",
   "name": "python3"
  },
  "language_info": {
   "codemirror_mode": {
    "name": "ipython",
    "version": 3
   },
   "file_extension": ".py",
   "mimetype": "text/x-python",
   "name": "python",
   "nbconvert_exporter": "python",
   "pygments_lexer": "ipython3",
   "version": "3.11.4"
  }
 },
 "nbformat": 4,
 "nbformat_minor": 4
}
