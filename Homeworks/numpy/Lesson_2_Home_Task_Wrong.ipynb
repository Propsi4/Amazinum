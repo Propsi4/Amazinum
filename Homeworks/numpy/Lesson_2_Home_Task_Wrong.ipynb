{
 "cells": [
  {
   "cell_type": "markdown",
   "id": "294b6ac9-9da7-4ea3-b7ec-2ecee58ee391",
   "metadata": {},
   "source": [
    "### The problem is:\n",
    "There are two whole numbers:\n",
    "1 < a,b <100\n",
    "\n",
    "One scientist(\"Sum\") get provided with sum of numbers,<br>\n",
    "another  (\"Prod\") get provided with product of numbers.<br> \n",
    "Both scientists know that numbers 1 < a,b <100.<br>\n",
    "\n",
    "Determine the numbers being based on the following dialog: <br>\n",
    "    Prod: I don't know the numbers;<br>\n",
    "    Sum: I know it;<br>\n",
    "    Prod: then I know the numbers; <br>\n",
    "    Sum: then I know the numbers too.<br>\n",
    "***\n",
    "### The task is:\n",
    "Write a program that will determine the numbers __A__ and __B__ by the given conditions."
   ]
  },
  {
   "cell_type": "markdown",
   "id": "4cca7eda-1210-4e32-a265-dff18d074bcb",
   "metadata": {},
   "source": [
    "### Solution:\n",
    "So first of all, we are gonna think about the algorithm we are going to use.<br>\n",
    "The numbers that we are trying to guess, let's name them __A__ and __B__. <br>\n",
    "\n",
    "1. We have to decide how many iterations we should go through to guess the __A__ and __B__:<br>\n",
    "   1.1. Neither  __A__ or __B__ can be bigger than __SUM__, so the optimal iterations count at the moment is: __SUM__. <br>\n",
    "   1.2. But we can _minimize_ iterations count if we think deeper, so the minimal iterations count is: __SUM__ // 2<br>\n",
    "2. Next step we have to loop over and imagine __A__ = _i_(iteration), __B__ = __SUM__ - _i_, and check if __A__ * __B__ == __PROD__."
   ]
  },
  {
   "cell_type": "markdown",
   "id": "2ae1799e-75ad-48d9-9562-9c6c6bc0d535",
   "metadata": {},
   "source": [
    "#### Algorithm above in code:"
   ]
  },
  {
   "cell_type": "code",
   "execution_count": 5,
   "id": "ac9ca208-856f-40c1-967b-f51b6b7a44f7",
   "metadata": {},
   "outputs": [],
   "source": [
    "def get_numbers(sum_result, prod_result) -> tuple:\n",
    "    # a + b = sum_result\n",
    "    # a * b = prod_result\n",
    "\n",
    "    for i in range(1, (sum_result // 2) + 1):\n",
    "        a = i\n",
    "        b = sum_result - a\n",
    "        if(a*b == prod_result):\n",
    "            return (a, b)\n",
    "    return (None, None)"
   ]
  },
  {
   "cell_type": "markdown",
   "id": "594d9005-9f67-457d-bb0d-8c1ecce4735b",
   "metadata": {},
   "source": [
    "### Enter a sum of numbers"
   ]
  },
  {
   "cell_type": "code",
   "execution_count": 2,
   "id": "79ec21c4-ab09-4fd4-9d73-5c36f843b925",
   "metadata": {},
   "outputs": [
    {
     "name": "stdin",
     "output_type": "stream",
     "text": [
      "Enter sum of numbers:  27\n"
     ]
    }
   ],
   "source": [
    "sum_result = int(input(\"Enter sum of numbers: \"))"
   ]
  },
  {
   "cell_type": "markdown",
   "id": "10a21bdc-6d8d-4f0b-a31e-425b71a5c6ac",
   "metadata": {},
   "source": [
    "### Enter a prod of numbers"
   ]
  },
  {
   "cell_type": "code",
   "execution_count": 3,
   "id": "3677c50d-353f-4ac4-bd34-bb040809a3c8",
   "metadata": {},
   "outputs": [
    {
     "name": "stdin",
     "output_type": "stream",
     "text": [
      "Enter product of numbers:  50\n"
     ]
    }
   ],
   "source": [
    "prod_result = int(input(\"Enter product of numbers: \"))"
   ]
  },
  {
   "cell_type": "markdown",
   "id": "540a6ab6-6559-492f-b630-ccd10ca87c5f",
   "metadata": {},
   "source": [
    "### Check the results"
   ]
  },
  {
   "cell_type": "code",
   "execution_count": 6,
   "id": "4713a165-176a-4eee-bc12-f1b36c04c622",
   "metadata": {},
   "outputs": [
    {
     "name": "stdout",
     "output_type": "stream",
     "text": [
      "Numbers are: 2 and 25\n"
     ]
    }
   ],
   "source": [
    "a, b = get_numbers(sum_result, prod_result)\n",
    "if(a == None or b == None):\n",
    "    print(\"There are no such numbers\")\n",
    "else:\n",
    "    print(f\"Numbers are: {a} and {b}\")"
   ]
  },
  {
   "cell_type": "code",
   "execution_count": null,
   "id": "46a2feeb-5da0-463b-a818-af1ca5aad8db",
   "metadata": {},
   "outputs": [],
   "source": []
  }
 ],
 "metadata": {
  "kernelspec": {
   "display_name": "Python 3 (ipykernel)",
   "language": "python",
   "name": "python3"
  },
  "language_info": {
   "codemirror_mode": {
    "name": "ipython",
    "version": 3
   },
   "file_extension": ".py",
   "mimetype": "text/x-python",
   "name": "python",
   "nbconvert_exporter": "python",
   "pygments_lexer": "ipython3",
   "version": "3.11.4"
  }
 },
 "nbformat": 4,
 "nbformat_minor": 5
}
