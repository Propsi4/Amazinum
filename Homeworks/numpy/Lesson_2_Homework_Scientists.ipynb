{
 "cells": [
  {
   "cell_type": "markdown",
   "id": "c1dcfe01-3be5-41ee-9a78-abc6da4b1b26",
   "metadata": {},
   "source": [
    "# Homework lesson2 Scientists"
   ]
  },
  {
   "cell_type": "markdown",
   "id": "5c1f2e88-003e-4756-a8d6-a4b59dce9c5e",
   "metadata": {},
   "source": [
    "There are two whole numbers:\n",
    "1 < a,b < 100\n",
    "\n",
    "One scientist(\"Sum\") get provided with sum of numbers,\n",
    "another  (\"Prod\") get provided with product of numbers. \n",
    "Both scientists know that numbers 1 < a,b <100.\n",
    "                                        \n",
    "Determine the numbers being based on the following dialog: \n",
    "    Prod: I don't know the numbers;\n",
    "    Sum: I know it;\n",
    "    Prod: then I know the numbers; \n",
    "    Sum: then I know the numbers too."
   ]
  },
  {
   "cell_type": "markdown",
   "id": "c8b7c8d4-3ec4-45a4-9f42-eed6f8960d44",
   "metadata": {},
   "source": [
    "#### Ініціалізація"
   ]
  },
  {
   "cell_type": "code",
   "execution_count": 13,
   "id": "54eef5d1-24a4-434a-ba18-ce89ba71c6d4",
   "metadata": {},
   "outputs": [],
   "source": [
    "import numpy as np\n",
    "SUM_RESULTS = np.arange(4, 199, dtype=np.int32) # всі можливі суми чисел"
   ]
  },
  {
   "cell_type": "markdown",
   "id": "e0682988-f60d-4f8b-bef5-6b5ed8f3c7be",
   "metadata": {},
   "source": [
    "# Допоміжні функції:"
   ]
  },
  {
   "cell_type": "markdown",
   "id": "e8adcb60-cfb4-4cca-8fea-5a5c5849f34a",
   "metadata": {},
   "source": [
    "#### Ця функція приймає число, та повертає масив всіх комбінацій добутків, результатом обчислення яких, буде число надане функції"
   ]
  },
  {
   "cell_type": "code",
   "execution_count": 14,
   "id": "68426992-9398-437b-8047-c25c8ad4492e",
   "metadata": {},
   "outputs": [],
   "source": [
    "def factor_pairs(number):\n",
    "    '''\n",
    "    Input: a number which has to be factorized\n",
    "    Output: list of factor pairs of the product that is equal to the input number\n",
    "\n",
    "    Example:\n",
    "    Input: 20\n",
    "    Output: [[10, 2], [4, 5]]\n",
    "    '''\n",
    "    factors = []\n",
    "    for i in range(2, int(number**0.5) + 1):\n",
    "        if number % i == 0:\n",
    "            factors.append([i, number // i])\n",
    "    return factors"
   ]
  },
  {
   "cell_type": "markdown",
   "id": "b32ca270-97bd-4f16-9960-2f328cba15c0",
   "metadata": {},
   "source": [
    "#### Ця функція приймає число, та повертає True або False, в залежності від того чи є число простим."
   ]
  },
  {
   "cell_type": "code",
   "execution_count": 15,
   "id": "909d3bd8-ab40-478e-90b5-6811cf83f67d",
   "metadata": {},
   "outputs": [],
   "source": [
    "def is_prime(number):\n",
    "    '''\n",
    "    Input: a number which has to be checked if it is prime\n",
    "    Output: True if the number is prime, False otherwise\n",
    "\n",
    "    Prime numbers: 2, 3, 5, 7, 11, 13, 17, 19, 23, 29...\n",
    "    '''\n",
    "    if number <= 1:\n",
    "        return False\n",
    "    elif number <= 3:\n",
    "        return True\n",
    "    elif number % 2 == 0 or number % 3 == 0:\n",
    "        return False\n",
    "    i = 5\n",
    "    while i * i <= number:\n",
    "        if number % i == 0 or number % (i + 2) == 0:\n",
    "            return False\n",
    "        i += 6\n",
    "    return True"
   ]
  },
  {
   "cell_type": "markdown",
   "id": "2333edb9-40c7-468f-a96b-67237193b7b3",
   "metadata": {},
   "source": [
    "#### Ця функція приймає число, та повертає масив комбінацій чисел, сума яких дорівнює числу, яке було надане функції"
   ]
  },
  {
   "cell_type": "code",
   "execution_count": 16,
   "id": "da5f285b-b10c-4b02-9b35-798e653c0449",
   "metadata": {},
   "outputs": [],
   "source": [
    "def split_into_sums(number):\n",
    "    '''\n",
    "    Input: a number which has to be split into sums\n",
    "    Output: list of all possible combinations of two numbers that sum up to the input number\n",
    "\n",
    "    Example:\n",
    "    Input: 8\n",
    "    Output: [[2,6],[3,5],[4,4]]\n",
    "    '''\n",
    "    # split combinations into sums\n",
    "    sum_combinations = np.array([], dtype=np.int32).reshape(0, 2)\n",
    "    for i in range(2, number // 2 + 1):\n",
    "        sum_combinations = np.append(sum_combinations, [(i, number - i)], axis=0)\n",
    "    return sum_combinations"
   ]
  },
  {
   "cell_type": "markdown",
   "id": "100194b4-a1e4-4776-86b3-94e49246d103",
   "metadata": {},
   "source": [
    "# Рішення:"
   ]
  },
  {
   "cell_type": "markdown",
   "id": "f1b403ab-e173-4eac-9e81-69772a07e0fb",
   "metadata": {},
   "source": [
    "## 1. Добуток: \"Я не знаю ці числа\""
   ]
  },
  {
   "cell_type": "markdown",
   "id": "23a824b7-d989-479d-acd9-09e702aa1f61",
   "metadata": {},
   "source": [
    "Це означає, що добуток точно не є унікальним, тобто таким, який утворює тільки якась одна пара чисел.\r\n",
    "\r\n",
    "Наприклад якщо добуток - 21, то він є ункіальним, оскільки існує лише одна пара чисел, яка його утворює (3, 7)\r\n",
    "\r\n",
    "Якби добуток був унікальним, то можна було б зразу здогадатись що це за числа.\r\n",
    "\r\n",
    "Також з цього можна зробити висновок, що обидва числа не можуть бути одночасно простими, оскільки добуток двох простих чисел є завжди унікальним."
   ]
  },
  {
   "cell_type": "code",
   "execution_count": 17,
   "id": "fb64436f-70f8-4a37-9402-04f733eca81c",
   "metadata": {},
   "outputs": [],
   "source": [
    "def first_move(sum_results):\n",
    "    '''\n",
    "    Input: list of all possible sum combinations\n",
    "    Output: list of all possible sum combinations after the first phrase\n",
    "    (removing all sum combinations where both numbers are prime)\n",
    "    '''\n",
    "    for sum_result in sum_results:\n",
    "        possible_numbers = split_into_sums(sum_result)\n",
    "        for possible_number in possible_numbers:\n",
    "            if is_prime(possible_number[0]) and is_prime(possible_number[1]):\n",
    "                sum_results = np.delete(sum_results, np.where(sum_results == sum_result), axis=0)\n",
    "                break\n",
    "    return sum_results"
   ]
  },
  {
   "cell_type": "markdown",
   "id": "afd951eb-4219-4453-b52d-cdb1f0a6006d",
   "metadata": {},
   "source": [
    "## 2. Сума: \"Я знаю, що ти не знаєш\""
   ]
  },
  {
   "cell_type": "markdown",
   "id": "c587263e-7ba7-4cf5-b79a-67acb22d8dd0",
   "metadata": {},
   "source": [
    "З цих слів можна зробити висновок, що число, яке сказали цьому вченому точно не є сумою двох простих чисел, або інших чисел, добуток яких є унікальним.\n",
    "\n",
    "Цей вчений побачив, що зі всіх можливих пар чисел, які можуть складати дану йому суму, не можна утворити унікальний добуток. Відповідно він знав, що вчений, якому сказали добуток, не назве правильну пару чисел, оскільки добуток, який йому назвали не є унікальним і його можуть утворити більше ніж одна пара чисел."
   ]
  },
  {
   "cell_type": "markdown",
   "id": "10818d77-6a28-43ae-bf0f-b4a9d26ee301",
   "metadata": {},
   "source": [
    "#### Ця функція поверне масив, в якому комбінації чисел розбиті по сумах, наприклад [[[2, 9], [3, 8], [4, 7]], _[[4, 13]]_, [[4, 19], [7, 16]]]"
   ]
  },
  {
   "cell_type": "code",
   "execution_count": 18,
   "id": "6a1c6b0f-8112-43e0-92b1-b58608fe3125",
   "metadata": {},
   "outputs": [],
   "source": [
    "def second_move(sum_results):\n",
    "    '''\n",
    "    Input: list of all possible sum combinations\n",
    "    Output: list of all possible answers that deal with the second phrase(rules)\n",
    "    Description:\n",
    "    1. Loop over all possible sum combinations\n",
    "    2. Split each sum combination into combinations of two numbers that sum up to the sum combination\n",
    "    3. Get all factor pairs of the product of two numbers\n",
    "    4. For each combination of factor pairs check if it's number are not prime(if yes, then skip this combination)\n",
    "    5. If the sum of the factor pairs is in the list of all possible sum combinations, then it's not the answer\n",
    "    6. Append the combination of two numbers to the list of possible answers\n",
    "\n",
    "    '''\n",
    "    possible_answers = []\n",
    "    for i, sum_result in enumerate(sum_results):\n",
    "        possible_numbers = split_into_sums(sum_result)\n",
    "        possible_answers.append([]) # масив для збереження комбінацій суми \n",
    "        for possible_number in possible_numbers:\n",
    "            factor_pairs_list = factor_pairs(possible_number[0] * possible_number[1])\n",
    "            append = True\n",
    "            for factor_pair in factor_pairs_list:\n",
    "                if is_prime(factor_pair[0]) and is_prime(factor_pair[1]):\n",
    "                    append = False\n",
    "                    break\n",
    "                if sum(factor_pair) in sum_results:\n",
    "                    if factor_pair == possible_number.tolist():\n",
    "                        continue\n",
    "                    append = False\n",
    "                    break\n",
    "            if append:\n",
    "                possible_answers[i].append(possible_number.tolist()) # додає комбінацію до масиву сум\n",
    "    return possible_answers"
   ]
  },
  {
   "cell_type": "markdown",
   "id": "82163418-ee8e-4811-bc56-a9181ff4d7e2",
   "metadata": {},
   "source": [
    "## 3. Добуток: \"Тепер я знаю ці числа\" та Сума: \"Тепер я також знаю ці числа\""
   ]
  },
  {
   "cell_type": "markdown",
   "id": "fa539b56-18c9-4dfd-ade3-9e5cc607052e",
   "metadata": {},
   "source": [
    "Тепер для того, щоб визначити правильну комбінацію чисел, нам потрібно знайти суму, якій відповідає тільки один добуток."
   ]
  },
  {
   "cell_type": "code",
   "execution_count": 19,
   "id": "54a5437a-6518-47f2-b9fb-8d901f680c5b",
   "metadata": {},
   "outputs": [],
   "source": [
    "def third_move(possible_answers):\n",
    "    '''\n",
    "    Input: list of all possible answers that we got after getting the rules from a dialogue\n",
    "    Output: the combination(chooses the answer where is only one possible combination in the sum)\n",
    "    '''\n",
    "    # select the answer where is only one possible combination\n",
    "    for possible_answer in possible_answers:\n",
    "        if len(possible_answer) == 1:\n",
    "            return possible_answer"
   ]
  },
  {
   "cell_type": "markdown",
   "id": "90400e0e-7522-4a43-92c3-eab23709fe48",
   "metadata": {},
   "source": [
    "## Запуск програми"
   ]
  },
  {
   "cell_type": "code",
   "execution_count": 20,
   "id": "672af9bd-d9f8-4f02-bf33-71a967a5a1b1",
   "metadata": {},
   "outputs": [
    {
     "name": "stdout",
     "output_type": "stream",
     "text": [
      "Початкова кількість сум, які можуть бути відповіддю: 195\n",
      "Кількість сум, які можуть бути відповіддю після фрази : Добуток: \"Я не знаю ці числа\": 54\n",
      "Кількість комбінацій чисел, які можуть бути відповіддю після фрази : Сума: \"Я знаю, що ти не знаєш\": 54\n",
      "Відповідь після фраз Добуток: \"Тепер я знаю ці числа\" та Сума: \"Тепер я також знаю ці числа\": [[4, 13]]\n",
      "Час виконання: 0:00:00.391320\n"
     ]
    }
   ],
   "source": [
    "from datetime import datetime\n",
    "startTime = datetime.now()\n",
    "print(f'Початкова кількість сум, які можуть бути відповіддю: {len(SUM_RESULTS)}')\n",
    "\n",
    "SUM_RESULTS = first_move(SUM_RESULTS)\n",
    "print(f'Кількість сум, які можуть бути відповіддю після фрази : Добуток: \"Я не знаю ці числа\": {len(SUM_RESULTS)}')\n",
    "\n",
    "possible_answers = second_move(SUM_RESULTS)\n",
    "print(f'Кількість комбінацій чисел, які можуть бути відповіддю після фрази : Сума: \"Я знаю, що ти не знаєш\": {len(possible_answers)}')\n",
    "\n",
    "answer = third_move(possible_answers)\n",
    "print(f'Відповідь після фраз Добуток: \"Тепер я знаю ці числа\" та Сума: \"Тепер я також знаю ці числа\": {answer}')\n",
    "print(f'Час виконання: {datetime.now() - startTime}')"
   ]
  },
  {
   "cell_type": "code",
   "execution_count": null,
   "id": "55ca94f3-e75d-43d8-b3aa-7172c1dea760",
   "metadata": {},
   "outputs": [],
   "source": []
  }
 ],
 "metadata": {
  "kernelspec": {
   "display_name": "Python 3 (ipykernel)",
   "language": "python",
   "name": "python3"
  },
  "language_info": {
   "codemirror_mode": {
    "name": "ipython",
    "version": 3
   },
   "file_extension": ".py",
   "mimetype": "text/x-python",
   "name": "python",
   "nbconvert_exporter": "python",
   "pygments_lexer": "ipython3",
   "version": "3.11.4"
  }
 },
 "nbformat": 4,
 "nbformat_minor": 5
}
