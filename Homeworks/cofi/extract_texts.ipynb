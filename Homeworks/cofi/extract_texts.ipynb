{
 "cells": [
  {
   "cell_type": "code",
   "execution_count": 1,
   "metadata": {},
   "outputs": [],
   "source": [
    "import os"
   ]
  },
  {
   "cell_type": "code",
   "execution_count": 6,
   "metadata": {},
   "outputs": [
    {
     "data": {
      "text/plain": [
       "'c:\\\\Users\\\\acer\\\\Desktop\\\\ML\\\\Amazinum\\\\Homeworks\\\\cofi\\\\jokes_dataset/html/'"
      ]
     },
     "execution_count": 6,
     "metadata": {},
     "output_type": "execute_result"
    }
   ],
   "source": [
    "jokes_path = os.path.join(os.getcwd(), 'jokes_dataset/html/')\n",
    "jokes_path"
   ]
  },
  {
   "cell_type": "code",
   "execution_count": 7,
   "metadata": {},
   "outputs": [
    {
     "data": {
      "text/plain": [
       "['init1.html',\n",
       " 'init10.html',\n",
       " 'init100.html',\n",
       " 'init11.html',\n",
       " 'init12.html',\n",
       " 'init13.html',\n",
       " 'init14.html',\n",
       " 'init15.html',\n",
       " 'init16.html',\n",
       " 'init17.html',\n",
       " 'init18.html',\n",
       " 'init19.html',\n",
       " 'init2.html',\n",
       " 'init20.html',\n",
       " 'init21.html',\n",
       " 'init22.html',\n",
       " 'init23.html',\n",
       " 'init24.html',\n",
       " 'init25.html',\n",
       " 'init26.html',\n",
       " 'init27.html',\n",
       " 'init28.html',\n",
       " 'init29.html',\n",
       " 'init3.html',\n",
       " 'init30.html',\n",
       " 'init31.html',\n",
       " 'init32.html',\n",
       " 'init33.html',\n",
       " 'init34.html',\n",
       " 'init35.html',\n",
       " 'init36.html',\n",
       " 'init37.html',\n",
       " 'init38.html',\n",
       " 'init39.html',\n",
       " 'init4.html',\n",
       " 'init40.html',\n",
       " 'init41.html',\n",
       " 'init42.html',\n",
       " 'init43.html',\n",
       " 'init44.html',\n",
       " 'init45.html',\n",
       " 'init46.html',\n",
       " 'init47.html',\n",
       " 'init48.html',\n",
       " 'init49.html',\n",
       " 'init5.html',\n",
       " 'init50.html',\n",
       " 'init51.html',\n",
       " 'init52.html',\n",
       " 'init53.html',\n",
       " 'init54.html',\n",
       " 'init55.html',\n",
       " 'init56.html',\n",
       " 'init57.html',\n",
       " 'init58.html',\n",
       " 'init59.html',\n",
       " 'init6.html',\n",
       " 'init60.html',\n",
       " 'init61.html',\n",
       " 'init62.html',\n",
       " 'init63.html',\n",
       " 'init64.html',\n",
       " 'init65.html',\n",
       " 'init66.html',\n",
       " 'init67.html',\n",
       " 'init68.html',\n",
       " 'init69.html',\n",
       " 'init7.html',\n",
       " 'init70.html',\n",
       " 'init71.html',\n",
       " 'init72.html',\n",
       " 'init73.html',\n",
       " 'init74.html',\n",
       " 'init75.html',\n",
       " 'init76.html',\n",
       " 'init77.html',\n",
       " 'init78.html',\n",
       " 'init79.html',\n",
       " 'init8.html',\n",
       " 'init80.html',\n",
       " 'init81.html',\n",
       " 'init82.html',\n",
       " 'init83.html',\n",
       " 'init84.html',\n",
       " 'init85.html',\n",
       " 'init86.html',\n",
       " 'init87.html',\n",
       " 'init88.html',\n",
       " 'init89.html',\n",
       " 'init9.html',\n",
       " 'init90.html',\n",
       " 'init91.html',\n",
       " 'init92.html',\n",
       " 'init93.html',\n",
       " 'init94.html',\n",
       " 'init95.html',\n",
       " 'init96.html',\n",
       " 'init97.html',\n",
       " 'init98.html',\n",
       " 'init99.html']"
      ]
     },
     "execution_count": 7,
     "metadata": {},
     "output_type": "execute_result"
    }
   ],
   "source": [
    "os.listdir(jokes_path)"
   ]
  },
  {
   "cell_type": "code",
   "execution_count": 40,
   "metadata": {},
   "outputs": [],
   "source": [
    "from bs4 import BeautifulSoup\n",
    "# FILEPATH: /C:/Users/acer/Desktop/ML/Amazinum/Homeworks/cofi/extract_texts.ipynb\n",
    "texts = []\n",
    "for file in os.listdir(jokes_path):\n",
    "    with open(os.path.join(jokes_path, file), 'r') as f:\n",
    "        soup = BeautifulSoup(f, 'html.parser')\n",
    "        text = soup.get_text()\n",
    "        texts.append(text)"
   ]
  },
  {
   "cell_type": "code",
   "execution_count": 41,
   "metadata": {},
   "outputs": [],
   "source": [
    "# filter texts with no jokes\n",
    "texts_trunc = [\"\".join(text.split('\\n')[3:]) for text in texts]"
   ]
  },
  {
   "cell_type": "code",
   "execution_count": 42,
   "metadata": {},
   "outputs": [],
   "source": [
    "with open('jokes_dataset/jokes.txt', 'w') as f:\n",
    "    f.write('\\n'.join(texts_trunc))"
   ]
  },
  {
   "cell_type": "code",
   "execution_count": 43,
   "metadata": {},
   "outputs": [
    {
     "data": {
      "text/plain": [
       "101"
      ]
     },
     "execution_count": 43,
     "metadata": {},
     "output_type": "execute_result"
    }
   ],
   "source": [
    "len(texts_trunc)"
   ]
  }
 ],
 "metadata": {
  "kernelspec": {
   "display_name": "Python 3",
   "language": "python",
   "name": "python3"
  },
  "language_info": {
   "codemirror_mode": {
    "name": "ipython",
    "version": 3
   },
   "file_extension": ".py",
   "mimetype": "text/x-python",
   "name": "python",
   "nbconvert_exporter": "python",
   "pygments_lexer": "ipython3",
   "version": "3.11.4"
  }
 },
 "nbformat": 4,
 "nbformat_minor": 2
}
