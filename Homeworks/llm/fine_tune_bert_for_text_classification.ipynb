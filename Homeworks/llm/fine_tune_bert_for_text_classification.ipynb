{
 "cells": [
  {
   "cell_type": "markdown",
   "metadata": {},
   "source": [
    "# How we fine-tune transformers models for a specific task?\n",
    "\n",
    "### Fine-tuning a Transformer model for a specific task typically involves the following steps:\n",
    "- Prepare the task-specific data\n",
    "- Tokenize the data\n",
    "- Choose a pre-trained model\n",
    "- Define a fine-tuning architecture\n",
    "- Compile the model\n",
    "- Train the model\n",
    "- Evaluate the model"
   ]
  },
  {
   "cell_type": "code",
   "execution_count": 33,
   "metadata": {},
   "outputs": [
    {
     "name": "stdout",
     "output_type": "stream",
     "text": [
      "Requirement already satisfied: transformers in c:\\users\\gaend\\appdata\\local\\programs\\python\\python312\\lib\\site-packages (4.38.2)\n",
      "Requirement already satisfied: filelock in c:\\users\\gaend\\appdata\\local\\programs\\python\\python312\\lib\\site-packages (from transformers) (3.13.1)\n",
      "Requirement already satisfied: huggingface-hub<1.0,>=0.19.3 in c:\\users\\gaend\\appdata\\local\\programs\\python\\python312\\lib\\site-packages (from transformers) (0.21.4)\n",
      "Requirement already satisfied: numpy>=1.17 in c:\\users\\gaend\\appdata\\local\\programs\\python\\python312\\lib\\site-packages (from transformers) (1.26.3)\n",
      "Requirement already satisfied: packaging>=20.0 in c:\\users\\gaend\\appdata\\roaming\\python\\python312\\site-packages (from transformers) (23.2)\n",
      "Requirement already satisfied: pyyaml>=5.1 in c:\\users\\gaend\\appdata\\local\\programs\\python\\python312\\lib\\site-packages (from transformers) (6.0.1)\n",
      "Requirement already satisfied: regex!=2019.12.17 in c:\\users\\gaend\\appdata\\local\\programs\\python\\python312\\lib\\site-packages (from transformers) (2023.12.25)\n",
      "Requirement already satisfied: requests in c:\\users\\gaend\\appdata\\local\\programs\\python\\python312\\lib\\site-packages (from transformers) (2.31.0)\n",
      "Requirement already satisfied: tokenizers<0.19,>=0.14 in c:\\users\\gaend\\appdata\\local\\programs\\python\\python312\\lib\\site-packages (from transformers) (0.15.2)\n",
      "Requirement already satisfied: safetensors>=0.4.1 in c:\\users\\gaend\\appdata\\local\\programs\\python\\python312\\lib\\site-packages (from transformers) (0.4.2)\n",
      "Requirement already satisfied: tqdm>=4.27 in c:\\users\\gaend\\appdata\\local\\programs\\python\\python312\\lib\\site-packages (from transformers) (4.66.1)\n",
      "Requirement already satisfied: fsspec>=2023.5.0 in c:\\users\\gaend\\appdata\\local\\programs\\python\\python312\\lib\\site-packages (from huggingface-hub<1.0,>=0.19.3->transformers) (2023.12.2)\n",
      "Requirement already satisfied: typing-extensions>=3.7.4.3 in c:\\users\\gaend\\appdata\\local\\programs\\python\\python312\\lib\\site-packages (from huggingface-hub<1.0,>=0.19.3->transformers) (4.9.0)\n",
      "Requirement already satisfied: colorama in c:\\users\\gaend\\appdata\\local\\programs\\python\\python312\\lib\\site-packages (from tqdm>=4.27->transformers) (0.4.6)\n",
      "Requirement already satisfied: charset-normalizer<4,>=2 in c:\\users\\gaend\\appdata\\local\\programs\\python\\python312\\lib\\site-packages (from requests->transformers) (3.3.2)\n",
      "Requirement already satisfied: idna<4,>=2.5 in c:\\users\\gaend\\appdata\\local\\programs\\python\\python312\\lib\\site-packages (from requests->transformers) (3.6)\n",
      "Requirement already satisfied: urllib3<3,>=1.21.1 in c:\\users\\gaend\\appdata\\local\\programs\\python\\python312\\lib\\site-packages (from requests->transformers) (2.2.0)\n",
      "Requirement already satisfied: certifi>=2017.4.17 in c:\\users\\gaend\\appdata\\local\\programs\\python\\python312\\lib\\site-packages (from requests->transformers) (2024.2.2)\n",
      "Requirement already satisfied: pandas in c:\\users\\gaend\\appdata\\local\\programs\\python\\python312\\lib\\site-packages (2.2.0)\n",
      "Requirement already satisfied: numpy<2,>=1.26.0 in c:\\users\\gaend\\appdata\\local\\programs\\python\\python312\\lib\\site-packages (from pandas) (1.26.3)\n",
      "Requirement already satisfied: python-dateutil>=2.8.2 in c:\\users\\gaend\\appdata\\roaming\\python\\python312\\site-packages (from pandas) (2.8.2)\n",
      "Requirement already satisfied: pytz>=2020.1 in c:\\users\\gaend\\appdata\\local\\programs\\python\\python312\\lib\\site-packages (from pandas) (2023.3.post1)\n",
      "Requirement already satisfied: tzdata>=2022.7 in c:\\users\\gaend\\appdata\\local\\programs\\python\\python312\\lib\\site-packages (from pandas) (2023.4)\n",
      "Requirement already satisfied: six>=1.5 in c:\\users\\gaend\\appdata\\roaming\\python\\python312\\site-packages (from python-dateutil>=2.8.2->pandas) (1.16.0)\n",
      "Requirement already satisfied: numpy in c:\\users\\gaend\\appdata\\local\\programs\\python\\python312\\lib\\site-packages (1.26.3)\n",
      "Requirement already satisfied: seaborn in c:\\users\\gaend\\appdata\\local\\programs\\python\\python312\\lib\\site-packages (0.13.2)\n",
      "Requirement already satisfied: numpy!=1.24.0,>=1.20 in c:\\users\\gaend\\appdata\\local\\programs\\python\\python312\\lib\\site-packages (from seaborn) (1.26.3)\n",
      "Requirement already satisfied: pandas>=1.2 in c:\\users\\gaend\\appdata\\local\\programs\\python\\python312\\lib\\site-packages (from seaborn) (2.2.0)\n",
      "Requirement already satisfied: matplotlib!=3.6.1,>=3.4 in c:\\users\\gaend\\appdata\\local\\programs\\python\\python312\\lib\\site-packages (from seaborn) (3.8.2)\n",
      "Requirement already satisfied: contourpy>=1.0.1 in c:\\users\\gaend\\appdata\\local\\programs\\python\\python312\\lib\\site-packages (from matplotlib!=3.6.1,>=3.4->seaborn) (1.2.0)\n",
      "Requirement already satisfied: cycler>=0.10 in c:\\users\\gaend\\appdata\\local\\programs\\python\\python312\\lib\\site-packages (from matplotlib!=3.6.1,>=3.4->seaborn) (0.12.1)\n",
      "Requirement already satisfied: fonttools>=4.22.0 in c:\\users\\gaend\\appdata\\local\\programs\\python\\python312\\lib\\site-packages (from matplotlib!=3.6.1,>=3.4->seaborn) (4.47.2)\n",
      "Requirement already satisfied: kiwisolver>=1.3.1 in c:\\users\\gaend\\appdata\\local\\programs\\python\\python312\\lib\\site-packages (from matplotlib!=3.6.1,>=3.4->seaborn) (1.4.5)\n",
      "Requirement already satisfied: packaging>=20.0 in c:\\users\\gaend\\appdata\\roaming\\python\\python312\\site-packages (from matplotlib!=3.6.1,>=3.4->seaborn) (23.2)\n",
      "Requirement already satisfied: pillow>=8 in c:\\users\\gaend\\appdata\\local\\programs\\python\\python312\\lib\\site-packages (from matplotlib!=3.6.1,>=3.4->seaborn) (10.2.0)\n",
      "Requirement already satisfied: pyparsing>=2.3.1 in c:\\users\\gaend\\appdata\\local\\programs\\python\\python312\\lib\\site-packages (from matplotlib!=3.6.1,>=3.4->seaborn) (3.1.1)\n",
      "Requirement already satisfied: python-dateutil>=2.7 in c:\\users\\gaend\\appdata\\roaming\\python\\python312\\site-packages (from matplotlib!=3.6.1,>=3.4->seaborn) (2.8.2)\n",
      "Requirement already satisfied: pytz>=2020.1 in c:\\users\\gaend\\appdata\\local\\programs\\python\\python312\\lib\\site-packages (from pandas>=1.2->seaborn) (2023.3.post1)\n",
      "Requirement already satisfied: tzdata>=2022.7 in c:\\users\\gaend\\appdata\\local\\programs\\python\\python312\\lib\\site-packages (from pandas>=1.2->seaborn) (2023.4)\n",
      "Requirement already satisfied: six>=1.5 in c:\\users\\gaend\\appdata\\roaming\\python\\python312\\site-packages (from python-dateutil>=2.7->matplotlib!=3.6.1,>=3.4->seaborn) (1.16.0)\n",
      "Requirement already satisfied: scikit-learn in c:\\users\\gaend\\appdata\\local\\programs\\python\\python312\\lib\\site-packages (1.4.0)\n",
      "Requirement already satisfied: numpy<2.0,>=1.19.5 in c:\\users\\gaend\\appdata\\local\\programs\\python\\python312\\lib\\site-packages (from scikit-learn) (1.26.3)\n",
      "Requirement already satisfied: scipy>=1.6.0 in c:\\users\\gaend\\appdata\\local\\programs\\python\\python312\\lib\\site-packages (from scikit-learn) (1.12.0)\n",
      "Requirement already satisfied: joblib>=1.2.0 in c:\\users\\gaend\\appdata\\local\\programs\\python\\python312\\lib\\site-packages (from scikit-learn) (1.3.2)\n",
      "Requirement already satisfied: threadpoolctl>=2.0.0 in c:\\users\\gaend\\appdata\\local\\programs\\python\\python312\\lib\\site-packages (from scikit-learn) (3.2.0)\n",
      "Requirement already satisfied: torch in c:\\users\\gaend\\appdata\\local\\programs\\python\\python312\\lib\\site-packages (2.2.0+cu118)\n",
      "Requirement already satisfied: filelock in c:\\users\\gaend\\appdata\\local\\programs\\python\\python312\\lib\\site-packages (from torch) (3.13.1)\n",
      "Requirement already satisfied: typing-extensions>=4.8.0 in c:\\users\\gaend\\appdata\\local\\programs\\python\\python312\\lib\\site-packages (from torch) (4.9.0)\n",
      "Requirement already satisfied: sympy in c:\\users\\gaend\\appdata\\local\\programs\\python\\python312\\lib\\site-packages (from torch) (1.12)\n",
      "Requirement already satisfied: networkx in c:\\users\\gaend\\appdata\\local\\programs\\python\\python312\\lib\\site-packages (from torch) (3.2.1)\n",
      "Requirement already satisfied: jinja2 in c:\\users\\gaend\\appdata\\local\\programs\\python\\python312\\lib\\site-packages (from torch) (3.1.3)\n",
      "Requirement already satisfied: fsspec in c:\\users\\gaend\\appdata\\local\\programs\\python\\python312\\lib\\site-packages (from torch) (2023.12.2)\n",
      "Requirement already satisfied: MarkupSafe>=2.0 in c:\\users\\gaend\\appdata\\local\\programs\\python\\python312\\lib\\site-packages (from jinja2->torch) (2.1.3)\n",
      "Requirement already satisfied: mpmath>=0.19 in c:\\users\\gaend\\appdata\\local\\programs\\python\\python312\\lib\\site-packages (from sympy->torch) (1.3.0)\n",
      "Requirement already satisfied: openpyxl in c:\\users\\gaend\\appdata\\local\\programs\\python\\python312\\lib\\site-packages (3.1.2)\n",
      "Requirement already satisfied: et-xmlfile in c:\\users\\gaend\\appdata\\local\\programs\\python\\python312\\lib\\site-packages (from openpyxl) (1.1.0)\n",
      "Collecting tf-keras\n",
      "  Downloading tf_keras-2.16.0-py3-none-any.whl.metadata (1.6 kB)\n",
      "Collecting tensorflow<2.17,>=2.16 (from tf-keras)\n",
      "  Downloading tensorflow-2.16.1-cp312-cp312-win_amd64.whl.metadata (3.5 kB)\n",
      "Collecting tensorflow-intel==2.16.1 (from tensorflow<2.17,>=2.16->tf-keras)\n",
      "  Downloading tensorflow_intel-2.16.1-cp312-cp312-win_amd64.whl.metadata (5.0 kB)\n",
      "Requirement already satisfied: absl-py>=1.0.0 in c:\\users\\gaend\\appdata\\local\\programs\\python\\python312\\lib\\site-packages (from tensorflow-intel==2.16.1->tensorflow<2.17,>=2.16->tf-keras) (2.1.0)\n",
      "Requirement already satisfied: astunparse>=1.6.0 in c:\\users\\gaend\\appdata\\local\\programs\\python\\python312\\lib\\site-packages (from tensorflow-intel==2.16.1->tensorflow<2.17,>=2.16->tf-keras) (1.6.3)\n",
      "Requirement already satisfied: flatbuffers>=23.5.26 in c:\\users\\gaend\\appdata\\local\\programs\\python\\python312\\lib\\site-packages (from tensorflow-intel==2.16.1->tensorflow<2.17,>=2.16->tf-keras) (23.5.26)\n",
      "Requirement already satisfied: gast!=0.5.0,!=0.5.1,!=0.5.2,>=0.2.1 in c:\\users\\gaend\\appdata\\local\\programs\\python\\python312\\lib\\site-packages (from tensorflow-intel==2.16.1->tensorflow<2.17,>=2.16->tf-keras) (0.5.4)\n",
      "Requirement already satisfied: google-pasta>=0.1.1 in c:\\users\\gaend\\appdata\\local\\programs\\python\\python312\\lib\\site-packages (from tensorflow-intel==2.16.1->tensorflow<2.17,>=2.16->tf-keras) (0.2.0)\n",
      "Requirement already satisfied: h5py>=3.10.0 in c:\\users\\gaend\\appdata\\local\\programs\\python\\python312\\lib\\site-packages (from tensorflow-intel==2.16.1->tensorflow<2.17,>=2.16->tf-keras) (3.10.0)\n",
      "Requirement already satisfied: libclang>=13.0.0 in c:\\users\\gaend\\appdata\\local\\programs\\python\\python312\\lib\\site-packages (from tensorflow-intel==2.16.1->tensorflow<2.17,>=2.16->tf-keras) (16.0.6)\n",
      "Requirement already satisfied: ml-dtypes~=0.3.1 in c:\\users\\gaend\\appdata\\local\\programs\\python\\python312\\lib\\site-packages (from tensorflow-intel==2.16.1->tensorflow<2.17,>=2.16->tf-keras) (0.3.2)\n",
      "Requirement already satisfied: opt-einsum>=2.3.2 in c:\\users\\gaend\\appdata\\local\\programs\\python\\python312\\lib\\site-packages (from tensorflow-intel==2.16.1->tensorflow<2.17,>=2.16->tf-keras) (3.3.0)\n",
      "Requirement already satisfied: packaging in c:\\users\\gaend\\appdata\\roaming\\python\\python312\\site-packages (from tensorflow-intel==2.16.1->tensorflow<2.17,>=2.16->tf-keras) (23.2)\n",
      "Requirement already satisfied: protobuf!=4.21.0,!=4.21.1,!=4.21.2,!=4.21.3,!=4.21.4,!=4.21.5,<5.0.0dev,>=3.20.3 in c:\\users\\gaend\\appdata\\local\\programs\\python\\python312\\lib\\site-packages (from tensorflow-intel==2.16.1->tensorflow<2.17,>=2.16->tf-keras) (4.25.3)\n",
      "Requirement already satisfied: requests<3,>=2.21.0 in c:\\users\\gaend\\appdata\\local\\programs\\python\\python312\\lib\\site-packages (from tensorflow-intel==2.16.1->tensorflow<2.17,>=2.16->tf-keras) (2.31.0)\n",
      "Requirement already satisfied: setuptools in c:\\users\\gaend\\appdata\\local\\programs\\python\\python312\\lib\\site-packages (from tensorflow-intel==2.16.1->tensorflow<2.17,>=2.16->tf-keras) (69.1.1)\n",
      "Requirement already satisfied: six>=1.12.0 in c:\\users\\gaend\\appdata\\roaming\\python\\python312\\site-packages (from tensorflow-intel==2.16.1->tensorflow<2.17,>=2.16->tf-keras) (1.16.0)\n",
      "Requirement already satisfied: termcolor>=1.1.0 in c:\\users\\gaend\\appdata\\local\\programs\\python\\python312\\lib\\site-packages (from tensorflow-intel==2.16.1->tensorflow<2.17,>=2.16->tf-keras) (2.4.0)\n",
      "Requirement already satisfied: typing-extensions>=3.6.6 in c:\\users\\gaend\\appdata\\local\\programs\\python\\python312\\lib\\site-packages (from tensorflow-intel==2.16.1->tensorflow<2.17,>=2.16->tf-keras) (4.9.0)\n",
      "Requirement already satisfied: wrapt>=1.11.0 in c:\\users\\gaend\\appdata\\local\\programs\\python\\python312\\lib\\site-packages (from tensorflow-intel==2.16.1->tensorflow<2.17,>=2.16->tf-keras) (1.16.0)\n",
      "Requirement already satisfied: grpcio<2.0,>=1.24.3 in c:\\users\\gaend\\appdata\\local\\programs\\python\\python312\\lib\\site-packages (from tensorflow-intel==2.16.1->tensorflow<2.17,>=2.16->tf-keras) (1.62.0)\n",
      "Requirement already satisfied: tensorboard<2.17,>=2.16 in c:\\users\\gaend\\appdata\\local\\programs\\python\\python312\\lib\\site-packages (from tensorflow-intel==2.16.1->tensorflow<2.17,>=2.16->tf-keras) (2.16.2)\n",
      "Requirement already satisfied: keras>=3.0.0 in c:\\users\\gaend\\appdata\\local\\programs\\python\\python312\\lib\\site-packages (from tensorflow-intel==2.16.1->tensorflow<2.17,>=2.16->tf-keras) (3.0.5)\n",
      "Requirement already satisfied: numpy<2.0.0,>=1.26.0 in c:\\users\\gaend\\appdata\\local\\programs\\python\\python312\\lib\\site-packages (from tensorflow-intel==2.16.1->tensorflow<2.17,>=2.16->tf-keras) (1.26.3)\n",
      "Requirement already satisfied: wheel<1.0,>=0.23.0 in c:\\users\\gaend\\appdata\\local\\programs\\python\\python312\\lib\\site-packages (from astunparse>=1.6.0->tensorflow-intel==2.16.1->tensorflow<2.17,>=2.16->tf-keras) (0.42.0)\n",
      "Requirement already satisfied: rich in c:\\users\\gaend\\appdata\\local\\programs\\python\\python312\\lib\\site-packages (from keras>=3.0.0->tensorflow-intel==2.16.1->tensorflow<2.17,>=2.16->tf-keras) (13.7.0)\n",
      "Requirement already satisfied: namex in c:\\users\\gaend\\appdata\\local\\programs\\python\\python312\\lib\\site-packages (from keras>=3.0.0->tensorflow-intel==2.16.1->tensorflow<2.17,>=2.16->tf-keras) (0.0.7)\n",
      "Requirement already satisfied: dm-tree in c:\\users\\gaend\\appdata\\local\\programs\\python\\python312\\lib\\site-packages (from keras>=3.0.0->tensorflow-intel==2.16.1->tensorflow<2.17,>=2.16->tf-keras) (0.1.8)\n",
      "Requirement already satisfied: charset-normalizer<4,>=2 in c:\\users\\gaend\\appdata\\local\\programs\\python\\python312\\lib\\site-packages (from requests<3,>=2.21.0->tensorflow-intel==2.16.1->tensorflow<2.17,>=2.16->tf-keras) (3.3.2)\n",
      "Requirement already satisfied: idna<4,>=2.5 in c:\\users\\gaend\\appdata\\local\\programs\\python\\python312\\lib\\site-packages (from requests<3,>=2.21.0->tensorflow-intel==2.16.1->tensorflow<2.17,>=2.16->tf-keras) (3.6)\n",
      "Requirement already satisfied: urllib3<3,>=1.21.1 in c:\\users\\gaend\\appdata\\local\\programs\\python\\python312\\lib\\site-packages (from requests<3,>=2.21.0->tensorflow-intel==2.16.1->tensorflow<2.17,>=2.16->tf-keras) (2.2.0)\n",
      "Requirement already satisfied: certifi>=2017.4.17 in c:\\users\\gaend\\appdata\\local\\programs\\python\\python312\\lib\\site-packages (from requests<3,>=2.21.0->tensorflow-intel==2.16.1->tensorflow<2.17,>=2.16->tf-keras) (2024.2.2)\n",
      "Requirement already satisfied: markdown>=2.6.8 in c:\\users\\gaend\\appdata\\local\\programs\\python\\python312\\lib\\site-packages (from tensorboard<2.17,>=2.16->tensorflow-intel==2.16.1->tensorflow<2.17,>=2.16->tf-keras) (3.5.2)\n",
      "Requirement already satisfied: tensorboard-data-server<0.8.0,>=0.7.0 in c:\\users\\gaend\\appdata\\local\\programs\\python\\python312\\lib\\site-packages (from tensorboard<2.17,>=2.16->tensorflow-intel==2.16.1->tensorflow<2.17,>=2.16->tf-keras) (0.7.2)\n",
      "Requirement already satisfied: werkzeug>=1.0.1 in c:\\users\\gaend\\appdata\\local\\programs\\python\\python312\\lib\\site-packages (from tensorboard<2.17,>=2.16->tensorflow-intel==2.16.1->tensorflow<2.17,>=2.16->tf-keras) (3.0.1)\n",
      "Requirement already satisfied: MarkupSafe>=2.1.1 in c:\\users\\gaend\\appdata\\local\\programs\\python\\python312\\lib\\site-packages (from werkzeug>=1.0.1->tensorboard<2.17,>=2.16->tensorflow-intel==2.16.1->tensorflow<2.17,>=2.16->tf-keras) (2.1.3)\n",
      "Requirement already satisfied: markdown-it-py>=2.2.0 in c:\\users\\gaend\\appdata\\local\\programs\\python\\python312\\lib\\site-packages (from rich->keras>=3.0.0->tensorflow-intel==2.16.1->tensorflow<2.17,>=2.16->tf-keras) (3.0.0)\n",
      "Requirement already satisfied: pygments<3.0.0,>=2.13.0 in c:\\users\\gaend\\appdata\\roaming\\python\\python312\\site-packages (from rich->keras>=3.0.0->tensorflow-intel==2.16.1->tensorflow<2.17,>=2.16->tf-keras) (2.17.2)\n",
      "Requirement already satisfied: mdurl~=0.1 in c:\\users\\gaend\\appdata\\local\\programs\\python\\python312\\lib\\site-packages (from markdown-it-py>=2.2.0->rich->keras>=3.0.0->tensorflow-intel==2.16.1->tensorflow<2.17,>=2.16->tf-keras) (0.1.2)\n",
      "Downloading tf_keras-2.16.0-py3-none-any.whl (1.7 MB)\n",
      "   ---------------------------------------- 0.0/1.7 MB ? eta -:--:--\n",
      "   ---------------------------------------- 0.0/1.7 MB ? eta -:--:--\n",
      "    --------------------------------------- 0.0/1.7 MB 660.6 kB/s eta 0:00:03\n",
      "   -- ------------------------------------- 0.1/1.7 MB 1.2 MB/s eta 0:00:02\n",
      "   -------- ------------------------------- 0.3/1.7 MB 2.4 MB/s eta 0:00:01\n",
      "   ------------------ --------------------- 0.8/1.7 MB 4.3 MB/s eta 0:00:01\n",
      "   ---------------------------- ----------- 1.2/1.7 MB 5.3 MB/s eta 0:00:01\n",
      "   ---------------------------------------  1.7/1.7 MB 6.4 MB/s eta 0:00:01\n",
      "   ---------------------------------------- 1.7/1.7 MB 5.8 MB/s eta 0:00:00\n",
      "Downloading tensorflow-2.16.1-cp312-cp312-win_amd64.whl (2.1 kB)\n",
      "Downloading tensorflow_intel-2.16.1-cp312-cp312-win_amd64.whl (377.1 MB)\n",
      "   ---------------------------------------- 0.0/377.1 MB ? eta -:--:--\n",
      "   ---------------------------------------- 0.8/377.1 MB 16.3 MB/s eta 0:00:24\n",
      "   ---------------------------------------- 1.4/377.1 MB 12.3 MB/s eta 0:00:31\n",
      "   ---------------------------------------- 1.9/377.1 MB 12.1 MB/s eta 0:00:31\n",
      "   ---------------------------------------- 2.5/377.1 MB 12.3 MB/s eta 0:00:31\n",
      "   ---------------------------------------- 3.2/377.1 MB 12.1 MB/s eta 0:00:31\n",
      "   ---------------------------------------- 3.6/377.1 MB 12.2 MB/s eta 0:00:31\n",
      "   ---------------------------------------- 4.2/377.1 MB 11.8 MB/s eta 0:00:32\n",
      "    --------------------------------------- 4.9/377.1 MB 12.1 MB/s eta 0:00:31\n",
      "    --------------------------------------- 5.6/377.1 MB 11.8 MB/s eta 0:00:32\n",
      "    --------------------------------------- 6.1/377.1 MB 11.8 MB/s eta 0:00:32\n",
      "    --------------------------------------- 6.6/377.1 MB 11.7 MB/s eta 0:00:32\n",
      "    --------------------------------------- 7.0/377.1 MB 11.8 MB/s eta 0:00:32\n",
      "    --------------------------------------- 7.6/377.1 MB 11.8 MB/s eta 0:00:32\n",
      "    --------------------------------------- 8.3/377.1 MB 11.9 MB/s eta 0:00:32\n",
      "    --------------------------------------- 8.8/377.1 MB 11.8 MB/s eta 0:00:32\n",
      "    --------------------------------------- 9.3/377.1 MB 11.9 MB/s eta 0:00:31\n",
      "   - -------------------------------------- 9.8/377.1 MB 11.8 MB/s eta 0:00:31\n",
      "   - -------------------------------------- 10.4/377.1 MB 11.7 MB/s eta 0:00:32\n",
      "   - -------------------------------------- 10.9/377.1 MB 11.7 MB/s eta 0:00:32\n",
      "   - -------------------------------------- 11.5/377.1 MB 11.7 MB/s eta 0:00:32\n",
      "   - -------------------------------------- 11.9/377.1 MB 11.7 MB/s eta 0:00:32\n",
      "   - -------------------------------------- 12.5/377.1 MB 11.5 MB/s eta 0:00:32\n",
      "   - -------------------------------------- 13.4/377.1 MB 11.7 MB/s eta 0:00:32\n",
      "   - -------------------------------------- 13.9/377.1 MB 11.9 MB/s eta 0:00:31\n",
      "   - -------------------------------------- 14.5/377.1 MB 11.7 MB/s eta 0:00:32\n",
      "   - -------------------------------------- 15.0/377.1 MB 11.5 MB/s eta 0:00:32\n",
      "   - -------------------------------------- 15.6/377.1 MB 11.7 MB/s eta 0:00:31\n",
      "   - -------------------------------------- 16.3/377.1 MB 11.9 MB/s eta 0:00:31\n",
      "   - -------------------------------------- 16.8/377.1 MB 11.7 MB/s eta 0:00:31\n",
      "   - -------------------------------------- 17.4/377.1 MB 11.9 MB/s eta 0:00:31\n",
      "   - -------------------------------------- 18.0/377.1 MB 11.7 MB/s eta 0:00:31\n",
      "   - -------------------------------------- 18.4/377.1 MB 11.5 MB/s eta 0:00:32\n",
      "   - -------------------------------------- 18.8/377.1 MB 11.3 MB/s eta 0:00:32\n",
      "   -- ------------------------------------- 19.4/377.1 MB 11.5 MB/s eta 0:00:32\n",
      "   -- ------------------------------------- 20.1/377.1 MB 11.5 MB/s eta 0:00:32\n",
      "   -- ------------------------------------- 20.8/377.1 MB 11.3 MB/s eta 0:00:32\n",
      "   -- ------------------------------------- 21.5/377.1 MB 11.5 MB/s eta 0:00:31\n",
      "   -- ------------------------------------- 22.0/377.1 MB 11.5 MB/s eta 0:00:31\n",
      "   -- ------------------------------------- 22.6/377.1 MB 11.5 MB/s eta 0:00:31\n",
      "   -- ------------------------------------- 23.2/377.1 MB 11.3 MB/s eta 0:00:32\n",
      "   -- ------------------------------------- 23.7/377.1 MB 11.5 MB/s eta 0:00:31\n",
      "   -- ------------------------------------- 24.3/377.1 MB 11.3 MB/s eta 0:00:32\n",
      "   -- ------------------------------------- 24.9/377.1 MB 11.5 MB/s eta 0:00:31\n",
      "   -- ------------------------------------- 25.5/377.1 MB 11.5 MB/s eta 0:00:31\n",
      "   -- ------------------------------------- 26.2/377.1 MB 11.5 MB/s eta 0:00:31\n",
      "   -- ------------------------------------- 26.8/377.1 MB 11.3 MB/s eta 0:00:32\n",
      "   -- ------------------------------------- 27.6/377.1 MB 11.3 MB/s eta 0:00:31\n",
      "   -- ------------------------------------- 28.1/377.1 MB 11.3 MB/s eta 0:00:31\n",
      "   --- ------------------------------------ 28.8/377.1 MB 11.5 MB/s eta 0:00:31\n",
      "   --- ------------------------------------ 29.3/377.1 MB 11.7 MB/s eta 0:00:30\n",
      "   --- ------------------------------------ 30.0/377.1 MB 11.5 MB/s eta 0:00:31\n",
      "   --- ------------------------------------ 30.5/377.1 MB 11.7 MB/s eta 0:00:30\n",
      "   --- ------------------------------------ 31.0/377.1 MB 11.7 MB/s eta 0:00:30\n",
      "   --- ------------------------------------ 31.5/377.1 MB 11.5 MB/s eta 0:00:31\n",
      "   --- ------------------------------------ 32.0/377.1 MB 11.5 MB/s eta 0:00:31\n",
      "   --- ------------------------------------ 32.5/377.1 MB 11.5 MB/s eta 0:00:31\n",
      "   --- ------------------------------------ 33.5/377.1 MB 11.5 MB/s eta 0:00:30\n",
      "   --- ------------------------------------ 34.0/377.1 MB 11.5 MB/s eta 0:00:30\n",
      "   --- ------------------------------------ 34.6/377.1 MB 11.3 MB/s eta 0:00:31\n",
      "   --- ------------------------------------ 35.2/377.1 MB 11.3 MB/s eta 0:00:31\n",
      "   --- ------------------------------------ 35.6/377.1 MB 11.1 MB/s eta 0:00:31\n",
      "   --- ------------------------------------ 36.2/377.1 MB 11.3 MB/s eta 0:00:31\n",
      "   --- ------------------------------------ 36.7/377.1 MB 11.3 MB/s eta 0:00:31\n",
      "   --- ------------------------------------ 37.2/377.1 MB 11.3 MB/s eta 0:00:31\n",
      "   --- ------------------------------------ 37.3/377.1 MB 11.1 MB/s eta 0:00:31\n",
      "   ---- ----------------------------------- 37.7/377.1 MB 10.7 MB/s eta 0:00:32\n",
      "   ---- ----------------------------------- 38.0/377.1 MB 10.4 MB/s eta 0:00:33\n",
      "   ---- ----------------------------------- 38.0/377.1 MB 10.4 MB/s eta 0:00:33\n",
      "   ---- ----------------------------------- 39.1/377.1 MB 10.1 MB/s eta 0:00:34\n",
      "   ---- ----------------------------------- 39.4/377.1 MB 10.1 MB/s eta 0:00:34\n",
      "   ---- ----------------------------------- 40.5/377.1 MB 10.1 MB/s eta 0:00:34\n",
      "   ---- ----------------------------------- 41.0/377.1 MB 9.9 MB/s eta 0:00:34\n",
      "   ---- ----------------------------------- 41.5/377.1 MB 10.1 MB/s eta 0:00:34\n",
      "   ---- ----------------------------------- 42.1/377.1 MB 10.1 MB/s eta 0:00:34\n",
      "   ---- ----------------------------------- 42.5/377.1 MB 10.1 MB/s eta 0:00:34\n",
      "   ---- ----------------------------------- 43.1/377.1 MB 10.1 MB/s eta 0:00:34\n",
      "   ---- ----------------------------------- 43.6/377.1 MB 9.9 MB/s eta 0:00:34\n",
      "   ---- ----------------------------------- 44.6/377.1 MB 10.1 MB/s eta 0:00:34\n",
      "   ---- ----------------------------------- 45.2/377.1 MB 10.1 MB/s eta 0:00:33\n",
      "   ---- ----------------------------------- 45.8/377.1 MB 10.1 MB/s eta 0:00:33\n",
      "   ---- ----------------------------------- 46.4/377.1 MB 10.2 MB/s eta 0:00:33\n",
      "   ----- ---------------------------------- 47.4/377.1 MB 10.2 MB/s eta 0:00:33\n",
      "   ----- ---------------------------------- 48.1/377.1 MB 11.1 MB/s eta 0:00:30\n",
      "   ----- ---------------------------------- 48.6/377.1 MB 11.9 MB/s eta 0:00:28\n",
      "   ----- ---------------------------------- 49.3/377.1 MB 11.5 MB/s eta 0:00:29\n",
      "   ----- ---------------------------------- 49.8/377.1 MB 11.5 MB/s eta 0:00:29\n",
      "   ----- ---------------------------------- 50.3/377.1 MB 11.7 MB/s eta 0:00:28\n",
      "   ----- ---------------------------------- 50.9/377.1 MB 11.7 MB/s eta 0:00:28\n",
      "   ----- ---------------------------------- 51.6/377.1 MB 11.7 MB/s eta 0:00:28\n",
      "   ----- ---------------------------------- 52.2/377.1 MB 11.9 MB/s eta 0:00:28\n",
      "   ----- ---------------------------------- 52.8/377.1 MB 11.7 MB/s eta 0:00:28\n",
      "   ----- ---------------------------------- 53.2/377.1 MB 11.7 MB/s eta 0:00:28\n",
      "   ----- ---------------------------------- 53.9/377.1 MB 11.9 MB/s eta 0:00:28\n",
      "   ----- ---------------------------------- 54.4/377.1 MB 11.7 MB/s eta 0:00:28\n",
      "   ----- ---------------------------------- 55.0/377.1 MB 11.7 MB/s eta 0:00:28\n",
      "   ----- ---------------------------------- 55.4/377.1 MB 11.7 MB/s eta 0:00:28\n",
      "   ----- ---------------------------------- 55.9/377.1 MB 11.7 MB/s eta 0:00:28\n",
      "   ------ --------------------------------- 56.6/377.1 MB 11.9 MB/s eta 0:00:27\n",
      "   ------ --------------------------------- 57.4/377.1 MB 11.9 MB/s eta 0:00:27\n",
      "   ------ --------------------------------- 58.1/377.1 MB 11.9 MB/s eta 0:00:27\n",
      "   ------ --------------------------------- 58.8/377.1 MB 11.7 MB/s eta 0:00:28\n",
      "   ------ --------------------------------- 59.3/377.1 MB 11.7 MB/s eta 0:00:28\n",
      "   ------ --------------------------------- 59.8/377.1 MB 11.5 MB/s eta 0:00:28\n",
      "   ------ --------------------------------- 60.4/377.1 MB 11.5 MB/s eta 0:00:28\n",
      "   ------ --------------------------------- 60.9/377.1 MB 11.5 MB/s eta 0:00:28\n",
      "   ------ --------------------------------- 61.5/377.1 MB 11.7 MB/s eta 0:00:27\n",
      "   ------ --------------------------------- 62.0/377.1 MB 11.7 MB/s eta 0:00:27\n",
      "   ------ --------------------------------- 62.9/377.1 MB 11.7 MB/s eta 0:00:27\n",
      "   ------ --------------------------------- 63.6/377.1 MB 11.7 MB/s eta 0:00:27\n",
      "   ------ --------------------------------- 64.2/377.1 MB 11.7 MB/s eta 0:00:27\n",
      "   ------ --------------------------------- 64.7/377.1 MB 11.7 MB/s eta 0:00:27\n",
      "   ------ --------------------------------- 65.3/377.1 MB 11.7 MB/s eta 0:00:27\n",
      "   ------- -------------------------------- 66.1/377.1 MB 11.5 MB/s eta 0:00:28\n",
      "   ------- -------------------------------- 66.6/377.1 MB 11.5 MB/s eta 0:00:28\n",
      "   ------- -------------------------------- 67.0/377.1 MB 11.9 MB/s eta 0:00:27\n",
      "   ------- -------------------------------- 67.7/377.1 MB 11.5 MB/s eta 0:00:27\n",
      "   ------- -------------------------------- 68.3/377.1 MB 11.7 MB/s eta 0:00:27\n",
      "   ------- -------------------------------- 68.9/377.1 MB 11.7 MB/s eta 0:00:27\n",
      "   ------- -------------------------------- 69.3/377.1 MB 11.5 MB/s eta 0:00:27\n",
      "   ------- -------------------------------- 69.8/377.1 MB 11.7 MB/s eta 0:00:27\n",
      "   ------- -------------------------------- 70.4/377.1 MB 11.7 MB/s eta 0:00:27\n",
      "   ------- -------------------------------- 71.1/377.1 MB 11.7 MB/s eta 0:00:27\n",
      "   ------- -------------------------------- 71.5/377.1 MB 11.7 MB/s eta 0:00:27\n",
      "   ------- -------------------------------- 72.2/377.1 MB 11.7 MB/s eta 0:00:27\n",
      "   ------- -------------------------------- 72.7/377.1 MB 11.7 MB/s eta 0:00:27\n",
      "   ------- -------------------------------- 73.1/377.1 MB 11.7 MB/s eta 0:00:26\n",
      "   ------- -------------------------------- 73.7/377.1 MB 11.7 MB/s eta 0:00:26\n",
      "   ------- -------------------------------- 74.3/377.1 MB 11.7 MB/s eta 0:00:26\n",
      "   ------- -------------------------------- 74.7/377.1 MB 11.7 MB/s eta 0:00:26\n",
      "   ------- -------------------------------- 75.3/377.1 MB 11.7 MB/s eta 0:00:26\n",
      "   -------- ------------------------------- 76.0/377.1 MB 11.7 MB/s eta 0:00:26\n",
      "   -------- ------------------------------- 76.6/377.1 MB 11.7 MB/s eta 0:00:26\n",
      "   -------- ------------------------------- 77.0/377.1 MB 11.7 MB/s eta 0:00:26\n",
      "   -------- ------------------------------- 77.5/377.1 MB 11.9 MB/s eta 0:00:26\n",
      "   -------- ------------------------------- 77.7/377.1 MB 11.7 MB/s eta 0:00:26\n",
      "   -------- ------------------------------- 78.5/377.1 MB 11.7 MB/s eta 0:00:26\n",
      "   -------- ------------------------------- 79.1/377.1 MB 11.7 MB/s eta 0:00:26\n",
      "   -------- ------------------------------- 79.7/377.1 MB 11.7 MB/s eta 0:00:26\n",
      "   -------- ------------------------------- 80.3/377.1 MB 11.5 MB/s eta 0:00:26\n",
      "   -------- ------------------------------- 80.3/377.1 MB 11.5 MB/s eta 0:00:26\n",
      "   -------- ------------------------------- 80.6/377.1 MB 10.9 MB/s eta 0:00:28\n",
      "   -------- ------------------------------- 81.3/377.1 MB 11.1 MB/s eta 0:00:27\n",
      "   -------- ------------------------------- 81.7/377.1 MB 10.7 MB/s eta 0:00:28\n",
      "   -------- ------------------------------- 81.8/377.1 MB 10.6 MB/s eta 0:00:28\n",
      "   -------- ------------------------------- 82.5/377.1 MB 10.4 MB/s eta 0:00:29\n",
      "   -------- ------------------------------- 83.0/377.1 MB 10.4 MB/s eta 0:00:29\n",
      "   -------- ------------------------------- 83.8/377.1 MB 10.4 MB/s eta 0:00:29\n",
      "   -------- ------------------------------- 84.4/377.1 MB 10.2 MB/s eta 0:00:29\n",
      "   -------- ------------------------------- 84.7/377.1 MB 10.2 MB/s eta 0:00:29\n",
      "   --------- ------------------------------ 85.1/377.1 MB 9.8 MB/s eta 0:00:30\n",
      "   --------- ------------------------------ 85.2/377.1 MB 9.6 MB/s eta 0:00:31\n",
      "   --------- ------------------------------ 85.3/377.1 MB 9.2 MB/s eta 0:00:32\n",
      "   --------- ------------------------------ 85.6/377.1 MB 9.0 MB/s eta 0:00:33\n",
      "   --------- ------------------------------ 85.7/377.1 MB 8.7 MB/s eta 0:00:34\n",
      "   --------- ------------------------------ 86.1/377.1 MB 8.5 MB/s eta 0:00:35\n",
      "   --------- ------------------------------ 86.5/377.1 MB 8.2 MB/s eta 0:00:36\n",
      "   --------- ------------------------------ 86.9/377.1 MB 8.0 MB/s eta 0:00:37\n",
      "   --------- ------------------------------ 87.3/377.1 MB 8.0 MB/s eta 0:00:37\n",
      "   --------- ------------------------------ 87.7/377.1 MB 7.9 MB/s eta 0:00:37\n",
      "   --------- ------------------------------ 88.2/377.1 MB 8.2 MB/s eta 0:00:36\n",
      "   --------- ------------------------------ 88.7/377.1 MB 8.0 MB/s eta 0:00:37\n",
      "   --------- ------------------------------ 89.1/377.1 MB 7.9 MB/s eta 0:00:37\n",
      "   --------- ------------------------------ 90.0/377.1 MB 7.9 MB/s eta 0:00:37\n",
      "   --------- ------------------------------ 90.6/377.1 MB 8.4 MB/s eta 0:00:35\n",
      "   --------- ------------------------------ 91.0/377.1 MB 8.3 MB/s eta 0:00:35\n",
      "   --------- ------------------------------ 91.5/377.1 MB 8.5 MB/s eta 0:00:34\n",
      "   --------- ------------------------------ 92.0/377.1 MB 8.4 MB/s eta 0:00:34\n",
      "   --------- ------------------------------ 92.5/377.1 MB 8.3 MB/s eta 0:00:35\n",
      "   --------- ------------------------------ 92.8/377.1 MB 8.4 MB/s eta 0:00:34\n",
      "   --------- ------------------------------ 93.2/377.1 MB 8.3 MB/s eta 0:00:35\n",
      "   --------- ------------------------------ 93.9/377.1 MB 8.3 MB/s eta 0:00:35\n",
      "   --------- ------------------------------ 93.9/377.1 MB 8.3 MB/s eta 0:00:35\n",
      "   ---------- ----------------------------- 94.9/377.1 MB 8.3 MB/s eta 0:00:35\n",
      "   ---------- ----------------------------- 95.3/377.1 MB 8.5 MB/s eta 0:00:34\n",
      "   ---------- ----------------------------- 95.8/377.1 MB 9.1 MB/s eta 0:00:31\n",
      "   ---------- ----------------------------- 96.4/377.1 MB 9.9 MB/s eta 0:00:29\n",
      "   ---------- ----------------------------- 97.0/377.1 MB 10.1 MB/s eta 0:00:28\n",
      "   ---------- ----------------------------- 97.5/377.1 MB 10.2 MB/s eta 0:00:28\n",
      "   ---------- ----------------------------- 98.0/377.1 MB 10.4 MB/s eta 0:00:27\n",
      "   ---------- ----------------------------- 98.5/377.1 MB 10.1 MB/s eta 0:00:28\n",
      "   ---------- ----------------------------- 98.9/377.1 MB 10.2 MB/s eta 0:00:28\n",
      "   ---------- ----------------------------- 99.4/377.1 MB 10.4 MB/s eta 0:00:27\n",
      "   ---------- ---------------------------- 100.3/377.1 MB 10.2 MB/s eta 0:00:28\n",
      "   ---------- ---------------------------- 100.8/377.1 MB 10.1 MB/s eta 0:00:28\n",
      "   ---------- ---------------------------- 101.3/377.1 MB 10.2 MB/s eta 0:00:27\n",
      "   ---------- ---------------------------- 101.8/377.1 MB 10.2 MB/s eta 0:00:27\n",
      "   ---------- ---------------------------- 102.2/377.1 MB 10.2 MB/s eta 0:00:27\n",
      "   ---------- ---------------------------- 103.1/377.1 MB 10.4 MB/s eta 0:00:27\n",
      "   ---------- ---------------------------- 103.6/377.1 MB 10.7 MB/s eta 0:00:26\n",
      "   ---------- ---------------------------- 104.4/377.1 MB 11.1 MB/s eta 0:00:25\n",
      "   ---------- ---------------------------- 104.8/377.1 MB 10.7 MB/s eta 0:00:26\n",
      "   ---------- ---------------------------- 105.5/377.1 MB 10.6 MB/s eta 0:00:26\n",
      "   ---------- ---------------------------- 106.0/377.1 MB 10.9 MB/s eta 0:00:25\n",
      "   ----------- --------------------------- 106.6/377.1 MB 10.7 MB/s eta 0:00:26\n",
      "   ----------- --------------------------- 107.3/377.1 MB 11.1 MB/s eta 0:00:25\n",
      "   ----------- --------------------------- 107.9/377.1 MB 10.9 MB/s eta 0:00:25\n",
      "   ----------- --------------------------- 108.4/377.1 MB 10.9 MB/s eta 0:00:25\n",
      "   ----------- --------------------------- 109.0/377.1 MB 11.1 MB/s eta 0:00:25\n",
      "   ----------- --------------------------- 109.5/377.1 MB 11.1 MB/s eta 0:00:25\n",
      "   ----------- --------------------------- 110.1/377.1 MB 11.3 MB/s eta 0:00:24\n",
      "   ----------- --------------------------- 110.6/377.1 MB 11.5 MB/s eta 0:00:24\n",
      "   ----------- --------------------------- 111.2/377.1 MB 11.3 MB/s eta 0:00:24\n",
      "   ----------- --------------------------- 111.8/377.1 MB 11.3 MB/s eta 0:00:24\n",
      "   ----------- --------------------------- 112.4/377.1 MB 11.5 MB/s eta 0:00:24\n",
      "   ----------- --------------------------- 113.0/377.1 MB 11.5 MB/s eta 0:00:24\n",
      "   ----------- --------------------------- 113.5/377.1 MB 11.5 MB/s eta 0:00:23\n",
      "   ----------- --------------------------- 114.0/377.1 MB 11.5 MB/s eta 0:00:23\n",
      "   ----------- --------------------------- 114.5/377.1 MB 11.5 MB/s eta 0:00:23\n",
      "   ----------- --------------------------- 114.7/377.1 MB 10.9 MB/s eta 0:00:25\n",
      "   ----------- --------------------------- 115.1/377.1 MB 11.5 MB/s eta 0:00:23\n",
      "   ----------- --------------------------- 115.7/377.1 MB 10.9 MB/s eta 0:00:24\n",
      "   ------------ -------------------------- 116.3/377.1 MB 10.9 MB/s eta 0:00:24\n",
      "   ------------ -------------------------- 116.8/377.1 MB 10.9 MB/s eta 0:00:24\n",
      "   ------------ -------------------------- 117.4/377.1 MB 10.9 MB/s eta 0:00:24\n",
      "   ------------ -------------------------- 117.9/377.1 MB 10.9 MB/s eta 0:00:24\n",
      "   ------------ -------------------------- 118.5/377.1 MB 11.1 MB/s eta 0:00:24\n",
      "   ------------ -------------------------- 119.0/377.1 MB 10.7 MB/s eta 0:00:25\n",
      "   ------------ -------------------------- 119.9/377.1 MB 10.9 MB/s eta 0:00:24\n",
      "   ------------ -------------------------- 120.4/377.1 MB 10.9 MB/s eta 0:00:24\n",
      "   ------------ -------------------------- 120.8/377.1 MB 10.7 MB/s eta 0:00:24\n",
      "   ------------ -------------------------- 121.4/377.1 MB 10.7 MB/s eta 0:00:24\n",
      "   ------------ -------------------------- 121.7/377.1 MB 10.7 MB/s eta 0:00:24\n",
      "   ------------ -------------------------- 122.1/377.1 MB 10.6 MB/s eta 0:00:25\n",
      "   ------------ -------------------------- 122.6/377.1 MB 10.2 MB/s eta 0:00:25\n",
      "   ------------ -------------------------- 122.6/377.1 MB 10.2 MB/s eta 0:00:25\n",
      "   ------------- -------------------------- 123.4/377.1 MB 9.8 MB/s eta 0:00:26\n",
      "   ------------- -------------------------- 123.6/377.1 MB 9.8 MB/s eta 0:00:26\n",
      "   ------------- -------------------------- 124.1/377.1 MB 9.8 MB/s eta 0:00:26\n",
      "   ------------- -------------------------- 124.6/377.1 MB 9.6 MB/s eta 0:00:27\n",
      "   ------------ -------------------------- 125.1/377.1 MB 10.1 MB/s eta 0:00:26\n",
      "   ------------ -------------------------- 125.5/377.1 MB 10.1 MB/s eta 0:00:25\n",
      "   ------------- ------------------------- 126.0/377.1 MB 10.1 MB/s eta 0:00:25\n",
      "   ------------- -------------------------- 126.5/377.1 MB 9.9 MB/s eta 0:00:26\n",
      "   ------------- ------------------------- 127.0/377.1 MB 10.1 MB/s eta 0:00:25\n",
      "   ------------- -------------------------- 127.5/377.1 MB 9.9 MB/s eta 0:00:26\n",
      "   ------------- ------------------------- 128.2/377.1 MB 10.1 MB/s eta 0:00:25\n",
      "   ------------- -------------------------- 128.5/377.1 MB 9.9 MB/s eta 0:00:26\n",
      "   ------------- -------------------------- 129.0/377.1 MB 9.9 MB/s eta 0:00:26\n",
      "   ------------- ------------------------- 129.4/377.1 MB 10.1 MB/s eta 0:00:25\n",
      "   ------------- -------------------------- 129.9/377.1 MB 9.8 MB/s eta 0:00:26\n",
      "   ------------- -------------------------- 130.6/377.1 MB 9.8 MB/s eta 0:00:26\n",
      "   ------------- -------------------------- 131.1/377.1 MB 9.9 MB/s eta 0:00:25\n",
      "   ------------- ------------------------- 131.9/377.1 MB 10.1 MB/s eta 0:00:25\n",
      "   ------------- ------------------------- 132.7/377.1 MB 10.6 MB/s eta 0:00:24\n",
      "   ------------- ------------------------- 133.4/377.1 MB 11.1 MB/s eta 0:00:22\n",
      "   ------------- ------------------------- 133.9/377.1 MB 11.1 MB/s eta 0:00:22\n",
      "   ------------- ------------------------- 134.8/377.1 MB 11.1 MB/s eta 0:00:22\n",
      "   -------------- ------------------------ 135.5/377.1 MB 11.3 MB/s eta 0:00:22\n",
      "   -------------- ------------------------ 136.0/377.1 MB 11.5 MB/s eta 0:00:21\n",
      "   -------------- ------------------------ 136.5/377.1 MB 11.5 MB/s eta 0:00:21\n",
      "   -------------- ------------------------ 137.0/377.1 MB 11.3 MB/s eta 0:00:22\n",
      "   -------------- ------------------------ 138.1/377.1 MB 11.5 MB/s eta 0:00:21\n",
      "   -------------- ------------------------ 138.8/377.1 MB 11.5 MB/s eta 0:00:21\n",
      "   -------------- ------------------------ 139.4/377.1 MB 11.7 MB/s eta 0:00:21\n",
      "   -------------- ------------------------ 140.1/377.1 MB 11.7 MB/s eta 0:00:21\n",
      "   -------------- ------------------------ 140.7/377.1 MB 11.7 MB/s eta 0:00:21\n",
      "   -------------- ------------------------ 141.2/377.1 MB 11.7 MB/s eta 0:00:21\n",
      "   -------------- ------------------------ 141.6/377.1 MB 11.3 MB/s eta 0:00:21\n",
      "   -------------- ------------------------ 142.2/377.1 MB 11.5 MB/s eta 0:00:21\n",
      "   -------------- ------------------------ 142.8/377.1 MB 11.5 MB/s eta 0:00:21\n",
      "   -------------- ------------------------ 143.3/377.1 MB 11.5 MB/s eta 0:00:21\n",
      "   -------------- ------------------------ 143.8/377.1 MB 11.1 MB/s eta 0:00:22\n",
      "   -------------- ------------------------ 144.4/377.1 MB 11.5 MB/s eta 0:00:21\n",
      "   -------------- ------------------------ 144.9/377.1 MB 11.1 MB/s eta 0:00:21\n",
      "   --------------- ----------------------- 145.4/377.1 MB 11.3 MB/s eta 0:00:21\n",
      "   --------------- ----------------------- 145.9/377.1 MB 11.1 MB/s eta 0:00:21\n",
      "   --------------- ----------------------- 146.5/377.1 MB 11.1 MB/s eta 0:00:21\n",
      "   --------------- ----------------------- 147.5/377.1 MB 11.3 MB/s eta 0:00:21\n",
      "   --------------- ----------------------- 148.0/377.1 MB 11.5 MB/s eta 0:00:20\n",
      "   --------------- ----------------------- 148.6/377.1 MB 11.1 MB/s eta 0:00:21\n",
      "   --------------- ----------------------- 149.2/377.1 MB 11.1 MB/s eta 0:00:21\n",
      "   --------------- ----------------------- 149.8/377.1 MB 10.9 MB/s eta 0:00:21\n",
      "   --------------- ----------------------- 150.2/377.1 MB 11.1 MB/s eta 0:00:21\n",
      "   --------------- ----------------------- 150.7/377.1 MB 10.9 MB/s eta 0:00:21\n",
      "   --------------- ----------------------- 151.3/377.1 MB 10.9 MB/s eta 0:00:21\n",
      "   --------------- ----------------------- 151.8/377.1 MB 11.1 MB/s eta 0:00:21\n",
      "   --------------- ----------------------- 152.4/377.1 MB 11.1 MB/s eta 0:00:21\n",
      "   --------------- ----------------------- 153.1/377.1 MB 11.1 MB/s eta 0:00:21\n",
      "   --------------- ----------------------- 153.6/377.1 MB 11.1 MB/s eta 0:00:21\n",
      "   --------------- ----------------------- 154.2/377.1 MB 11.1 MB/s eta 0:00:21\n",
      "   ---------------- ---------------------- 154.8/377.1 MB 11.1 MB/s eta 0:00:21\n",
      "   ---------------- ---------------------- 155.3/377.1 MB 11.1 MB/s eta 0:00:20\n",
      "   ---------------- ---------------------- 156.0/377.1 MB 11.5 MB/s eta 0:00:20\n",
      "   ---------------- ---------------------- 156.7/377.1 MB 11.5 MB/s eta 0:00:20\n",
      "   ---------------- ---------------------- 157.3/377.1 MB 11.3 MB/s eta 0:00:20\n",
      "   ---------------- ---------------------- 157.8/377.1 MB 11.5 MB/s eta 0:00:20\n",
      "   ---------------- ---------------------- 158.3/377.1 MB 11.5 MB/s eta 0:00:20\n",
      "   ---------------- ---------------------- 158.8/377.1 MB 11.3 MB/s eta 0:00:20\n",
      "   ---------------- ---------------------- 159.3/377.1 MB 11.3 MB/s eta 0:00:20\n",
      "   ---------------- ---------------------- 159.9/377.1 MB 11.1 MB/s eta 0:00:20\n",
      "   ---------------- ---------------------- 160.2/377.1 MB 10.7 MB/s eta 0:00:21\n",
      "   ---------------- ---------------------- 160.7/377.1 MB 10.9 MB/s eta 0:00:20\n",
      "   ---------------- ---------------------- 161.1/377.1 MB 10.7 MB/s eta 0:00:21\n",
      "   ---------------- ---------------------- 161.5/377.1 MB 10.7 MB/s eta 0:00:21\n",
      "   ---------------- ---------------------- 161.9/377.1 MB 10.6 MB/s eta 0:00:21\n",
      "   ---------------- ---------------------- 162.4/377.1 MB 10.4 MB/s eta 0:00:21\n",
      "   ---------------- ---------------------- 163.1/377.1 MB 10.4 MB/s eta 0:00:21\n",
      "   ---------------- ---------------------- 163.6/377.1 MB 10.4 MB/s eta 0:00:21\n",
      "   ---------------- ---------------------- 164.2/377.1 MB 10.4 MB/s eta 0:00:21\n",
      "   ----------------- --------------------- 164.7/377.1 MB 10.2 MB/s eta 0:00:21\n",
      "   ----------------- --------------------- 165.3/377.1 MB 10.2 MB/s eta 0:00:21\n",
      "   ----------------- --------------------- 165.8/377.1 MB 10.2 MB/s eta 0:00:21\n",
      "   ----------------- --------------------- 166.2/377.1 MB 10.2 MB/s eta 0:00:21\n",
      "   ----------------- --------------------- 166.9/377.1 MB 10.1 MB/s eta 0:00:21\n",
      "   ----------------- --------------------- 167.5/377.1 MB 10.2 MB/s eta 0:00:21\n",
      "   ----------------- --------------------- 167.8/377.1 MB 10.2 MB/s eta 0:00:21\n",
      "   ----------------- --------------------- 168.4/377.1 MB 10.1 MB/s eta 0:00:21\n",
      "   ----------------- --------------------- 168.8/377.1 MB 10.1 MB/s eta 0:00:21\n",
      "   ----------------- --------------------- 169.4/377.1 MB 10.1 MB/s eta 0:00:21\n",
      "   ----------------- --------------------- 169.8/377.1 MB 10.2 MB/s eta 0:00:21\n",
      "   ----------------- --------------------- 170.3/377.1 MB 10.2 MB/s eta 0:00:21\n",
      "   ----------------- --------------------- 171.0/377.1 MB 10.7 MB/s eta 0:00:20\n",
      "   ----------------- --------------------- 171.5/377.1 MB 10.7 MB/s eta 0:00:20\n",
      "   ----------------- --------------------- 172.2/377.1 MB 10.9 MB/s eta 0:00:19\n",
      "   ----------------- --------------------- 172.5/377.1 MB 11.1 MB/s eta 0:00:19\n",
      "   ----------------- --------------------- 173.1/377.1 MB 10.9 MB/s eta 0:00:19\n",
      "   ----------------- --------------------- 173.6/377.1 MB 10.9 MB/s eta 0:00:19\n",
      "   ------------------ -------------------- 174.2/377.1 MB 10.9 MB/s eta 0:00:19\n",
      "   ------------------ -------------------- 174.8/377.1 MB 11.1 MB/s eta 0:00:19\n",
      "   ------------------ -------------------- 175.4/377.1 MB 11.3 MB/s eta 0:00:18\n",
      "   ------------------ -------------------- 175.8/377.1 MB 11.1 MB/s eta 0:00:19\n",
      "   ------------------ -------------------- 176.2/377.1 MB 10.9 MB/s eta 0:00:19\n",
      "   ------------------ -------------------- 177.0/377.1 MB 10.9 MB/s eta 0:00:19\n",
      "   ------------------ -------------------- 177.6/377.1 MB 11.1 MB/s eta 0:00:18\n",
      "   ------------------ -------------------- 178.4/377.1 MB 11.1 MB/s eta 0:00:18\n",
      "   ------------------ -------------------- 179.1/377.1 MB 11.1 MB/s eta 0:00:18\n",
      "   ------------------ -------------------- 179.7/377.1 MB 11.3 MB/s eta 0:00:18\n",
      "   ------------------ -------------------- 180.3/377.1 MB 11.5 MB/s eta 0:00:18\n",
      "   ------------------ -------------------- 181.1/377.1 MB 11.3 MB/s eta 0:00:18\n",
      "   ------------------ -------------------- 181.7/377.1 MB 11.3 MB/s eta 0:00:18\n",
      "   ------------------ -------------------- 182.3/377.1 MB 11.3 MB/s eta 0:00:18\n",
      "   ------------------ -------------------- 183.0/377.1 MB 11.7 MB/s eta 0:00:17\n",
      "   ------------------ -------------------- 183.4/377.1 MB 11.5 MB/s eta 0:00:17\n",
      "   ------------------- ------------------- 183.9/377.1 MB 11.5 MB/s eta 0:00:17\n",
      "   ------------------- ------------------- 184.5/377.1 MB 11.5 MB/s eta 0:00:17\n",
      "   ------------------- ------------------- 184.8/377.1 MB 11.5 MB/s eta 0:00:17\n",
      "   ------------------- ------------------- 184.9/377.1 MB 11.1 MB/s eta 0:00:18\n",
      "   ------------------- ------------------- 184.9/377.1 MB 10.7 MB/s eta 0:00:18\n",
      "   ------------------- ------------------- 184.9/377.1 MB 10.7 MB/s eta 0:00:18\n",
      "   ------------------- ------------------- 184.9/377.1 MB 10.7 MB/s eta 0:00:18\n",
      "   ------------------- -------------------- 185.3/377.1 MB 9.2 MB/s eta 0:00:21\n",
      "   ------------------- -------------------- 185.4/377.1 MB 9.0 MB/s eta 0:00:22\n",
      "   ------------------- -------------------- 185.4/377.1 MB 9.0 MB/s eta 0:00:22\n",
      "   ------------------- -------------------- 185.6/377.1 MB 8.3 MB/s eta 0:00:24\n",
      "   ------------------- -------------------- 185.9/377.1 MB 8.3 MB/s eta 0:00:24\n",
      "   ------------------- -------------------- 186.1/377.1 MB 8.2 MB/s eta 0:00:24\n",
      "   ------------------- -------------------- 186.1/377.1 MB 8.0 MB/s eta 0:00:24\n",
      "   ------------------- -------------------- 186.2/377.1 MB 7.7 MB/s eta 0:00:25\n",
      "   ------------------- -------------------- 186.3/377.1 MB 7.6 MB/s eta 0:00:26\n",
      "   ------------------- -------------------- 186.8/377.1 MB 7.4 MB/s eta 0:00:26\n",
      "   ------------------- -------------------- 187.2/377.1 MB 7.4 MB/s eta 0:00:26\n",
      "   ------------------- -------------------- 187.7/377.1 MB 7.3 MB/s eta 0:00:27\n",
      "   ------------------- -------------------- 188.3/377.1 MB 7.3 MB/s eta 0:00:26\n",
      "   -------------------- ------------------- 189.3/377.1 MB 7.2 MB/s eta 0:00:27\n",
      "   -------------------- ------------------- 189.8/377.1 MB 7.2 MB/s eta 0:00:27\n",
      "   -------------------- ------------------- 190.4/377.1 MB 7.2 MB/s eta 0:00:26\n",
      "   -------------------- ------------------- 191.0/377.1 MB 7.3 MB/s eta 0:00:26\n",
      "   -------------------- ------------------- 191.6/377.1 MB 7.3 MB/s eta 0:00:26\n",
      "   -------------------- ------------------- 192.2/377.1 MB 7.2 MB/s eta 0:00:26\n",
      "   -------------------- ------------------- 193.1/377.1 MB 7.3 MB/s eta 0:00:26\n",
      "   -------------------- ------------------- 193.7/377.1 MB 7.3 MB/s eta 0:00:26\n",
      "   -------------------- ------------------- 194.2/377.1 MB 7.3 MB/s eta 0:00:26\n",
      "   -------------------- ------------------- 194.9/377.1 MB 7.4 MB/s eta 0:00:25\n",
      "   -------------------- ------------------- 195.3/377.1 MB 8.6 MB/s eta 0:00:22\n",
      "   -------------------- ------------------- 195.9/377.1 MB 9.5 MB/s eta 0:00:20\n",
      "   -------------------- ------------------ 196.7/377.1 MB 11.3 MB/s eta 0:00:16\n",
      "   -------------------- ------------------ 197.1/377.1 MB 11.5 MB/s eta 0:00:16\n",
      "   -------------------- ------------------ 197.6/377.1 MB 11.5 MB/s eta 0:00:16\n",
      "   -------------------- ------------------ 198.1/377.1 MB 11.1 MB/s eta 0:00:17\n",
      "   -------------------- ------------------ 198.5/377.1 MB 11.1 MB/s eta 0:00:17\n",
      "   -------------------- ------------------ 198.5/377.1 MB 11.1 MB/s eta 0:00:17\n",
      "   -------------------- ------------------ 199.3/377.1 MB 10.7 MB/s eta 0:00:17\n",
      "   -------------------- ------------------ 199.7/377.1 MB 10.7 MB/s eta 0:00:17\n",
      "   -------------------- ------------------ 200.3/377.1 MB 10.6 MB/s eta 0:00:17\n",
      "   -------------------- ------------------ 200.7/377.1 MB 10.6 MB/s eta 0:00:17\n",
      "   -------------------- ------------------ 201.1/377.1 MB 10.4 MB/s eta 0:00:17\n",
      "   -------------------- ------------------ 201.8/377.1 MB 10.4 MB/s eta 0:00:17\n",
      "   -------------------- ------------------ 202.4/377.1 MB 10.2 MB/s eta 0:00:18\n",
      "   -------------------- ------------------ 202.8/377.1 MB 10.4 MB/s eta 0:00:17\n",
      "   --------------------- ----------------- 203.3/377.1 MB 10.4 MB/s eta 0:00:17\n",
      "   --------------------- ----------------- 203.9/377.1 MB 10.2 MB/s eta 0:00:17\n",
      "   --------------------- ----------------- 204.7/377.1 MB 10.4 MB/s eta 0:00:17\n",
      "   --------------------- ----------------- 205.2/377.1 MB 10.4 MB/s eta 0:00:17\n",
      "   --------------------- ----------------- 205.8/377.1 MB 10.2 MB/s eta 0:00:17\n",
      "   --------------------- ----------------- 206.2/377.1 MB 10.2 MB/s eta 0:00:17\n",
      "   --------------------- ----------------- 206.9/377.1 MB 10.1 MB/s eta 0:00:17\n",
      "   --------------------- ----------------- 207.1/377.1 MB 10.1 MB/s eta 0:00:17\n",
      "   --------------------- ----------------- 207.6/377.1 MB 10.1 MB/s eta 0:00:17\n",
      "   --------------------- ----------------- 208.1/377.1 MB 10.1 MB/s eta 0:00:17\n",
      "   --------------------- ----------------- 208.5/377.1 MB 10.1 MB/s eta 0:00:17\n",
      "   --------------------- ----------------- 209.0/377.1 MB 10.2 MB/s eta 0:00:17\n",
      "   --------------------- ----------------- 209.9/377.1 MB 10.4 MB/s eta 0:00:17\n",
      "   --------------------- ----------------- 210.4/377.1 MB 10.2 MB/s eta 0:00:17\n",
      "   --------------------- ----------------- 211.1/377.1 MB 10.2 MB/s eta 0:00:17\n",
      "   --------------------- ----------------- 211.6/377.1 MB 10.2 MB/s eta 0:00:17\n",
      "   --------------------- ----------------- 212.2/377.1 MB 10.4 MB/s eta 0:00:16\n",
      "   ---------------------- ---------------- 212.8/377.1 MB 10.1 MB/s eta 0:00:17\n",
      "   ---------------------- ---------------- 213.4/377.1 MB 10.2 MB/s eta 0:00:17\n",
      "   ---------------------- ---------------- 213.9/377.1 MB 10.2 MB/s eta 0:00:16\n",
      "   ---------------------- ---------------- 214.4/377.1 MB 10.2 MB/s eta 0:00:16\n",
      "   ---------------------- ---------------- 215.1/377.1 MB 10.2 MB/s eta 0:00:16\n",
      "   ---------------------- ---------------- 215.5/377.1 MB 10.2 MB/s eta 0:00:16\n",
      "   ---------------------- ---------------- 216.1/377.1 MB 10.2 MB/s eta 0:00:16\n",
      "   ---------------------- ---------------- 217.0/377.1 MB 10.2 MB/s eta 0:00:16\n",
      "   ---------------------- ---------------- 217.4/377.1 MB 10.6 MB/s eta 0:00:16\n",
      "   ---------------------- ---------------- 217.9/377.1 MB 10.6 MB/s eta 0:00:16\n",
      "   ---------------------- ---------------- 218.5/377.1 MB 10.9 MB/s eta 0:00:15\n",
      "   ---------------------- ---------------- 219.2/377.1 MB 10.7 MB/s eta 0:00:15\n",
      "   ---------------------- ---------------- 219.7/377.1 MB 10.7 MB/s eta 0:00:15\n",
      "   ---------------------- ---------------- 220.3/377.1 MB 10.9 MB/s eta 0:00:15\n",
      "   ---------------------- ---------------- 220.7/377.1 MB 11.3 MB/s eta 0:00:14\n",
      "   ---------------------- ---------------- 221.2/377.1 MB 11.1 MB/s eta 0:00:15\n",
      "   ---------------------- ---------------- 221.8/377.1 MB 11.3 MB/s eta 0:00:14\n",
      "   ----------------------- --------------- 222.7/377.1 MB 11.1 MB/s eta 0:00:14\n",
      "   ----------------------- --------------- 223.2/377.1 MB 11.1 MB/s eta 0:00:14\n",
      "   ----------------------- --------------- 223.8/377.1 MB 11.3 MB/s eta 0:00:14\n",
      "   ----------------------- --------------- 224.4/377.1 MB 11.5 MB/s eta 0:00:14\n",
      "   ----------------------- --------------- 225.0/377.1 MB 11.3 MB/s eta 0:00:14\n",
      "   ----------------------- --------------- 225.6/377.1 MB 11.7 MB/s eta 0:00:13\n",
      "   ----------------------- --------------- 226.2/377.1 MB 11.7 MB/s eta 0:00:13\n",
      "   ----------------------- --------------- 226.8/377.1 MB 11.7 MB/s eta 0:00:13\n",
      "   ----------------------- --------------- 227.3/377.1 MB 11.7 MB/s eta 0:00:13\n",
      "   ----------------------- --------------- 227.9/377.1 MB 11.9 MB/s eta 0:00:13\n",
      "   ----------------------- --------------- 228.5/377.1 MB 11.7 MB/s eta 0:00:13\n",
      "   ----------------------- --------------- 229.2/377.1 MB 11.9 MB/s eta 0:00:13\n",
      "   ----------------------- --------------- 229.9/377.1 MB 11.9 MB/s eta 0:00:13\n",
      "   ----------------------- --------------- 230.5/377.1 MB 12.1 MB/s eta 0:00:13\n",
      "   ----------------------- --------------- 231.1/377.1 MB 11.9 MB/s eta 0:00:13\n",
      "   ----------------------- --------------- 231.8/377.1 MB 11.7 MB/s eta 0:00:13\n",
      "   ------------------------ -------------- 232.3/377.1 MB 11.7 MB/s eta 0:00:13\n",
      "   ------------------------ -------------- 232.9/377.1 MB 11.7 MB/s eta 0:00:13\n",
      "   ------------------------ -------------- 233.5/377.1 MB 11.7 MB/s eta 0:00:13\n",
      "   ------------------------ -------------- 234.0/377.1 MB 11.7 MB/s eta 0:00:13\n",
      "   ------------------------ -------------- 234.3/377.1 MB 11.5 MB/s eta 0:00:13\n",
      "   ------------------------ -------------- 235.0/377.1 MB 11.7 MB/s eta 0:00:13\n",
      "   ------------------------ -------------- 235.6/377.1 MB 11.7 MB/s eta 0:00:13\n",
      "   ------------------------ -------------- 236.1/377.1 MB 11.5 MB/s eta 0:00:13\n",
      "   ------------------------ -------------- 236.6/377.1 MB 11.5 MB/s eta 0:00:13\n",
      "   ------------------------ -------------- 237.4/377.1 MB 11.7 MB/s eta 0:00:12\n",
      "   ------------------------ -------------- 238.0/377.1 MB 11.7 MB/s eta 0:00:12\n",
      "   ------------------------ -------------- 238.4/377.1 MB 11.3 MB/s eta 0:00:13\n",
      "   ------------------------ -------------- 239.1/377.1 MB 11.3 MB/s eta 0:00:13\n",
      "   ------------------------ -------------- 239.7/377.1 MB 11.1 MB/s eta 0:00:13\n",
      "   ------------------------ -------------- 240.0/377.1 MB 11.1 MB/s eta 0:00:13\n",
      "   ------------------------ -------------- 240.5/377.1 MB 10.9 MB/s eta 0:00:13\n",
      "   ------------------------ -------------- 240.9/377.1 MB 10.9 MB/s eta 0:00:13\n",
      "   ------------------------ -------------- 241.6/377.1 MB 10.7 MB/s eta 0:00:13\n",
      "   ------------------------- ------------- 241.9/377.1 MB 10.6 MB/s eta 0:00:13\n",
      "   ------------------------- -------------- 242.0/377.1 MB 9.9 MB/s eta 0:00:14\n",
      "   ------------------------- ------------- 242.8/377.1 MB 10.4 MB/s eta 0:00:13\n",
      "   ------------------------- ------------- 243.3/377.1 MB 10.1 MB/s eta 0:00:14\n",
      "   ------------------------- ------------- 244.0/377.1 MB 10.1 MB/s eta 0:00:14\n",
      "   ------------------------- ------------- 244.7/377.1 MB 10.2 MB/s eta 0:00:13\n",
      "   -------------------------- ------------- 245.2/377.1 MB 9.9 MB/s eta 0:00:14\n",
      "   -------------------------- ------------- 245.9/377.1 MB 9.9 MB/s eta 0:00:14\n",
      "   ------------------------- ------------- 246.6/377.1 MB 10.1 MB/s eta 0:00:13\n",
      "   ------------------------- ------------- 247.5/377.1 MB 10.1 MB/s eta 0:00:13\n",
      "   ------------------------- ------------- 248.2/377.1 MB 10.1 MB/s eta 0:00:13\n",
      "   ------------------------- ------------- 248.8/377.1 MB 10.2 MB/s eta 0:00:13\n",
      "   ------------------------- ------------- 249.4/377.1 MB 10.2 MB/s eta 0:00:13\n",
      "   ------------------------- ------------- 249.9/377.1 MB 10.2 MB/s eta 0:00:13\n",
      "   ------------------------- ------------- 250.5/377.1 MB 10.4 MB/s eta 0:00:13\n",
      "   ------------------------- ------------- 251.2/377.1 MB 10.7 MB/s eta 0:00:12\n",
      "   -------------------------- ------------ 251.9/377.1 MB 10.9 MB/s eta 0:00:12\n",
      "   -------------------------- ------------ 252.6/377.1 MB 11.3 MB/s eta 0:00:12\n",
      "   -------------------------- ------------ 253.1/377.1 MB 11.3 MB/s eta 0:00:11\n",
      "   -------------------------- ------------ 253.6/377.1 MB 11.7 MB/s eta 0:00:11\n",
      "   -------------------------- ------------ 254.4/377.1 MB 11.7 MB/s eta 0:00:11\n",
      "   -------------------------- ------------ 254.9/377.1 MB 11.7 MB/s eta 0:00:11\n",
      "   -------------------------- ------------ 255.4/377.1 MB 11.7 MB/s eta 0:00:11\n",
      "   -------------------------- ------------ 255.9/377.1 MB 11.9 MB/s eta 0:00:11\n",
      "   -------------------------- ------------ 256.5/377.1 MB 11.7 MB/s eta 0:00:11\n",
      "   -------------------------- ------------ 257.4/377.1 MB 11.7 MB/s eta 0:00:11\n",
      "   -------------------------- ------------ 258.4/377.1 MB 11.7 MB/s eta 0:00:11\n",
      "   -------------------------- ------------ 259.1/377.1 MB 11.7 MB/s eta 0:00:11\n",
      "   -------------------------- ------------ 259.8/377.1 MB 11.7 MB/s eta 0:00:11\n",
      "   -------------------------- ------------ 260.3/377.1 MB 11.7 MB/s eta 0:00:10\n",
      "   -------------------------- ------------ 260.9/377.1 MB 11.7 MB/s eta 0:00:10\n",
      "   --------------------------- ----------- 261.4/377.1 MB 11.7 MB/s eta 0:00:10\n",
      "   --------------------------- ----------- 261.9/377.1 MB 11.7 MB/s eta 0:00:10\n",
      "   --------------------------- ----------- 262.5/377.1 MB 11.7 MB/s eta 0:00:10\n",
      "   --------------------------- ----------- 263.0/377.1 MB 11.7 MB/s eta 0:00:10\n",
      "   --------------------------- ----------- 263.6/377.1 MB 11.7 MB/s eta 0:00:10\n",
      "   --------------------------- ----------- 264.5/377.1 MB 11.7 MB/s eta 0:00:10\n",
      "   --------------------------- ----------- 265.1/377.1 MB 11.7 MB/s eta 0:00:10\n",
      "   --------------------------- ----------- 265.6/377.1 MB 11.7 MB/s eta 0:00:10\n",
      "   --------------------------- ----------- 266.2/377.1 MB 11.7 MB/s eta 0:00:10\n",
      "   --------------------------- ----------- 266.7/377.1 MB 11.9 MB/s eta 0:00:10\n",
      "   --------------------------- ----------- 267.3/377.1 MB 11.9 MB/s eta 0:00:10\n",
      "   --------------------------- ----------- 268.0/377.1 MB 11.7 MB/s eta 0:00:10\n",
      "   --------------------------- ----------- 268.7/377.1 MB 11.5 MB/s eta 0:00:10\n",
      "   --------------------------- ----------- 269.3/377.1 MB 11.7 MB/s eta 0:00:10\n",
      "   --------------------------- ----------- 270.1/377.1 MB 11.5 MB/s eta 0:00:10\n",
      "   --------------------------- ----------- 270.5/377.1 MB 11.7 MB/s eta 0:00:10\n",
      "   ---------------------------- ---------- 271.1/377.1 MB 11.5 MB/s eta 0:00:10\n",
      "   ---------------------------- ---------- 271.6/377.1 MB 11.5 MB/s eta 0:00:10\n",
      "   ---------------------------- ---------- 272.3/377.1 MB 11.5 MB/s eta 0:00:10\n",
      "   ---------------------------- ---------- 272.5/377.1 MB 11.5 MB/s eta 0:00:10\n",
      "   ---------------------------- ---------- 273.8/377.1 MB 11.5 MB/s eta 0:00:09\n",
      "   ---------------------------- ---------- 274.6/377.1 MB 11.5 MB/s eta 0:00:09\n",
      "   ---------------------------- ---------- 275.4/377.1 MB 11.5 MB/s eta 0:00:09\n",
      "   ---------------------------- ---------- 276.2/377.1 MB 11.5 MB/s eta 0:00:09\n",
      "   ---------------------------- ---------- 276.7/377.1 MB 11.5 MB/s eta 0:00:09\n",
      "   ---------------------------- ---------- 277.2/377.1 MB 11.5 MB/s eta 0:00:09\n",
      "   ---------------------------- ---------- 277.9/377.1 MB 11.9 MB/s eta 0:00:09\n",
      "   ---------------------------- ---------- 278.5/377.1 MB 11.7 MB/s eta 0:00:09\n",
      "   ---------------------------- ---------- 278.9/377.1 MB 11.7 MB/s eta 0:00:09\n",
      "   ---------------------------- ---------- 279.2/377.1 MB 11.7 MB/s eta 0:00:09\n",
      "   ---------------------------- ---------- 279.2/377.1 MB 11.7 MB/s eta 0:00:09\n",
      "   ---------------------------- ---------- 279.2/377.1 MB 11.7 MB/s eta 0:00:09\n",
      "   ---------------------------- ---------- 279.3/377.1 MB 10.1 MB/s eta 0:00:10\n",
      "   ----------------------------- ---------- 279.6/377.1 MB 9.6 MB/s eta 0:00:11\n",
      "   ----------------------------- ---------- 279.9/377.1 MB 9.6 MB/s eta 0:00:11\n",
      "   ----------------------------- ---------- 280.4/377.1 MB 9.5 MB/s eta 0:00:11\n",
      "   ----------------------------- ---------- 281.0/377.1 MB 9.5 MB/s eta 0:00:11\n",
      "   ----------------------------- ---------- 281.5/377.1 MB 9.4 MB/s eta 0:00:11\n",
      "   ----------------------------- ---------- 281.7/377.1 MB 9.4 MB/s eta 0:00:11\n",
      "   ----------------------------- ---------- 282.2/377.1 MB 9.4 MB/s eta 0:00:11\n",
      "   ----------------------------- ---------- 282.4/377.1 MB 9.0 MB/s eta 0:00:11\n",
      "   ------------------------------ --------- 282.8/377.1 MB 9.2 MB/s eta 0:00:11\n",
      "   ------------------------------ --------- 283.3/377.1 MB 8.8 MB/s eta 0:00:11\n",
      "   ------------------------------ --------- 283.9/377.1 MB 8.6 MB/s eta 0:00:11\n",
      "   ------------------------------ --------- 284.1/377.1 MB 8.6 MB/s eta 0:00:11\n",
      "   ------------------------------ --------- 284.5/377.1 MB 8.5 MB/s eta 0:00:11\n",
      "   ------------------------------ --------- 284.8/377.1 MB 8.4 MB/s eta 0:00:11\n",
      "   ------------------------------ --------- 285.2/377.1 MB 8.1 MB/s eta 0:00:12\n",
      "   ------------------------------ --------- 285.7/377.1 MB 8.3 MB/s eta 0:00:12\n",
      "   ------------------------------ --------- 286.1/377.1 MB 8.0 MB/s eta 0:00:12\n",
      "   ------------------------------ --------- 286.5/377.1 MB 8.0 MB/s eta 0:00:12\n",
      "   ------------------------------ --------- 286.9/377.1 MB 7.9 MB/s eta 0:00:12\n",
      "   ------------------------------ --------- 287.3/377.1 MB 7.8 MB/s eta 0:00:12\n",
      "   ------------------------------ --------- 287.7/377.1 MB 7.6 MB/s eta 0:00:12\n",
      "   ------------------------------ --------- 288.3/377.1 MB 7.8 MB/s eta 0:00:12\n",
      "   ------------------------------ --------- 288.9/377.1 MB 7.7 MB/s eta 0:00:12\n",
      "   ------------------------------ --------- 289.5/377.1 MB 8.8 MB/s eta 0:00:10\n",
      "   ------------------------------ --------- 290.0/377.1 MB 9.0 MB/s eta 0:00:10\n",
      "   ------------------------------ --------- 290.6/377.1 MB 9.1 MB/s eta 0:00:10\n",
      "   ------------------------------ --------- 291.2/377.1 MB 9.0 MB/s eta 0:00:10\n",
      "   ------------------------------ --------- 291.8/377.1 MB 9.2 MB/s eta 0:00:10\n",
      "   ------------------------------- -------- 292.3/377.1 MB 9.2 MB/s eta 0:00:10\n",
      "   ------------------------------- -------- 292.9/377.1 MB 9.8 MB/s eta 0:00:09\n",
      "   ------------------------------- -------- 293.5/377.1 MB 9.9 MB/s eta 0:00:09\n",
      "   ------------------------------ -------- 294.1/377.1 MB 10.1 MB/s eta 0:00:09\n",
      "   ------------------------------ -------- 294.7/377.1 MB 10.1 MB/s eta 0:00:09\n",
      "   ------------------------------ -------- 295.3/377.1 MB 10.7 MB/s eta 0:00:08\n",
      "   ------------------------------ -------- 295.8/377.1 MB 10.7 MB/s eta 0:00:08\n",
      "   ------------------------------ -------- 296.4/377.1 MB 10.9 MB/s eta 0:00:08\n",
      "   ------------------------------ -------- 297.0/377.1 MB 11.1 MB/s eta 0:00:08\n",
      "   ------------------------------ -------- 297.6/377.1 MB 11.5 MB/s eta 0:00:07\n",
      "   ------------------------------ -------- 298.2/377.1 MB 11.7 MB/s eta 0:00:07\n",
      "   ------------------------------ -------- 298.8/377.1 MB 11.7 MB/s eta 0:00:07\n",
      "   ------------------------------ -------- 299.4/377.1 MB 11.5 MB/s eta 0:00:07\n",
      "   ------------------------------- ------- 300.0/377.1 MB 11.7 MB/s eta 0:00:07\n",
      "   ------------------------------- ------- 300.6/377.1 MB 11.9 MB/s eta 0:00:07\n",
      "   ------------------------------- ------- 301.2/377.1 MB 11.7 MB/s eta 0:00:07\n",
      "   ------------------------------- ------- 301.8/377.1 MB 11.7 MB/s eta 0:00:07\n",
      "   ------------------------------- ------- 302.3/377.1 MB 11.9 MB/s eta 0:00:07\n",
      "   ------------------------------- ------- 302.9/377.1 MB 11.9 MB/s eta 0:00:07\n",
      "   ------------------------------- ------- 303.5/377.1 MB 11.7 MB/s eta 0:00:07\n",
      "   ------------------------------- ------- 304.1/377.1 MB 11.7 MB/s eta 0:00:07\n",
      "   ------------------------------- ------- 304.7/377.1 MB 11.9 MB/s eta 0:00:07\n",
      "   ------------------------------- ------- 305.3/377.1 MB 11.9 MB/s eta 0:00:07\n",
      "   ------------------------------- ------- 305.9/377.1 MB 11.9 MB/s eta 0:00:06\n",
      "   ------------------------------- ------- 306.5/377.1 MB 12.1 MB/s eta 0:00:06\n",
      "   ------------------------------- ------- 307.1/377.1 MB 11.9 MB/s eta 0:00:06\n",
      "   ------------------------------- ------- 307.7/377.1 MB 11.9 MB/s eta 0:00:06\n",
      "   ------------------------------- ------- 308.3/377.1 MB 11.9 MB/s eta 0:00:06\n",
      "   ------------------------------- ------- 308.8/377.1 MB 11.9 MB/s eta 0:00:06\n",
      "   -------------------------------- ------ 309.5/377.1 MB 11.9 MB/s eta 0:00:06\n",
      "   -------------------------------- ------ 310.0/377.1 MB 11.9 MB/s eta 0:00:06\n",
      "   -------------------------------- ------ 310.6/377.1 MB 11.9 MB/s eta 0:00:06\n",
      "   -------------------------------- ------ 311.2/377.1 MB 11.9 MB/s eta 0:00:06\n",
      "   -------------------------------- ------ 311.7/377.1 MB 11.9 MB/s eta 0:00:06\n",
      "   -------------------------------- ------ 312.2/377.1 MB 11.9 MB/s eta 0:00:06\n",
      "   -------------------------------- ------ 312.8/377.1 MB 11.9 MB/s eta 0:00:06\n",
      "   -------------------------------- ------ 313.4/377.1 MB 11.9 MB/s eta 0:00:06\n",
      "   -------------------------------- ------ 314.0/377.1 MB 11.9 MB/s eta 0:00:06\n",
      "   -------------------------------- ------ 314.6/377.1 MB 11.7 MB/s eta 0:00:06\n",
      "   -------------------------------- ------ 315.1/377.1 MB 11.9 MB/s eta 0:00:06\n",
      "   -------------------------------- ------ 315.6/377.1 MB 11.9 MB/s eta 0:00:06\n",
      "   -------------------------------- ------ 316.1/377.1 MB 11.9 MB/s eta 0:00:06\n",
      "   -------------------------------- ------ 316.7/377.1 MB 11.9 MB/s eta 0:00:06\n",
      "   -------------------------------- ------ 317.3/377.1 MB 11.7 MB/s eta 0:00:06\n",
      "   -------------------------------- ------ 317.9/377.1 MB 12.1 MB/s eta 0:00:05\n",
      "   -------------------------------- ------ 318.5/377.1 MB 11.9 MB/s eta 0:00:05\n",
      "   --------------------------------- ----- 319.1/377.1 MB 11.9 MB/s eta 0:00:05\n",
      "   --------------------------------- ----- 319.7/377.1 MB 11.9 MB/s eta 0:00:05\n",
      "   --------------------------------- ----- 320.3/377.1 MB 11.7 MB/s eta 0:00:05\n",
      "   --------------------------------- ----- 320.9/377.1 MB 11.7 MB/s eta 0:00:05\n",
      "   --------------------------------- ----- 321.5/377.1 MB 12.1 MB/s eta 0:00:05\n",
      "   --------------------------------- ----- 322.1/377.1 MB 11.9 MB/s eta 0:00:05\n",
      "   --------------------------------- ----- 322.5/377.1 MB 11.7 MB/s eta 0:00:05\n",
      "   --------------------------------- ----- 323.0/377.1 MB 11.7 MB/s eta 0:00:05\n",
      "   --------------------------------- ----- 323.6/377.1 MB 11.7 MB/s eta 0:00:05\n",
      "   --------------------------------- ----- 324.2/377.1 MB 11.5 MB/s eta 0:00:05\n",
      "   --------------------------------- ----- 324.8/377.1 MB 11.5 MB/s eta 0:00:05\n",
      "   --------------------------------- ----- 325.4/377.1 MB 11.5 MB/s eta 0:00:05\n",
      "   --------------------------------- ----- 325.9/377.1 MB 11.7 MB/s eta 0:00:05\n",
      "   --------------------------------- ----- 326.5/377.1 MB 11.5 MB/s eta 0:00:05\n",
      "   --------------------------------- ----- 326.8/377.1 MB 11.3 MB/s eta 0:00:05\n",
      "   --------------------------------- ----- 327.3/377.1 MB 11.3 MB/s eta 0:00:05\n",
      "   --------------------------------- ----- 327.6/377.1 MB 11.5 MB/s eta 0:00:05\n",
      "   --------------------------------- ----- 328.0/377.1 MB 11.1 MB/s eta 0:00:05\n",
      "   --------------------------------- ----- 328.4/377.1 MB 10.9 MB/s eta 0:00:05\n",
      "   --------------------------------- ----- 328.7/377.1 MB 10.7 MB/s eta 0:00:05\n",
      "   ---------------------------------- ---- 329.2/377.1 MB 10.6 MB/s eta 0:00:05\n",
      "   ---------------------------------- ---- 329.5/377.1 MB 10.4 MB/s eta 0:00:05\n",
      "   ---------------------------------- ---- 330.0/377.1 MB 10.4 MB/s eta 0:00:05\n",
      "   ---------------------------------- ---- 330.3/377.1 MB 10.1 MB/s eta 0:00:05\n",
      "   ---------------------------------- ---- 330.8/377.1 MB 10.1 MB/s eta 0:00:05\n",
      "   ----------------------------------- ---- 331.3/377.1 MB 9.9 MB/s eta 0:00:05\n",
      "   ---------------------------------- ---- 331.9/377.1 MB 10.1 MB/s eta 0:00:05\n",
      "   ---------------------------------- ---- 332.4/377.1 MB 10.1 MB/s eta 0:00:05\n",
      "   ---------------------------------- ---- 333.0/377.1 MB 10.2 MB/s eta 0:00:05\n",
      "   ---------------------------------- ---- 333.6/377.1 MB 10.2 MB/s eta 0:00:05\n",
      "   ---------------------------------- ---- 334.1/377.1 MB 10.2 MB/s eta 0:00:05\n",
      "   ---------------------------------- ---- 334.7/377.1 MB 10.2 MB/s eta 0:00:05\n",
      "   ---------------------------------- ---- 335.1/377.1 MB 10.2 MB/s eta 0:00:05\n",
      "   ----------------------------------- ---- 335.4/377.1 MB 9.9 MB/s eta 0:00:05\n",
      "   ---------------------------------- ---- 336.0/377.1 MB 10.1 MB/s eta 0:00:05\n",
      "   ----------------------------------- ---- 336.6/377.1 MB 9.9 MB/s eta 0:00:05\n",
      "   ---------------------------------- ---- 337.1/377.1 MB 10.2 MB/s eta 0:00:04\n",
      "   ---------------------------------- ---- 337.7/377.1 MB 10.2 MB/s eta 0:00:04\n",
      "   ---------------------------------- ---- 338.2/377.1 MB 10.4 MB/s eta 0:00:04\n",
      "   ----------------------------------- --- 338.7/377.1 MB 10.6 MB/s eta 0:00:04\n",
      "   ----------------------------------- --- 339.4/377.1 MB 10.7 MB/s eta 0:00:04\n",
      "   ----------------------------------- --- 339.9/377.1 MB 10.9 MB/s eta 0:00:04\n",
      "   ----------------------------------- --- 340.5/377.1 MB 11.1 MB/s eta 0:00:04\n",
      "   ----------------------------------- --- 341.1/377.1 MB 11.3 MB/s eta 0:00:04\n",
      "   ----------------------------------- --- 341.7/377.1 MB 11.3 MB/s eta 0:00:04\n",
      "   ----------------------------------- --- 342.0/377.1 MB 10.9 MB/s eta 0:00:04\n",
      "   ----------------------------------- --- 342.6/377.1 MB 11.1 MB/s eta 0:00:04\n",
      "   ----------------------------------- --- 343.1/377.1 MB 11.1 MB/s eta 0:00:04\n",
      "   ----------------------------------- --- 343.7/377.1 MB 11.1 MB/s eta 0:00:04\n",
      "   ----------------------------------- --- 344.3/377.1 MB 10.9 MB/s eta 0:00:04\n",
      "   ----------------------------------- --- 344.7/377.1 MB 10.9 MB/s eta 0:00:03\n",
      "   ----------------------------------- --- 345.3/377.1 MB 11.1 MB/s eta 0:00:03\n",
      "   ----------------------------------- --- 345.8/377.1 MB 11.3 MB/s eta 0:00:03\n",
      "   ----------------------------------- --- 346.3/377.1 MB 11.3 MB/s eta 0:00:03\n",
      "   ----------------------------------- --- 346.8/377.1 MB 11.3 MB/s eta 0:00:03\n",
      "   ----------------------------------- --- 347.3/377.1 MB 11.3 MB/s eta 0:00:03\n",
      "   ----------------------------------- --- 347.9/377.1 MB 11.3 MB/s eta 0:00:03\n",
      "   ------------------------------------ -- 348.5/377.1 MB 11.5 MB/s eta 0:00:03\n",
      "   ------------------------------------ -- 349.1/377.1 MB 11.5 MB/s eta 0:00:03\n",
      "   ------------------------------------ -- 349.6/377.1 MB 11.5 MB/s eta 0:00:03\n",
      "   ------------------------------------ -- 350.2/377.1 MB 11.5 MB/s eta 0:00:03\n",
      "   ------------------------------------ -- 350.8/377.1 MB 11.7 MB/s eta 0:00:03\n",
      "   ------------------------------------ -- 351.4/377.1 MB 11.5 MB/s eta 0:00:03\n",
      "   ------------------------------------ -- 352.0/377.1 MB 11.5 MB/s eta 0:00:03\n",
      "   ------------------------------------ -- 352.6/377.1 MB 11.7 MB/s eta 0:00:03\n",
      "   ------------------------------------ -- 353.2/377.1 MB 11.9 MB/s eta 0:00:03\n",
      "   ------------------------------------ -- 353.8/377.1 MB 11.7 MB/s eta 0:00:02\n",
      "   ------------------------------------ -- 354.4/377.1 MB 11.7 MB/s eta 0:00:02\n",
      "   ------------------------------------ -- 354.9/377.1 MB 11.7 MB/s eta 0:00:02\n",
      "   ------------------------------------ -- 355.5/377.1 MB 11.9 MB/s eta 0:00:02\n",
      "   ------------------------------------ -- 356.1/377.1 MB 11.7 MB/s eta 0:00:02\n",
      "   ------------------------------------ -- 356.7/377.1 MB 11.7 MB/s eta 0:00:02\n",
      "   ------------------------------------ -- 357.2/377.1 MB 11.7 MB/s eta 0:00:02\n",
      "   ------------------------------------- - 357.8/377.1 MB 11.9 MB/s eta 0:00:02\n",
      "   ------------------------------------- - 358.3/377.1 MB 11.7 MB/s eta 0:00:02\n",
      "   ------------------------------------- - 358.8/377.1 MB 11.7 MB/s eta 0:00:02\n",
      "   ------------------------------------- - 359.4/377.1 MB 11.9 MB/s eta 0:00:02\n",
      "   ------------------------------------- - 360.0/377.1 MB 11.7 MB/s eta 0:00:02\n",
      "   ------------------------------------- - 360.6/377.1 MB 11.7 MB/s eta 0:00:02\n",
      "   ------------------------------------- - 361.1/377.1 MB 11.9 MB/s eta 0:00:02\n",
      "   ------------------------------------- - 361.6/377.1 MB 11.9 MB/s eta 0:00:02\n",
      "   ------------------------------------- - 362.2/377.1 MB 11.9 MB/s eta 0:00:02\n",
      "   ------------------------------------- - 362.6/377.1 MB 11.7 MB/s eta 0:00:02\n",
      "   ------------------------------------- - 363.2/377.1 MB 11.7 MB/s eta 0:00:02\n",
      "   ------------------------------------- - 363.7/377.1 MB 11.9 MB/s eta 0:00:02\n",
      "   ------------------------------------- - 364.2/377.1 MB 11.7 MB/s eta 0:00:02\n",
      "   ------------------------------------- - 364.7/377.1 MB 11.9 MB/s eta 0:00:02\n",
      "   ------------------------------------- - 365.3/377.1 MB 11.9 MB/s eta 0:00:01\n",
      "   ------------------------------------- - 365.8/377.1 MB 11.7 MB/s eta 0:00:01\n",
      "   ------------------------------------- - 366.3/377.1 MB 11.9 MB/s eta 0:00:01\n",
      "   ------------------------------------- - 366.9/377.1 MB 11.9 MB/s eta 0:00:01\n",
      "   --------------------------------------  367.5/377.1 MB 11.9 MB/s eta 0:00:01\n",
      "   --------------------------------------  368.0/377.1 MB 11.9 MB/s eta 0:00:01\n",
      "   --------------------------------------  368.6/377.1 MB 11.9 MB/s eta 0:00:01\n",
      "   --------------------------------------  369.2/377.1 MB 11.9 MB/s eta 0:00:01\n",
      "   --------------------------------------  369.7/377.1 MB 11.9 MB/s eta 0:00:01\n",
      "   --------------------------------------  370.3/377.1 MB 11.9 MB/s eta 0:00:01\n",
      "   --------------------------------------  370.8/377.1 MB 11.7 MB/s eta 0:00:01\n",
      "   --------------------------------------  371.0/377.1 MB 11.5 MB/s eta 0:00:01\n",
      "   --------------------------------------  371.3/377.1 MB 11.3 MB/s eta 0:00:01\n",
      "   --------------------------------------  371.9/377.1 MB 11.1 MB/s eta 0:00:01\n",
      "   --------------------------------------  372.3/377.1 MB 10.9 MB/s eta 0:00:01\n",
      "   --------------------------------------  372.3/377.1 MB 10.9 MB/s eta 0:00:01\n",
      "   --------------------------------------  372.8/377.1 MB 10.6 MB/s eta 0:00:01\n",
      "   --------------------------------------  373.4/377.1 MB 10.4 MB/s eta 0:00:01\n",
      "   --------------------------------------  373.4/377.1 MB 10.4 MB/s eta 0:00:01\n",
      "   ---------------------------------------  373.5/377.1 MB 9.6 MB/s eta 0:00:01\n",
      "   ---------------------------------------  374.1/377.1 MB 9.6 MB/s eta 0:00:01\n",
      "   ---------------------------------------  374.2/377.1 MB 9.2 MB/s eta 0:00:01\n",
      "   ---------------------------------------  374.4/377.1 MB 9.1 MB/s eta 0:00:01\n",
      "   ---------------------------------------  374.6/377.1 MB 8.8 MB/s eta 0:00:01\n",
      "   ---------------------------------------  374.7/377.1 MB 8.6 MB/s eta 0:00:01\n",
      "   ---------------------------------------  374.8/377.1 MB 8.4 MB/s eta 0:00:01\n",
      "   ---------------------------------------  375.0/377.1 MB 8.2 MB/s eta 0:00:01\n",
      "   ---------------------------------------  375.3/377.1 MB 8.0 MB/s eta 0:00:01\n",
      "   ---------------------------------------  375.7/377.1 MB 7.9 MB/s eta 0:00:01\n",
      "   ---------------------------------------  376.3/377.1 MB 7.9 MB/s eta 0:00:01\n",
      "   ---------------------------------------  376.8/377.1 MB 7.9 MB/s eta 0:00:01\n",
      "   ---------------------------------------  377.1/377.1 MB 7.8 MB/s eta 0:00:01\n",
      "   ---------------------------------------  377.1/377.1 MB 7.8 MB/s eta 0:00:01\n",
      "   ---------------------------------------  377.1/377.1 MB 7.8 MB/s eta 0:00:01\n",
      "   ---------------------------------------  377.1/377.1 MB 7.8 MB/s eta 0:00:01\n",
      "   ---------------------------------------  377.1/377.1 MB 7.8 MB/s eta 0:00:01\n",
      "   ---------------------------------------  377.1/377.1 MB 7.8 MB/s eta 0:00:01\n",
      "   ---------------------------------------  377.1/377.1 MB 7.8 MB/s eta 0:00:01\n",
      "   ---------------------------------------  377.1/377.1 MB 7.8 MB/s eta 0:00:01\n",
      "   ---------------------------------------  377.1/377.1 MB 7.8 MB/s eta 0:00:01\n",
      "   ---------------------------------------  377.1/377.1 MB 7.8 MB/s eta 0:00:01\n",
      "   ---------------------------------------  377.1/377.1 MB 7.8 MB/s eta 0:00:01\n",
      "   ---------------------------------------  377.1/377.1 MB 7.8 MB/s eta 0:00:01\n",
      "   ---------------------------------------  377.1/377.1 MB 7.8 MB/s eta 0:00:01\n",
      "   ---------------------------------------  377.1/377.1 MB 7.8 MB/s eta 0:00:01\n",
      "   ---------------------------------------  377.1/377.1 MB 7.8 MB/s eta 0:00:01\n",
      "   ---------------------------------------  377.1/377.1 MB 7.8 MB/s eta 0:00:01\n",
      "   ---------------------------------------  377.1/377.1 MB 7.8 MB/s eta 0:00:01\n",
      "   ---------------------------------------  377.1/377.1 MB 7.8 MB/s eta 0:00:01\n",
      "   ---------------------------------------  377.1/377.1 MB 7.8 MB/s eta 0:00:01\n",
      "   ---------------------------------------  377.1/377.1 MB 7.8 MB/s eta 0:00:01\n",
      "   ---------------------------------------  377.1/377.1 MB 7.8 MB/s eta 0:00:01\n",
      "   ---------------------------------------  377.1/377.1 MB 7.8 MB/s eta 0:00:01\n",
      "   ---------------------------------------  377.1/377.1 MB 7.8 MB/s eta 0:00:01\n",
      "   ---------------------------------------  377.1/377.1 MB 7.8 MB/s eta 0:00:01\n",
      "   ---------------------------------------  377.1/377.1 MB 7.8 MB/s eta 0:00:01\n",
      "   ---------------------------------------  377.1/377.1 MB 7.8 MB/s eta 0:00:01\n",
      "   ---------------------------------------  377.1/377.1 MB 7.8 MB/s eta 0:00:01\n",
      "   ---------------------------------------  377.1/377.1 MB 7.8 MB/s eta 0:00:01\n",
      "   ---------------------------------------  377.1/377.1 MB 7.8 MB/s eta 0:00:01\n",
      "   ---------------------------------------  377.1/377.1 MB 7.8 MB/s eta 0:00:01\n",
      "   ---------------------------------------  377.1/377.1 MB 7.8 MB/s eta 0:00:01\n",
      "   ---------------------------------------  377.1/377.1 MB 7.8 MB/s eta 0:00:01\n",
      "   ---------------------------------------  377.1/377.1 MB 7.8 MB/s eta 0:00:01\n",
      "   ---------------------------------------  377.1/377.1 MB 7.8 MB/s eta 0:00:01\n",
      "   ---------------------------------------  377.1/377.1 MB 7.8 MB/s eta 0:00:01\n",
      "   ---------------------------------------  377.1/377.1 MB 7.8 MB/s eta 0:00:01\n",
      "   ---------------------------------------  377.1/377.1 MB 7.8 MB/s eta 0:00:01\n",
      "   ---------------------------------------  377.1/377.1 MB 7.8 MB/s eta 0:00:01\n",
      "   ---------------------------------------  377.1/377.1 MB 7.8 MB/s eta 0:00:01\n",
      "   ---------------------------------------  377.1/377.1 MB 7.8 MB/s eta 0:00:01\n",
      "   ---------------------------------------  377.1/377.1 MB 7.8 MB/s eta 0:00:01\n",
      "   ---------------------------------------  377.1/377.1 MB 7.8 MB/s eta 0:00:01\n",
      "   ---------------------------------------  377.1/377.1 MB 7.8 MB/s eta 0:00:01\n",
      "   ---------------------------------------  377.1/377.1 MB 7.8 MB/s eta 0:00:01\n",
      "   ---------------------------------------  377.1/377.1 MB 7.8 MB/s eta 0:00:01\n",
      "   ---------------------------------------  377.1/377.1 MB 7.8 MB/s eta 0:00:01\n",
      "   ---------------------------------------  377.1/377.1 MB 7.8 MB/s eta 0:00:01\n",
      "   ---------------------------------------  377.1/377.1 MB 7.8 MB/s eta 0:00:01\n",
      "   ---------------------------------------  377.1/377.1 MB 7.8 MB/s eta 0:00:01\n",
      "   ---------------------------------------  377.1/377.1 MB 7.8 MB/s eta 0:00:01\n",
      "   ---------------------------------------  377.1/377.1 MB 7.8 MB/s eta 0:00:01\n",
      "   ---------------------------------------  377.1/377.1 MB 7.8 MB/s eta 0:00:01\n",
      "   ---------------------------------------  377.1/377.1 MB 7.8 MB/s eta 0:00:01\n",
      "   ---------------------------------------  377.1/377.1 MB 7.8 MB/s eta 0:00:01\n",
      "   ---------------------------------------  377.1/377.1 MB 7.8 MB/s eta 0:00:01\n",
      "   ---------------------------------------  377.1/377.1 MB 7.8 MB/s eta 0:00:01\n",
      "   ---------------------------------------  377.1/377.1 MB 7.8 MB/s eta 0:00:01\n",
      "   ---------------------------------------  377.1/377.1 MB 7.8 MB/s eta 0:00:01\n",
      "   ---------------------------------------  377.1/377.1 MB 7.8 MB/s eta 0:00:01\n",
      "   ---------------------------------------  377.1/377.1 MB 7.8 MB/s eta 0:00:01\n",
      "   ---------------------------------------  377.1/377.1 MB 7.8 MB/s eta 0:00:01\n",
      "   ---------------------------------------  377.1/377.1 MB 7.8 MB/s eta 0:00:01\n",
      "   ---------------------------------------  377.1/377.1 MB 7.8 MB/s eta 0:00:01\n",
      "   ---------------------------------------  377.1/377.1 MB 7.8 MB/s eta 0:00:01\n",
      "   ---------------------------------------  377.1/377.1 MB 7.8 MB/s eta 0:00:01\n",
      "   ---------------------------------------  377.1/377.1 MB 7.8 MB/s eta 0:00:01\n",
      "   ---------------------------------------  377.1/377.1 MB 7.8 MB/s eta 0:00:01\n",
      "   ---------------------------------------  377.1/377.1 MB 7.8 MB/s eta 0:00:01\n",
      "   ---------------------------------------  377.1/377.1 MB 7.8 MB/s eta 0:00:01\n",
      "   ---------------------------------------  377.1/377.1 MB 7.8 MB/s eta 0:00:01\n",
      "   ---------------------------------------  377.1/377.1 MB 7.8 MB/s eta 0:00:01\n",
      "   ---------------------------------------  377.1/377.1 MB 7.8 MB/s eta 0:00:01\n",
      "   ---------------------------------------  377.1/377.1 MB 7.8 MB/s eta 0:00:01\n",
      "   ---------------------------------------  377.1/377.1 MB 7.8 MB/s eta 0:00:01\n",
      "   ---------------------------------------  377.1/377.1 MB 7.8 MB/s eta 0:00:01\n",
      "   ---------------------------------------  377.1/377.1 MB 7.8 MB/s eta 0:00:01\n",
      "   ---------------------------------------  377.1/377.1 MB 7.8 MB/s eta 0:00:01\n",
      "   ---------------------------------------  377.1/377.1 MB 7.8 MB/s eta 0:00:01\n",
      "   ---------------------------------------  377.1/377.1 MB 7.8 MB/s eta 0:00:01\n",
      "   ---------------------------------------  377.1/377.1 MB 7.8 MB/s eta 0:00:01\n",
      "   ---------------------------------------  377.1/377.1 MB 7.8 MB/s eta 0:00:01\n",
      "   ---------------------------------------  377.1/377.1 MB 7.8 MB/s eta 0:00:01\n",
      "   ---------------------------------------- 377.1/377.1 MB 2.0 MB/s eta 0:00:00\n",
      "Installing collected packages: tensorflow-intel, tensorflow, tf-keras\n",
      "  Attempting uninstall: tensorflow-intel\n",
      "    Found existing installation: tensorflow-intel 2.16.0rc0\n",
      "    Uninstalling tensorflow-intel-2.16.0rc0:\n",
      "      Successfully uninstalled tensorflow-intel-2.16.0rc0\n",
      "  Attempting uninstall: tensorflow\n",
      "    Found existing installation: tensorflow 2.16.0rc0\n",
      "    Uninstalling tensorflow-2.16.0rc0:\n",
      "      Successfully uninstalled tensorflow-2.16.0rc0\n",
      "Successfully installed tensorflow-2.16.1 tensorflow-intel-2.16.1 tf-keras-2.16.0\n"
     ]
    },
    {
     "name": "stderr",
     "output_type": "stream",
     "text": [
      "  WARNING: Failed to remove contents in a temporary directory 'C:\\Users\\gaend\\AppData\\Local\\Programs\\Python\\Python312\\Lib\\site-packages\\~ensorflow'.\n",
      "  You can safely remove it manually.\n"
     ]
    },
    {
     "name": "stdout",
     "output_type": "stream",
     "text": [
      "Requirement already satisfied: torchinfo in c:\\users\\gaend\\appdata\\local\\programs\\python\\python312\\lib\\site-packages (1.8.0)\n"
     ]
    }
   ],
   "source": [
    "# install required libraries\n",
    "!pip install transformers\n",
    "!pip install pandas\n",
    "!pip install numpy\n",
    "!pip install seaborn\n",
    "!pip install scikit-learn\n",
    "!pip install torch\n",
    "!pip install openpyxl\n",
    "!pip install tf-keras\n",
    "# torchinfo is a Python library for getting information about PyTorch models and tensors. \n",
    "!pip install torchinfo"
   ]
  },
  {
   "cell_type": "markdown",
   "metadata": {},
   "source": [
    "### 1. Prepare the task-specific data"
   ]
  },
  {
   "cell_type": "markdown",
   "metadata": {},
   "source": [
    "#### Download Dataset"
   ]
  },
  {
   "cell_type": "code",
   "execution_count": 5,
   "metadata": {},
   "outputs": [
    {
     "name": "stderr",
     "output_type": "stream",
     "text": [
      "SYSTEM_WGETRC = c:/progra~1/wget/etc/wgetrc\n",
      "syswgetrc = C:\\Program Files (x86)\\GnuWin32/etc/wgetrc\n",
      "--2024-03-16 18:04:12--  https://www.dropbox.com/s/lkd0eklmi64m9xm/AirlineTweets.csv?dl=0\n",
      "Resolving www.dropbox.com... 162.125.66.18\n",
      "Connecting to www.dropbox.com|162.125.66.18|:443... connected.\n",
      "OpenSSL: error:1407742E:SSL routines:SSL23_GET_SERVER_HELLO:tlsv1 alert protocol version\n",
      "Unable to establish SSL connection.\n"
     ]
    }
   ],
   "source": [
    "# download data from provided link\n",
    "# !wget -nc https://www.dropbox.com/s/lkd0eklmi64m9xm/AirlineTweets.csv?dl=0"
   ]
  },
  {
   "cell_type": "markdown",
   "metadata": {},
   "source": [
    "#### Import required libraries"
   ]
  },
  {
   "cell_type": "code",
   "execution_count": 1,
   "metadata": {},
   "outputs": [],
   "source": [
    "# import required libraries\n",
    "import pandas as pd\n",
    "import numpy as np\n",
    "import seaborn as sns\n",
    "\n",
    "import torch\n",
    "\n",
    "from sklearn.metrics import f1_score, accuracy_score, confusion_matrix\n",
    "from sklearn.model_selection import train_test_split"
   ]
  },
  {
   "cell_type": "markdown",
   "metadata": {},
   "source": [
    "#### Load dataset"
   ]
  },
  {
   "cell_type": "code",
   "execution_count": 2,
   "metadata": {},
   "outputs": [],
   "source": [
    "df = pd.read_csv('AirlineTweets.csv')"
   ]
  },
  {
   "cell_type": "markdown",
   "metadata": {},
   "source": [
    "#### check how data looks like"
   ]
  },
  {
   "cell_type": "code",
   "execution_count": 3,
   "metadata": {},
   "outputs": [
    {
     "data": {
      "text/html": [
       "<div>\n",
       "<style scoped>\n",
       "    .dataframe tbody tr th:only-of-type {\n",
       "        vertical-align: middle;\n",
       "    }\n",
       "\n",
       "    .dataframe tbody tr th {\n",
       "        vertical-align: top;\n",
       "    }\n",
       "\n",
       "    .dataframe thead th {\n",
       "        text-align: right;\n",
       "    }\n",
       "</style>\n",
       "<table border=\"1\" class=\"dataframe\">\n",
       "  <thead>\n",
       "    <tr style=\"text-align: right;\">\n",
       "      <th></th>\n",
       "      <th>tweet_id</th>\n",
       "      <th>airline_sentiment</th>\n",
       "      <th>airline_sentiment_confidence</th>\n",
       "      <th>negativereason</th>\n",
       "      <th>negativereason_confidence</th>\n",
       "      <th>airline</th>\n",
       "      <th>airline_sentiment_gold</th>\n",
       "      <th>name</th>\n",
       "      <th>negativereason_gold</th>\n",
       "      <th>retweet_count</th>\n",
       "      <th>text</th>\n",
       "      <th>tweet_coord</th>\n",
       "      <th>tweet_created</th>\n",
       "      <th>tweet_location</th>\n",
       "      <th>user_timezone</th>\n",
       "    </tr>\n",
       "  </thead>\n",
       "  <tbody>\n",
       "    <tr>\n",
       "      <th>0</th>\n",
       "      <td>570306133677760513</td>\n",
       "      <td>neutral</td>\n",
       "      <td>1.0000</td>\n",
       "      <td>NaN</td>\n",
       "      <td>NaN</td>\n",
       "      <td>Virgin America</td>\n",
       "      <td>NaN</td>\n",
       "      <td>cairdin</td>\n",
       "      <td>NaN</td>\n",
       "      <td>0</td>\n",
       "      <td>@VirginAmerica What @dhepburn said.</td>\n",
       "      <td>NaN</td>\n",
       "      <td>2015-02-24 11:35:52 -0800</td>\n",
       "      <td>NaN</td>\n",
       "      <td>Eastern Time (US &amp; Canada)</td>\n",
       "    </tr>\n",
       "    <tr>\n",
       "      <th>1</th>\n",
       "      <td>570301130888122368</td>\n",
       "      <td>positive</td>\n",
       "      <td>0.3486</td>\n",
       "      <td>NaN</td>\n",
       "      <td>0.0000</td>\n",
       "      <td>Virgin America</td>\n",
       "      <td>NaN</td>\n",
       "      <td>jnardino</td>\n",
       "      <td>NaN</td>\n",
       "      <td>0</td>\n",
       "      <td>@VirginAmerica plus you've added commercials t...</td>\n",
       "      <td>NaN</td>\n",
       "      <td>2015-02-24 11:15:59 -0800</td>\n",
       "      <td>NaN</td>\n",
       "      <td>Pacific Time (US &amp; Canada)</td>\n",
       "    </tr>\n",
       "    <tr>\n",
       "      <th>2</th>\n",
       "      <td>570301083672813571</td>\n",
       "      <td>neutral</td>\n",
       "      <td>0.6837</td>\n",
       "      <td>NaN</td>\n",
       "      <td>NaN</td>\n",
       "      <td>Virgin America</td>\n",
       "      <td>NaN</td>\n",
       "      <td>yvonnalynn</td>\n",
       "      <td>NaN</td>\n",
       "      <td>0</td>\n",
       "      <td>@VirginAmerica I didn't today... Must mean I n...</td>\n",
       "      <td>NaN</td>\n",
       "      <td>2015-02-24 11:15:48 -0800</td>\n",
       "      <td>Lets Play</td>\n",
       "      <td>Central Time (US &amp; Canada)</td>\n",
       "    </tr>\n",
       "    <tr>\n",
       "      <th>3</th>\n",
       "      <td>570301031407624196</td>\n",
       "      <td>negative</td>\n",
       "      <td>1.0000</td>\n",
       "      <td>Bad Flight</td>\n",
       "      <td>0.7033</td>\n",
       "      <td>Virgin America</td>\n",
       "      <td>NaN</td>\n",
       "      <td>jnardino</td>\n",
       "      <td>NaN</td>\n",
       "      <td>0</td>\n",
       "      <td>@VirginAmerica it's really aggressive to blast...</td>\n",
       "      <td>NaN</td>\n",
       "      <td>2015-02-24 11:15:36 -0800</td>\n",
       "      <td>NaN</td>\n",
       "      <td>Pacific Time (US &amp; Canada)</td>\n",
       "    </tr>\n",
       "    <tr>\n",
       "      <th>4</th>\n",
       "      <td>570300817074462722</td>\n",
       "      <td>negative</td>\n",
       "      <td>1.0000</td>\n",
       "      <td>Can't Tell</td>\n",
       "      <td>1.0000</td>\n",
       "      <td>Virgin America</td>\n",
       "      <td>NaN</td>\n",
       "      <td>jnardino</td>\n",
       "      <td>NaN</td>\n",
       "      <td>0</td>\n",
       "      <td>@VirginAmerica and it's a really big bad thing...</td>\n",
       "      <td>NaN</td>\n",
       "      <td>2015-02-24 11:14:45 -0800</td>\n",
       "      <td>NaN</td>\n",
       "      <td>Pacific Time (US &amp; Canada)</td>\n",
       "    </tr>\n",
       "  </tbody>\n",
       "</table>\n",
       "</div>"
      ],
      "text/plain": [
       "             tweet_id airline_sentiment  airline_sentiment_confidence  \\\n",
       "0  570306133677760513           neutral                        1.0000   \n",
       "1  570301130888122368          positive                        0.3486   \n",
       "2  570301083672813571           neutral                        0.6837   \n",
       "3  570301031407624196          negative                        1.0000   \n",
       "4  570300817074462722          negative                        1.0000   \n",
       "\n",
       "  negativereason  negativereason_confidence         airline  \\\n",
       "0            NaN                        NaN  Virgin America   \n",
       "1            NaN                     0.0000  Virgin America   \n",
       "2            NaN                        NaN  Virgin America   \n",
       "3     Bad Flight                     0.7033  Virgin America   \n",
       "4     Can't Tell                     1.0000  Virgin America   \n",
       "\n",
       "  airline_sentiment_gold        name negativereason_gold  retweet_count  \\\n",
       "0                    NaN     cairdin                 NaN              0   \n",
       "1                    NaN    jnardino                 NaN              0   \n",
       "2                    NaN  yvonnalynn                 NaN              0   \n",
       "3                    NaN    jnardino                 NaN              0   \n",
       "4                    NaN    jnardino                 NaN              0   \n",
       "\n",
       "                                                text tweet_coord  \\\n",
       "0                @VirginAmerica What @dhepburn said.         NaN   \n",
       "1  @VirginAmerica plus you've added commercials t...         NaN   \n",
       "2  @VirginAmerica I didn't today... Must mean I n...         NaN   \n",
       "3  @VirginAmerica it's really aggressive to blast...         NaN   \n",
       "4  @VirginAmerica and it's a really big bad thing...         NaN   \n",
       "\n",
       "               tweet_created tweet_location               user_timezone  \n",
       "0  2015-02-24 11:35:52 -0800            NaN  Eastern Time (US & Canada)  \n",
       "1  2015-02-24 11:15:59 -0800            NaN  Pacific Time (US & Canada)  \n",
       "2  2015-02-24 11:15:48 -0800      Lets Play  Central Time (US & Canada)  \n",
       "3  2015-02-24 11:15:36 -0800            NaN  Pacific Time (US & Canada)  \n",
       "4  2015-02-24 11:14:45 -0800            NaN  Pacific Time (US & Canada)  "
      ]
     },
     "execution_count": 3,
     "metadata": {},
     "output_type": "execute_result"
    }
   ],
   "source": [
    "df.head()"
   ]
  },
  {
   "cell_type": "code",
   "execution_count": 4,
   "metadata": {},
   "outputs": [
    {
     "name": "stdout",
     "output_type": "stream",
     "text": [
      "<class 'pandas.core.frame.DataFrame'>\n",
      "RangeIndex: 14640 entries, 0 to 14639\n",
      "Data columns (total 15 columns):\n",
      " #   Column                        Non-Null Count  Dtype  \n",
      "---  ------                        --------------  -----  \n",
      " 0   tweet_id                      14640 non-null  int64  \n",
      " 1   airline_sentiment             14640 non-null  object \n",
      " 2   airline_sentiment_confidence  14640 non-null  float64\n",
      " 3   negativereason                9178 non-null   object \n",
      " 4   negativereason_confidence     10522 non-null  float64\n",
      " 5   airline                       14640 non-null  object \n",
      " 6   airline_sentiment_gold        40 non-null     object \n",
      " 7   name                          14640 non-null  object \n",
      " 8   negativereason_gold           32 non-null     object \n",
      " 9   retweet_count                 14640 non-null  int64  \n",
      " 10  text                          14640 non-null  object \n",
      " 11  tweet_coord                   1019 non-null   object \n",
      " 12  tweet_created                 14640 non-null  object \n",
      " 13  tweet_location                9907 non-null   object \n",
      " 14  user_timezone                 9820 non-null   object \n",
      "dtypes: float64(2), int64(2), object(11)\n",
      "memory usage: 1.7+ MB\n"
     ]
    }
   ],
   "source": [
    "df.info()"
   ]
  },
  {
   "cell_type": "markdown",
   "metadata": {},
   "source": [
    "#### Keep required columns only"
   ]
  },
  {
   "cell_type": "code",
   "execution_count": 5,
   "metadata": {},
   "outputs": [],
   "source": [
    "df = df[['airline_sentiment','text']]"
   ]
  },
  {
   "cell_type": "markdown",
   "metadata": {},
   "source": [
    "#### Check data again"
   ]
  },
  {
   "cell_type": "code",
   "execution_count": 6,
   "metadata": {},
   "outputs": [
    {
     "data": {
      "text/html": [
       "<div>\n",
       "<style scoped>\n",
       "    .dataframe tbody tr th:only-of-type {\n",
       "        vertical-align: middle;\n",
       "    }\n",
       "\n",
       "    .dataframe tbody tr th {\n",
       "        vertical-align: top;\n",
       "    }\n",
       "\n",
       "    .dataframe thead th {\n",
       "        text-align: right;\n",
       "    }\n",
       "</style>\n",
       "<table border=\"1\" class=\"dataframe\">\n",
       "  <thead>\n",
       "    <tr style=\"text-align: right;\">\n",
       "      <th></th>\n",
       "      <th>airline_sentiment</th>\n",
       "      <th>text</th>\n",
       "    </tr>\n",
       "  </thead>\n",
       "  <tbody>\n",
       "    <tr>\n",
       "      <th>0</th>\n",
       "      <td>neutral</td>\n",
       "      <td>@VirginAmerica What @dhepburn said.</td>\n",
       "    </tr>\n",
       "    <tr>\n",
       "      <th>1</th>\n",
       "      <td>positive</td>\n",
       "      <td>@VirginAmerica plus you've added commercials t...</td>\n",
       "    </tr>\n",
       "    <tr>\n",
       "      <th>2</th>\n",
       "      <td>neutral</td>\n",
       "      <td>@VirginAmerica I didn't today... Must mean I n...</td>\n",
       "    </tr>\n",
       "    <tr>\n",
       "      <th>3</th>\n",
       "      <td>negative</td>\n",
       "      <td>@VirginAmerica it's really aggressive to blast...</td>\n",
       "    </tr>\n",
       "    <tr>\n",
       "      <th>4</th>\n",
       "      <td>negative</td>\n",
       "      <td>@VirginAmerica and it's a really big bad thing...</td>\n",
       "    </tr>\n",
       "  </tbody>\n",
       "</table>\n",
       "</div>"
      ],
      "text/plain": [
       "  airline_sentiment                                               text\n",
       "0           neutral                @VirginAmerica What @dhepburn said.\n",
       "1          positive  @VirginAmerica plus you've added commercials t...\n",
       "2           neutral  @VirginAmerica I didn't today... Must mean I n...\n",
       "3          negative  @VirginAmerica it's really aggressive to blast...\n",
       "4          negative  @VirginAmerica and it's a really big bad thing..."
      ]
     },
     "execution_count": 6,
     "metadata": {},
     "output_type": "execute_result"
    }
   ],
   "source": [
    "# As we can see, it has the 2 columns which we have selected.\n",
    "df.head()"
   ]
  },
  {
   "cell_type": "markdown",
   "metadata": {},
   "source": [
    "#### Check the distribution of classes"
   ]
  },
  {
   "cell_type": "code",
   "execution_count": 7,
   "metadata": {},
   "outputs": [
    {
     "data": {
      "text/plain": [
       "<Axes: >"
      ]
     },
     "execution_count": 7,
     "metadata": {},
     "output_type": "execute_result"
    },
    {
     "data": {
      "image/png": "[encoded data removed]",
      "text/plain": [
       "<Figure size 640x480 with 1 Axes>"
      ]
     },
     "metadata": {},
     "output_type": "display_data"
    }
   ],
   "source": [
    "df['airline_sentiment'].hist()"
   ]
  },
  {
   "cell_type": "markdown",
   "metadata": {},
   "source": [
    "#### Load the cats VS dogs dataset\n",
    "\n",
    "[Link](https://www.kaggle.com/datasets/bishnushahi/dog-cat-qa)"
   ]
  },
  {
   "cell_type": "code",
   "execution_count": 10,
   "metadata": {},
   "outputs": [
    {
     "name": "stdout",
     "output_type": "stream",
     "text": [
      "Original shape: (583, 2), New shape: (727, 2)\n"
     ]
    },
    {
     "data": {
      "text/html": [
       "<div>\n",
       "<style scoped>\n",
       "    .dataframe tbody tr th:only-of-type {\n",
       "        vertical-align: middle;\n",
       "    }\n",
       "\n",
       "    .dataframe tbody tr th {\n",
       "        vertical-align: top;\n",
       "    }\n",
       "\n",
       "    .dataframe thead th {\n",
       "        text-align: right;\n",
       "    }\n",
       "</style>\n",
       "<table border=\"1\" class=\"dataframe\">\n",
       "  <thead>\n",
       "    <tr style=\"text-align: right;\">\n",
       "      <th></th>\n",
       "      <th>text</th>\n",
       "      <th>target</th>\n",
       "    </tr>\n",
       "  </thead>\n",
       "  <tbody>\n",
       "    <tr>\n",
       "      <th>0</th>\n",
       "      <td>Why is taurine important in a cat's diet, and ...</td>\n",
       "      <td>1</td>\n",
       "    </tr>\n",
       "    <tr>\n",
       "      <th>1</th>\n",
       "      <td>What are some important considerations regardi...</td>\n",
       "      <td>1</td>\n",
       "    </tr>\n",
       "    <tr>\n",
       "      <th>2</th>\n",
       "      <td>When should you seek veterinary attention for ...</td>\n",
       "      <td>1</td>\n",
       "    </tr>\n",
       "    <tr>\n",
       "      <th>3</th>\n",
       "      <td>What are some grooming tips for cats, and why ...</td>\n",
       "      <td>1</td>\n",
       "    </tr>\n",
       "    <tr>\n",
       "      <th>4</th>\n",
       "      <td>What safety precautions should be taken for ou...</td>\n",
       "      <td>1</td>\n",
       "    </tr>\n",
       "  </tbody>\n",
       "</table>\n",
       "</div>"
      ],
      "text/plain": [
       "                                                text  target\n",
       "0  Why is taurine important in a cat's diet, and ...       1\n",
       "1  What are some important considerations regardi...       1\n",
       "2  When should you seek veterinary attention for ...       1\n",
       "3  What are some grooming tips for cats, and why ...       1\n",
       "4  What safety precautions should be taken for ou...       1"
      ]
     },
     "execution_count": 10,
     "metadata": {},
     "output_type": "execute_result"
    }
   ],
   "source": [
    "cats_dogs_df = pd.read_excel('pet.xlsx').iloc[:, :2]\n",
    "cats_dogs_df.columns = ['question', 'answer']\n",
    "\n",
    "# select only the rows containing the word 'cat' in the question or answer\n",
    "cats_question_df = cats_dogs_df[cats_dogs_df['question'].str.contains('cat')]['question']\n",
    "cats_answer_df = cats_dogs_df[cats_dogs_df['answer'].str.contains('cat')]['answer']\n",
    "\n",
    "# combine the two dataframes\n",
    "cats_df = pd.concat([cats_question_df, cats_answer_df]).reset_index(drop=True)\n",
    "cats_df = pd.DataFrame(cats_df, columns=['text'])\n",
    "cats_df['target'] = 1\n",
    "print(f'Original shape: {cats_dogs_df.shape}, New shape: {cats_df.shape}')\n",
    "cats_df.head()"
   ]
  },
  {
   "cell_type": "markdown",
   "metadata": {},
   "source": [
    "#### Map classes to the integers"
   ]
  },
  {
   "cell_type": "code",
   "execution_count": 11,
   "metadata": {},
   "outputs": [],
   "source": [
    "# target_map = { 'positive': 1, 'negative': 0, 'neutral': 2}\n",
    "# df['target'] = df['airline_sentiment'].map(target_map)\n",
    "\n",
    "df['target'] = 0\n",
    "df = pd.concat([df, cats_df], ignore_index=True)[['text', 'target']]"
   ]
  },
  {
   "cell_type": "markdown",
   "metadata": {},
   "source": [
    "Save data to new csv file. Because transformers required special format of dataset to perform operations on it, which we will give using load_dataset class. We will see next how dataset required for the transformers."
   ]
  },
  {
   "cell_type": "code",
   "execution_count": 12,
   "metadata": {},
   "outputs": [],
   "source": [
    "df1 = df[['text','target']]\n",
    "df1.columns = ['sentence','label']\n",
    "df1.to_csv('data.csv', index = False)"
   ]
  },
  {
   "cell_type": "markdown",
   "metadata": {},
   "source": [
    "The resulting “data.csv” file will contain two columns, “sentence” and “label”, which are the pre-processed features for the text sequence and target label, respectively."
   ]
  },
  {
   "cell_type": "code",
   "execution_count": 13,
   "metadata": {},
   "outputs": [
    {
     "data": {
      "text/plain": [
       "'The “!pip install datasets” command installs the “datasets” library, which provides a unified API for accessing a variety of publicly available datasets \\nfor natural language processing tasks such as sentiment analysis, machine translation, and summarization.'"
      ]
     },
     "execution_count": 13,
     "metadata": {},
     "output_type": "execute_result"
    }
   ],
   "source": [
    "\"\"\"The “!pip install datasets” command installs the “datasets” library, which provides a unified API for accessing a variety of publicly available datasets \n",
    "for natural language processing tasks such as sentiment analysis, machine translation, and summarization.\"\"\"\n",
    "# !pip install datasets"
   ]
  },
  {
   "cell_type": "code",
   "execution_count": 14,
   "metadata": {},
   "outputs": [
    {
     "name": "stderr",
     "output_type": "stream",
     "text": [
      "c:\\Users\\gaend\\AppData\\Local\\Programs\\Python\\Python312\\Lib\\site-packages\\tqdm\\auto.py:21: TqdmWarning: IProgress not found. Please update jupyter and ipywidgets. See https://ipywidgets.readthedocs.io/en/stable/user_install.html\n",
      "  from .autonotebook import tqdm as notebook_tqdm\n",
      "Generating train split: 16094 examples [00:00, 301652.21 examples/s]\n"
     ]
    }
   ],
   "source": [
    "# Imports the “load_dataset” function from the “datasets” library.\n",
    "from datasets import load_dataset\n",
    "# Uses the “load_dataset” function to load a dataset stored in a CSV file named “data.csv”, which we have stored above.\n",
    "raw_dataset = load_dataset('csv', data_files = 'data.csv')\n",
    "\n",
    "#______________________________________________________________\n",
    "# if we have multiple csv files\n",
    "# raw_dataset = load_dataset('csv', data_files = ['file1.csv','file2.csv'])"
   ]
  },
  {
   "cell_type": "markdown",
   "metadata": {},
   "source": [
    "#### Check how loaded dataset looks like"
   ]
  },
  {
   "cell_type": "code",
   "execution_count": 15,
   "metadata": {},
   "outputs": [
    {
     "data": {
      "text/plain": [
       "DatasetDict({\n",
       "    train: Dataset({\n",
       "        features: ['sentence', 'label'],\n",
       "        num_rows: 16094\n",
       "    })\n",
       "})"
      ]
     },
     "execution_count": 15,
     "metadata": {},
     "output_type": "execute_result"
    }
   ],
   "source": [
    "raw_dataset"
   ]
  },
  {
   "cell_type": "markdown",
   "metadata": {},
   "source": [
    "#### Split dataset into train and test"
   ]
  },
  {
   "cell_type": "code",
   "execution_count": 16,
   "metadata": {},
   "outputs": [],
   "source": [
    "split = raw_dataset['train'].train_test_split(test_size=0.25, seed=24)\n",
    "#__________________________________________________________________\n",
    "# raw_dataset = load_dataset('csv', \n",
    "#               data_files = { 'train': ['train1.csv','train2.csv'],\n",
    "#                              'test': 'test.csv'})"
   ]
  },
  {
   "cell_type": "code",
   "execution_count": 17,
   "metadata": {},
   "outputs": [
    {
     "data": {
      "text/plain": [
       "DatasetDict({\n",
       "    train: Dataset({\n",
       "        features: ['sentence', 'label'],\n",
       "        num_rows: 12070\n",
       "    })\n",
       "    test: Dataset({\n",
       "        features: ['sentence', 'label'],\n",
       "        num_rows: 4024\n",
       "    })\n",
       "})"
      ]
     },
     "execution_count": 17,
     "metadata": {},
     "output_type": "execute_result"
    }
   ],
   "source": [
    "#Check what we have got back\n",
    "split"
   ]
  },
  {
   "cell_type": "markdown",
   "metadata": {},
   "source": [
    "#### 2. Tokenize the data"
   ]
  },
  {
   "cell_type": "code",
   "execution_count": 18,
   "metadata": {},
   "outputs": [],
   "source": [
    "# Import AutoTokenizer and create tokenizer object\n",
    "from transformers import AutoTokenizer\n",
    "checkpoint = 'bert-base-cased' #choose the model\n",
    "tokernizer = AutoTokenizer.from_pretrained(checkpoint)"
   ]
  },
  {
   "cell_type": "code",
   "execution_count": 19,
   "metadata": {},
   "outputs": [],
   "source": [
    "\"\"\"defines the function “tokenize_fn”, which takes a single argument “batch”. \n",
    "The “batch” argument is expected to be a dictionary-like object that contains the text data to be tokenized.\"\"\"\n",
    "# Define tokenizer function\n",
    "def tokenize_fn(batch):\n",
    "  return tokernizer(batch['sentence'], truncation = True)"
   ]
  },
  {
   "cell_type": "code",
   "execution_count": 20,
   "metadata": {},
   "outputs": [
    {
     "name": "stderr",
     "output_type": "stream",
     "text": [
      "Map: 100%|██████████| 12070/12070 [00:00<00:00, 13022.42 examples/s]\n",
      "Map: 100%|██████████| 4024/4024 [00:00<00:00, 14665.96 examples/s]\n"
     ]
    }
   ],
   "source": [
    "\"\"\"returns the result of applying a tokenization function, “tokernizer”, to the “sentence” feature of the “batch” data. The “truncation” argument is set to “True”, \n",
    "which means that the tokenization function will truncate sequences that are longer than the maximum length specified by the model.\"\"\"\n",
    "tokenized_dataset = split.map(tokenize_fn, batched = True)\n",
    "# After that we will get tokenized data which we can directly feed to our model."
   ]
  },
  {
   "cell_type": "markdown",
   "metadata": {},
   "source": [
    "#### Choose a pre-trained model"
   ]
  },
  {
   "cell_type": "code",
   "execution_count": 21,
   "metadata": {},
   "outputs": [],
   "source": [
    "#Import classification model\n",
    "from transformers import AutoModelForSequenceClassification, Trainer, TrainingArguments"
   ]
  },
  {
   "cell_type": "markdown",
   "metadata": {},
   "source": [
    "#### Define a fine-tuning architecture"
   ]
  },
  {
   "cell_type": "code",
   "execution_count": 22,
   "metadata": {},
   "outputs": [
    {
     "name": "stderr",
     "output_type": "stream",
     "text": [
      "Some weights of BertForSequenceClassification were not initialized from the model checkpoint at bert-base-cased and are newly initialized: ['classifier.bias', 'classifier.weight']\n",
      "You should probably TRAIN this model on a down-stream task to be able to use it for predictions and inference.\n"
     ]
    }
   ],
   "source": [
    "# Load model\n",
    "model = AutoModelForSequenceClassification.from_pretrained(checkpoint, num_labels = 2)\n",
    "# If you have a binary classification or sentiment analysis problem then use “num_labels” = 2."
   ]
  },
  {
   "cell_type": "code",
   "execution_count": 24,
   "metadata": {},
   "outputs": [
    {
     "data": {
      "text/plain": [
       "================================================================================\n",
       "Layer (type:depth-idx)                                  Param #\n",
       "================================================================================\n",
       "BertForSequenceClassification                           --\n",
       "├─BertModel: 1-1                                        --\n",
       "│    └─BertEmbeddings: 2-1                              --\n",
       "│    │    └─Embedding: 3-1                              22,268,928\n",
       "│    │    └─Embedding: 3-2                              393,216\n",
       "│    │    └─Embedding: 3-3                              1,536\n",
       "│    │    └─LayerNorm: 3-4                              1,536\n",
       "│    │    └─Dropout: 3-5                                --\n",
       "│    └─BertEncoder: 2-2                                 --\n",
       "│    │    └─ModuleList: 3-6                             85,054,464\n",
       "│    └─BertPooler: 2-3                                  --\n",
       "│    │    └─Linear: 3-7                                 590,592\n",
       "│    │    └─Tanh: 3-8                                   --\n",
       "├─Dropout: 1-2                                          --\n",
       "├─Linear: 1-3                                           1,538\n",
       "================================================================================\n",
       "Total params: 108,311,810\n",
       "Trainable params: 108,311,810\n",
       "Non-trainable params: 0\n",
       "================================================================================"
      ]
     },
     "execution_count": 24,
     "metadata": {},
     "output_type": "execute_result"
    }
   ],
   "source": [
    "# print the model summary\n",
    "from torchinfo import summary\n",
    "summary(model)\n",
    "# Model has more than 108 M parameters and all they are trainable."
   ]
  },
  {
   "cell_type": "markdown",
   "metadata": {},
   "source": [
    "#### Compile the model"
   ]
  },
  {
   "cell_type": "code",
   "execution_count": 25,
   "metadata": {},
   "outputs": [],
   "source": [
    "training_args = TrainingArguments(output_dir='training_dir',\n",
    "                                  evaluation_strategy='epoch',\n",
    "                                  save_strategy='epoch',\n",
    "                                  num_train_epochs=3,\n",
    "                                  per_device_train_batch_size=16,\n",
    "                                  per_device_eval_batch_size=64,\n",
    "                                  )"
   ]
  },
  {
   "cell_type": "code",
   "execution_count": 26,
   "metadata": {},
   "outputs": [],
   "source": [
    "#Define evaluation metrics, which we will pass during training\n",
    "def compute_metrics(logits_and_labels):\n",
    "  logits, labels = logits_and_labels\n",
    "  predictions = np.argmax(logits, axis=-1)\n",
    "  acc = np.mean(predictions == labels)\n",
    "  f1 = f1_score(labels, predictions, average = 'micro')\n",
    "  return {'accuracy': acc, 'f1_score': f1}"
   ]
  },
  {
   "cell_type": "markdown",
   "metadata": {},
   "source": [
    "#### Train the model"
   ]
  },
  {
   "cell_type": "code",
   "execution_count": 27,
   "metadata": {},
   "outputs": [
    {
     "name": "stderr",
     "output_type": "stream",
     "text": [
      "c:\\Users\\gaend\\AppData\\Local\\Programs\\Python\\Python312\\Lib\\site-packages\\accelerate\\accelerator.py:432: FutureWarning: Passing the following arguments to `Accelerator` is deprecated and will be removed in version 1.0 of Accelerate: dict_keys(['dispatch_batches', 'split_batches', 'even_batches', 'use_seedable_sampler']). Please pass an `accelerate.DataLoaderConfiguration` instead: \n",
      "dataloader_config = DataLoaderConfiguration(dispatch_batches=None, split_batches=False, even_batches=True, use_seedable_sampler=True)\n",
      "  warnings.warn(\n"
     ]
    }
   ],
   "source": [
    "trainer = Trainer(model,\n",
    "                  training_args,\n",
    "                  train_dataset = tokenized_dataset[\"train\"],\n",
    "                  eval_dataset = tokenized_dataset[\"test\"],\n",
    "                  tokenizer=tokernizer,\n",
    "                  compute_metrics=compute_metrics)"
   ]
  },
  {
   "cell_type": "code",
   "execution_count": 28,
   "metadata": {},
   "outputs": [
    {
     "name": "stderr",
     "output_type": "stream",
     "text": [
      " 22%|██▏       | 500/2265 [02:54<08:16,  3.55it/s]  "
     ]
    },
    {
     "name": "stdout",
     "output_type": "stream",
     "text": [
      "{'loss': 0.0704, 'grad_norm': 0.0011298571480438113, 'learning_rate': 3.896247240618102e-05, 'epoch': 0.66}\n"
     ]
    },
    {
     "name": "stderr",
     "output_type": "stream",
     "text": [
      "                                                  \n",
      " 33%|███▎      | 755/2265 [07:20<09:16,  2.72it/s]"
     ]
    },
    {
     "name": "stdout",
     "output_type": "stream",
     "text": [
      "{'eval_loss': 0.06577085703611374, 'eval_accuracy': 0.9537773359840954, 'eval_f1_score': 0.9537773359840954, 'eval_runtime': 195.429, 'eval_samples_per_second': 20.591, 'eval_steps_per_second': 0.322, 'epoch': 1.0}\n"
     ]
    },
    {
     "name": "stderr",
     "output_type": "stream",
     "text": [
      " 44%|████▍     | 1000/2265 [08:43<05:59,  3.52it/s]  "
     ]
    },
    {
     "name": "stdout",
     "output_type": "stream",
     "text": [
      "{'loss': 0.0627, 'grad_norm': 1.12957763671875, 'learning_rate': 2.792494481236203e-05, 'epoch': 1.32}\n"
     ]
    },
    {
     "name": "stderr",
     "output_type": "stream",
     "text": [
      " 66%|██████▌   | 1500/2265 [11:36<03:20,  3.82it/s]"
     ]
    },
    {
     "name": "stdout",
     "output_type": "stream",
     "text": [
      "{'loss': 0.0643, 'grad_norm': 1.2947920560836792, 'learning_rate': 1.688741721854305e-05, 'epoch': 1.99}\n"
     ]
    },
    {
     "name": "stderr",
     "output_type": "stream",
     "text": [
      "                                                   \n",
      " 67%|██████▋   | 1510/2265 [14:54<04:52,  2.58it/s]"
     ]
    },
    {
     "name": "stdout",
     "output_type": "stream",
     "text": [
      "{'eval_loss': 0.06659560650587082, 'eval_accuracy': 0.9515407554671969, 'eval_f1_score': 0.9515407554671969, 'eval_runtime': 193.8733, 'eval_samples_per_second': 20.756, 'eval_steps_per_second': 0.325, 'epoch': 2.0}\n"
     ]
    },
    {
     "name": "stderr",
     "output_type": "stream",
     "text": [
      " 88%|████████▊ | 2001/2265 [17:41<01:13,  3.59it/s]   "
     ]
    },
    {
     "name": "stdout",
     "output_type": "stream",
     "text": [
      "{'loss': 0.0618, 'grad_norm': 0.0003937057335861027, 'learning_rate': 5.8498896247240626e-06, 'epoch': 2.65}\n"
     ]
    },
    {
     "name": "stderr",
     "output_type": "stream",
     "text": [
      "                                                   \n",
      "100%|██████████| 2265/2265 [22:34<00:00,  2.80it/s]"
     ]
    },
    {
     "name": "stdout",
     "output_type": "stream",
     "text": [
      "{'eval_loss': 0.06571969389915466, 'eval_accuracy': 0.9537773359840954, 'eval_f1_score': 0.9537773359840954, 'eval_runtime': 194.8532, 'eval_samples_per_second': 20.651, 'eval_steps_per_second': 0.323, 'epoch': 3.0}\n"
     ]
    },
    {
     "name": "stderr",
     "output_type": "stream",
     "text": [
      "100%|██████████| 2265/2265 [22:44<00:00,  1.66it/s]"
     ]
    },
    {
     "name": "stdout",
     "output_type": "stream",
     "text": [
      "{'train_runtime': 1364.8483, 'train_samples_per_second': 26.53, 'train_steps_per_second': 1.66, 'train_loss': 0.06463423975256105, 'epoch': 3.0}\n"
     ]
    },
    {
     "name": "stderr",
     "output_type": "stream",
     "text": [
      "\n"
     ]
    },
    {
     "data": {
      "text/plain": [
       "TrainOutput(global_step=2265, training_loss=0.06463423975256105, metrics={'train_runtime': 1364.8483, 'train_samples_per_second': 26.53, 'train_steps_per_second': 1.66, 'train_loss': 0.06463423975256105, 'epoch': 3.0})"
      ]
     },
     "execution_count": 28,
     "metadata": {},
     "output_type": "execute_result"
    }
   ],
   "source": [
    "trainer.train()"
   ]
  },
  {
   "cell_type": "code",
   "execution_count": 30,
   "metadata": {},
   "outputs": [
    {
     "name": "stdout",
     "output_type": "stream",
     "text": [
      " Volume in drive D is ������� ���\n",
      " Volume Serial Number is 762D-C4F5\n",
      "\n",
      " Directory of d:\\Python\\ML\\Amazinum\\Homeworks\\llm\\training_dir\n",
      "\n",
      "16/03/2024  19:34    <DIR>          .\n",
      "16/03/2024  18:57    <DIR>          ..\n",
      "16/03/2024  19:26    <DIR>          checkpoint-1510\n",
      "16/03/2024  19:34    <DIR>          checkpoint-2265\n",
      "16/03/2024  19:19    <DIR>          checkpoint-755\n",
      "16/03/2024  19:03    <DIR>          checkpoint-756\n",
      "16/03/2024  19:11    <DIR>          runs\n",
      "               0 File(s)              0 bytes\n",
      "               7 Dir(s)  453,333,098,496 bytes free\n"
     ]
    }
   ],
   "source": [
    "!dir training_dir\n",
    "#As we can see there are 3 checkpoints, we will select first model as it has highest performance."
   ]
  },
  {
   "cell_type": "markdown",
   "metadata": {},
   "source": [
    "#### Evaluate the model"
   ]
  },
  {
   "cell_type": "code",
   "execution_count": 31,
   "metadata": {},
   "outputs": [],
   "source": [
    "from transformers import pipeline"
   ]
  },
  {
   "cell_type": "code",
   "execution_count": 34,
   "metadata": {},
   "outputs": [
    {
     "name": "stdout",
     "output_type": "stream",
     "text": [
      "WARNING:tensorflow:From c:\\Users\\gaend\\AppData\\Local\\Programs\\Python\\Python312\\Lib\\site-packages\\tf_keras\\src\\losses.py:2976: The name tf.losses.sparse_softmax_cross_entropy is deprecated. Please use tf.compat.v1.losses.sparse_softmax_cross_entropy instead.\n",
      "\n"
     ]
    }
   ],
   "source": [
    "saved_model = pipeline('text-classification',\n",
    "                       model = 'training_dir/checkpoint-2265')"
   ]
  },
  {
   "cell_type": "markdown",
   "metadata": {},
   "source": [
    "#### Get test set"
   ]
  },
  {
   "cell_type": "code",
   "execution_count": 35,
   "metadata": {},
   "outputs": [
    {
     "data": {
      "text/plain": [
       "Dataset({\n",
       "    features: ['sentence', 'label'],\n",
       "    num_rows: 4024\n",
       "})"
      ]
     },
     "execution_count": 35,
     "metadata": {},
     "output_type": "execute_result"
    }
   ],
   "source": [
    "split['test']"
   ]
  },
  {
   "cell_type": "markdown",
   "metadata": {},
   "source": [
    "#### Get predictions"
   ]
  },
  {
   "cell_type": "code",
   "execution_count": 36,
   "metadata": {},
   "outputs": [],
   "source": [
    "predictions = saved_model(split['test']['sentence'])"
   ]
  },
  {
   "cell_type": "code",
   "execution_count": 39,
   "metadata": {},
   "outputs": [
    {
     "name": "stdout",
     "output_type": "stream",
     "text": [
      "Text: @united thank you! 😊\n",
      "True label: 0\n",
      "Predicted label: LABEL_0\n",
      "Predicted score: 1.00\n",
      "\n",
      "Text: @SouthwestAir Thank you SWA and Shannon G. @LASairport (C22) for being a miracle worker! #awesome\n",
      "True label: 0\n",
      "Predicted label: LABEL_0\n",
      "Predicted score: 1.00\n",
      "\n",
      "Text: @SouthwestAir flying flight 3130 tonight at 7:20 from PBI- I have boarding position C-42. Is flight overbooked? Have funeral to attend!\n",
      "True label: 0\n",
      "Predicted label: LABEL_0\n",
      "Predicted score: 1.00\n",
      "\n",
      "Text: @SouthwestAir 4-4 in horrible customer service. Empty seats in early flight wantcharge me double to get home early instead the usual Late Flight\n",
      "True label: 0\n",
      "Predicted label: LABEL_0\n",
      "Predicted score: 1.00\n",
      "\n",
      "Text: What is the modern understanding of the relationship between cats and Sudden Infant Death Syndrome (SIDS)?\n",
      "True label: 1\n",
      "Predicted label: LABEL_1\n",
      "Predicted score: 0.53\n",
      "\n"
     ]
    }
   ],
   "source": [
    "#printout few predictions\n",
    "n_predictions = 5\n",
    "\n",
    "for i in range(n_predictions):\n",
    "    print(f\"Text: {split['test']['sentence'][i]}\")\n",
    "    print(f\"True label: {split['test']['label'][i]}\")\n",
    "    print(f\"Predicted label: {predictions[i]['label']}\")\n",
    "    print(f\"Predicted score: {predictions[i]['score']:.2f}\")\n",
    "    print()"
   ]
  },
  {
   "cell_type": "code",
   "execution_count": 40,
   "metadata": {},
   "outputs": [],
   "source": [
    "def get_label(d):\n",
    "  return int(d['label'].split('_')[1])\n",
    "predictions = [get_label(d) for d in predictions]"
   ]
  },
  {
   "cell_type": "code",
   "execution_count": 41,
   "metadata": {},
   "outputs": [
    {
     "name": "stdout",
     "output_type": "stream",
     "text": [
      "acc: 0.9537773359840954\n"
     ]
    }
   ],
   "source": [
    "print(\"acc:\",accuracy_score(split['test']['label'], predictions))"
   ]
  },
  {
   "cell_type": "code",
   "execution_count": 42,
   "metadata": {},
   "outputs": [
    {
     "name": "stdout",
     "output_type": "stream",
     "text": [
      "f1: 0.8260951998572448\n"
     ]
    }
   ],
   "source": [
    "#Calculate f1 score\n",
    "print(\"f1:\",f1_score(split['test']['label'], predictions, average = 'macro'))"
   ]
  },
  {
   "cell_type": "markdown",
   "metadata": {},
   "source": [
    "#### Plot confusion matrix"
   ]
  },
  {
   "cell_type": "code",
   "execution_count": 43,
   "metadata": {},
   "outputs": [
    {
     "data": {
      "image/png": "[encoded data removed]",
      "text/plain": [
       "<Figure size 640x480 with 2 Axes>"
      ]
     },
     "metadata": {},
     "output_type": "display_data"
    }
   ],
   "source": [
    "# create function for plotting confusion matrix\n",
    "def plot_cm(cm):\n",
    "  classes = ['non-cat', 'cat']\n",
    "  df_cm = pd.DataFrame(cm, index=classes, columns=classes)\n",
    "  ax = sns.heatmap(df_cm, annot = True, fmt='g')\n",
    "  ax.set_xlabel('Predicted')\n",
    "  ax.set_ylabel('Actual')\n",
    "\n",
    "cm = confusion_matrix(split['test']['label'],predictions, normalize = 'true')\n",
    "plot_cm(cm)"
   ]
  }
 ],
 "metadata": {
  "kernelspec": {
   "display_name": "camp_text_class",
   "language": "python",
   "name": "python3"
  },
  "language_info": {
   "codemirror_mode": {
    "name": "ipython",
    "version": 3
   },
   "file_extension": ".py",
   "mimetype": "text/x-python",
   "name": "python",
   "nbconvert_exporter": "python",
   "pygments_lexer": "ipython3",
   "version": "3.12.1"
  }
 },
 "nbformat": 4,
 "nbformat_minor": 2
}
